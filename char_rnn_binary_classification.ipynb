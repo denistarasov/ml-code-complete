{
  "nbformat": 4,
  "nbformat_minor": 0,
  "metadata": {
    "colab": {
      "name": "Char-RNN_binary_classification.ipynb",
      "version": "0.3.2",
      "provenance": [],
      "collapsed_sections": []
    },
    "language_info": {
      "codemirror_mode": {
        "name": "ipython",
        "version": 3
      },
      "file_extension": ".py",
      "mimetype": "text/x-python",
      "name": "python",
      "nbconvert_exporter": "python",
      "pygments_lexer": "ipython3",
      "version": "3.7.3"
    },
    "kernelspec": {
      "display_name": "Python 3",
      "language": "python",
      "name": "python3"
    },
    "accelerator": "GPU"
  },
  "cells": [
    {
      "cell_type": "markdown",
      "metadata": {
        "colab_type": "text",
        "id": "t_bV546-3JVF"
      },
      "source": [
        "## Импорты"
      ]
    },
    {
      "cell_type": "code",
      "metadata": {
        "colab_type": "code",
        "id": "SGIPKkSG3JVG",
        "colab": {}
      },
      "source": [
        "%matplotlib inline\n",
        "import matplotlib.pyplot as plt\n",
        "\n",
        "import torch\n",
        "import torch.nn as nn\n",
        "import torch.nn.functional as F\n",
        "import torch.optim as optim\n",
        "from torch.utils.data import Dataset, DataLoader\n",
        "\n",
        "import os\n",
        "from tqdm import tqdm_notebook, trange, tqdm\n",
        "import pickle\n",
        "import numpy as np\n",
        "from IPython.display import clear_output\n",
        "import time\n",
        "import string"
      ],
      "execution_count": 0,
      "outputs": []
    },
    {
      "cell_type": "code",
      "metadata": {
        "colab_type": "code",
        "id": "oa2jzP-N3JVI",
        "colab": {}
      },
      "source": [
        "device = torch.device('cuda:0' if torch.cuda.is_available() else 'cpu')\n"
      ],
      "execution_count": 0,
      "outputs": []
    },
    {
      "cell_type": "code",
      "metadata": {
        "colab_type": "code",
        "id": "1WoL992vCADZ",
        "outputId": "ecec823e-c229-44b8-ef7c-04b412c4c277",
        "colab": {
          "base_uri": "https://localhost:8080/",
          "height": 34
        }
      },
      "source": [
        "device"
      ],
      "execution_count": 0,
      "outputs": [
        {
          "output_type": "execute_result",
          "data": {
            "text/plain": [
              "device(type='cuda', index=0)"
            ]
          },
          "metadata": {
            "tags": []
          },
          "execution_count": 3
        }
      ]
    },
    {
      "cell_type": "code",
      "metadata": {
        "colab_type": "code",
        "id": "jYSCFL3a7ISw",
        "colab": {}
      },
      "source": [
        "# !pip install telepyth -q\n",
        "\n",
        "# from telepyth import TelepythClient\n",
        "\n",
        "# tp = TelepythClient(\"14890519403566776828\")"
      ],
      "execution_count": 0,
      "outputs": []
    },
    {
      "cell_type": "markdown",
      "metadata": {
        "colab_type": "text",
        "id": "5tEoWJ7f3JVJ"
      },
      "source": [
        "# Предобработка"
      ]
    },
    {
      "cell_type": "code",
      "metadata": {
        "colab_type": "code",
        "id": "bnR1yqKZBiqi",
        "outputId": "a27cc444-991c-4edb-e2af-bcdb5b1ab97c",
        "colab": {
          "base_uri": "https://localhost:8080/",
          "height": 54
        }
      },
      "source": [
        "from google.colab import drive\n",
        "drive.mount('/content/drive')"
      ],
      "execution_count": 0,
      "outputs": [
        {
          "output_type": "stream",
          "text": [
            "Drive already mounted at /content/drive; to attempt to forcibly remount, call drive.mount(\"/content/drive\", force_remount=True).\n"
          ],
          "name": "stdout"
        }
      ]
    },
    {
      "cell_type": "code",
      "metadata": {
        "colab_type": "code",
        "id": "9NGHmxL23JVK",
        "colab": {}
      },
      "source": [
        "base_path = '/content/drive/My Drive/vkr'\n",
        "# base_path = '.'"
      ],
      "execution_count": 0,
      "outputs": []
    },
    {
      "cell_type": "markdown",
      "metadata": {
        "id": "UG54Ov4NVd2M",
        "colab_type": "text"
      },
      "source": [
        "- брать код из обычных репозиториев, а разбивку — из нормализованных\n",
        "- сначала делаем выборку максимально без изворотов:\n",
        "    - каждый файл нарезаем на части по n символов в каждом, если в последнем куске не n — выбрасываем\n",
        "    - сохраняем выборку в файл pickle, пример: `[[\"import pickl\",1], ...]` (потому что дальше идет \"е\", вероятно)\n",
        "- преобразовать в удобный для модели формат:\n",
        "    - вместо строк — массив чисел, где каждое число биективно соответствует символу\n",
        "    \n",
        "- модель учится предсказывать n+1 символ, если он eng letter, то это 1, иначе 0"
      ]
    },
    {
      "cell_type": "code",
      "metadata": {
        "id": "bfpRKH_SVd2N",
        "colab_type": "code",
        "colab": {}
      },
      "source": [
        "# class PreprocessDataset():\n",
        "#     def __init__(\n",
        "#         self,\n",
        "#         n,\n",
        "#         path_to_filenames,\n",
        "#         path_to_repo,\n",
        "#         objects_limit,\n",
        "#         check_if_english=True\n",
        "#     ):\n",
        "#         self.n = n\n",
        "#         self.total_count = 0\n",
        "#         self.pos_count = 0\n",
        "#         with open(path_to_filenames, 'r') as f:\n",
        "#             self.filenames = f.read().split('\\n')\n",
        "#         self.path_to_repo = path_to_repo\n",
        "#         self.dataset_dictionary = set()\n",
        "#         self.objects_limit = objects_limit\n",
        "#         self.check_if_english = check_if_english\n",
        "#         self.allowed_letters = set(string.printable)\n",
        "\n",
        "#     def update_dataset_dictionary(self, code):\n",
        "#         self.dataset_dictionary.update(set(code))\n",
        "        \n",
        "#     def is_english(self, code):\n",
        "#         for char in code:\n",
        "#             if char not in self.allowed_letters:\n",
        "#                 return False\n",
        "#         return True\n",
        "\n",
        "#     def process_code(self, code):\n",
        "#         self.update_dataset_dictionary(code)\n",
        "#         chunks, chunk_size = len(code), self.n\n",
        "#         slices = [code[i:i+chunk_size] for i in range(0, chunks, chunk_size)]\n",
        "#         self.total_count += len(slices) - 1\n",
        "#         targets = []\n",
        "#         for i in range(len(slices) - 1):\n",
        "#             if slices[i+1][0].isalpha():\n",
        "#                 self.pos_count += 1\n",
        "#                 targets.append(True)\n",
        "#             else:\n",
        "#                 targets.append(False)\n",
        "#         slices = slices[:-1]\n",
        "#         objects_from_code = list(zip(slices, targets))\n",
        "#         return objects_from_code\n",
        "        \n",
        "#     def make_dataset(self):\n",
        "#         fidx = 0\n",
        "#         pbar = tqdm(total=self.objects_limit)\n",
        "#         objects_from_code = []\n",
        "#         while self.total_count < self.objects_limit:\n",
        "#             with open(\n",
        "#                 self.path_to_repo + self.filenames[fidx],\n",
        "#                 'r'\n",
        "#             ) as code_file:\n",
        "#                 code = code_file.read()\n",
        "#             fidx += 1\n",
        "#             if self.check_if_english and not self.is_english(code):\n",
        "#                 continue\n",
        "#             objects_from_code += self.process_code(code)\n",
        "#             pbar.update(self.total_count)\n",
        "#         pbar.close()\n",
        "# #         print(objects_from_code)\n",
        "\n",
        "#         print('Number of positives samples is {} out of {} ({:.2f}%)'.format(\n",
        "#             self.pos_count,\n",
        "#             self.total_count,\n",
        "#             100. * self.pos_count / self.total_count\n",
        "#         ))\n",
        "        \n",
        "# #         print(len(self.dataset_dictionary), self.dataset_dictionary)\n",
        "        \n",
        "#         return objects_from_code\n"
      ],
      "execution_count": 0,
      "outputs": []
    },
    {
      "cell_type": "code",
      "metadata": {
        "id": "tLDPgNyxVd2P",
        "colab_type": "code",
        "outputId": "75107c9e-4b39-496b-fac8-71dad7074796",
        "colab": {}
      },
      "source": [
        "# prep_dataset = PreprocessDataset(\n",
        "#     20,\n",
        "#     base_path + '/pycodesuggest_py_repos_normalised/train_files.txt',\n",
        "#     base_path + '/pycodesuggest_py_repos_normalised/',\n",
        "#     objects_limit=5000000\n",
        "# )\n",
        "# objects_from_code = prep_dataset.make_dataset()\n"
      ],
      "execution_count": 0,
      "outputs": [
        {
          "output_type": "stream",
          "text": [
            "31566657837it [00:25, 1221527424.58it/s]                      "
          ],
          "name": "stderr"
        },
        {
          "output_type": "stream",
          "text": [
            "Number of positives samples is 2565009 out of 5000289 (51.30%)\n"
          ],
          "name": "stdout"
        },
        {
          "output_type": "stream",
          "text": [
            "\n"
          ],
          "name": "stderr"
        }
      ]
    },
    {
      "cell_type": "code",
      "metadata": {
        "id": "uod1Jpd_Vd2T",
        "colab_type": "code",
        "outputId": "1054ec34-09e2-4397-b40c-f77354362fdb",
        "colab": {}
      },
      "source": [
        "# objects_from_code[:10]"
      ],
      "execution_count": 0,
      "outputs": [
        {
          "output_type": "execute_result",
          "data": {
            "text/plain": [
              "[('import json\\nimport o', True),\n",
              " ('s\\nimport sys\\ntry:\\n  ', False),\n",
              " ('  import urllib.requ', True),\n",
              " ('est as urllib2\\nexcep', True),\n",
              " ('t ImportError:\\n    i', True),\n",
              " ('mport urllib2\\nvar266', False),\n",
              " (\"5 = 'https://tldr-bo\", True),\n",
              " ('t.starbeamrainbowlab', True),\n",
              " (\"s.com/'\\n\\n\\ndef functi\", True),\n",
              " ('on2743(arg1358, arg5', False)]"
            ]
          },
          "metadata": {
            "tags": []
          },
          "execution_count": 22
        }
      ]
    },
    {
      "cell_type": "code",
      "metadata": {
        "id": "YfpX7jkPVd2W",
        "colab_type": "code",
        "outputId": "9fd25fe8-a616-4aa1-a090-b9262d68a6d7",
        "colab": {}
      },
      "source": [
        "prep_dataset.dataset_dictionary"
      ],
      "execution_count": 0,
      "outputs": [
        {
          "output_type": "execute_result",
          "data": {
            "text/plain": [
              "{'\\t',\n",
              " '\\n',\n",
              " '\\x0c',\n",
              " ' ',\n",
              " '!',\n",
              " '\"',\n",
              " '#',\n",
              " '$',\n",
              " '%',\n",
              " '&',\n",
              " \"'\",\n",
              " '(',\n",
              " ')',\n",
              " '*',\n",
              " '+',\n",
              " ',',\n",
              " '-',\n",
              " '.',\n",
              " '/',\n",
              " '0',\n",
              " '1',\n",
              " '2',\n",
              " '3',\n",
              " '4',\n",
              " '5',\n",
              " '6',\n",
              " '7',\n",
              " '8',\n",
              " '9',\n",
              " ':',\n",
              " ';',\n",
              " '<',\n",
              " '=',\n",
              " '>',\n",
              " '?',\n",
              " '@',\n",
              " 'A',\n",
              " 'B',\n",
              " 'C',\n",
              " 'D',\n",
              " 'E',\n",
              " 'F',\n",
              " 'G',\n",
              " 'H',\n",
              " 'I',\n",
              " 'J',\n",
              " 'K',\n",
              " 'L',\n",
              " 'M',\n",
              " 'N',\n",
              " 'O',\n",
              " 'P',\n",
              " 'Q',\n",
              " 'R',\n",
              " 'S',\n",
              " 'T',\n",
              " 'U',\n",
              " 'V',\n",
              " 'W',\n",
              " 'X',\n",
              " 'Y',\n",
              " 'Z',\n",
              " '[',\n",
              " '\\\\',\n",
              " ']',\n",
              " '^',\n",
              " '_',\n",
              " '`',\n",
              " 'a',\n",
              " 'b',\n",
              " 'c',\n",
              " 'd',\n",
              " 'e',\n",
              " 'f',\n",
              " 'g',\n",
              " 'h',\n",
              " 'i',\n",
              " 'j',\n",
              " 'k',\n",
              " 'l',\n",
              " 'm',\n",
              " 'n',\n",
              " 'o',\n",
              " 'p',\n",
              " 'q',\n",
              " 'r',\n",
              " 's',\n",
              " 't',\n",
              " 'u',\n",
              " 'v',\n",
              " 'w',\n",
              " 'x',\n",
              " 'y',\n",
              " 'z',\n",
              " '{',\n",
              " '|',\n",
              " '}',\n",
              " '~'}"
            ]
          },
          "metadata": {
            "tags": []
          },
          "execution_count": 26
        }
      ]
    },
    {
      "cell_type": "code",
      "metadata": {
        "id": "q_xLdvGGVd2Y",
        "colab_type": "code",
        "colab": {}
      },
      "source": [
        "with open(base_path + '/objects_from_code.pickle', 'rb') as f:\n",
        "    objects_from_code = pickle.load(f)\n"
      ],
      "execution_count": 0,
      "outputs": []
    },
    {
      "cell_type": "code",
      "metadata": {
        "id": "GlP4t5ppVd2a",
        "colab_type": "code",
        "colab": {}
      },
      "source": [
        ""
      ],
      "execution_count": 0,
      "outputs": []
    },
    {
      "cell_type": "code",
      "metadata": {
        "id": "zUAJgqdZVd2c",
        "colab_type": "code",
        "colab": {}
      },
      "source": [
        ""
      ],
      "execution_count": 0,
      "outputs": []
    },
    {
      "cell_type": "code",
      "metadata": {
        "id": "J-Yz4Yb_Vd2e",
        "colab_type": "code",
        "colab": {}
      },
      "source": [
        ""
      ],
      "execution_count": 0,
      "outputs": []
    },
    {
      "cell_type": "code",
      "metadata": {
        "id": "kYo1xomkVd2f",
        "colab_type": "code",
        "colab": {}
      },
      "source": [
        "tokens = set(['\\t', '\\n', '\\x0c', ' ', '!', '\"', '#', '$', '%', '&', \"'\",\n",
        "             '(', ')', '*', '+', ',', '-', '.', '/', '0', '1', '2', '3',\n",
        "             '4', '5', '6', '7', '8', '9', ':', ';', '<', '=', '>', '?',\n",
        "             '@', 'A', 'B', 'C', 'D', 'E', 'F', 'G', 'H', 'I', 'J', 'K',\n",
        "             'L', 'M', 'N', 'O', 'P', 'Q', 'R', 'S', 'T', 'U', 'V', 'W',\n",
        "             'X', 'Y', 'Z', '[', '\\\\', ']', '^', '_', '`', 'a', 'b', 'c',\n",
        "             'd', 'e', 'f', 'g', 'h', 'i', 'j', 'k', 'l', 'm', 'n', 'o',\n",
        "             'p', 'q', 'r', 's', 't', 'u', 'v', 'w', 'x', 'y', 'z', '{',\n",
        "             '|', '}', '~']\n",
        "         )\n",
        "tok2id = dict(zip(tokens, range(len(tokens))))\n",
        "id2tok = dict(list(map(lambda x: x[::-1], list(tok2id.items()))))"
      ],
      "execution_count": 0,
      "outputs": []
    },
    {
      "cell_type": "code",
      "metadata": {
        "id": "iPIHLv3OVd2h",
        "colab_type": "code",
        "outputId": "f46e693b-c791-48a9-dfd8-5b5843ebfb99",
        "colab": {
          "base_uri": "https://localhost:8080/",
          "height": 1683
        }
      },
      "source": [
        "tok2id"
      ],
      "execution_count": 0,
      "outputs": [
        {
          "output_type": "execute_result",
          "data": {
            "text/plain": [
              "{'\\t': 82,\n",
              " '\\n': 9,\n",
              " '\\x0c': 34,\n",
              " ' ': 86,\n",
              " '!': 22,\n",
              " '\"': 81,\n",
              " '#': 1,\n",
              " '$': 94,\n",
              " '%': 32,\n",
              " '&': 25,\n",
              " \"'\": 76,\n",
              " '(': 43,\n",
              " ')': 78,\n",
              " '*': 54,\n",
              " '+': 40,\n",
              " ',': 63,\n",
              " '-': 6,\n",
              " '.': 59,\n",
              " '/': 17,\n",
              " '0': 21,\n",
              " '1': 79,\n",
              " '2': 80,\n",
              " '3': 97,\n",
              " '4': 58,\n",
              " '5': 44,\n",
              " '6': 33,\n",
              " '7': 13,\n",
              " '8': 68,\n",
              " '9': 11,\n",
              " ':': 52,\n",
              " ';': 61,\n",
              " '<': 27,\n",
              " '=': 39,\n",
              " '>': 42,\n",
              " '?': 20,\n",
              " '@': 64,\n",
              " 'A': 31,\n",
              " 'B': 65,\n",
              " 'C': 83,\n",
              " 'D': 75,\n",
              " 'E': 35,\n",
              " 'F': 49,\n",
              " 'G': 7,\n",
              " 'H': 2,\n",
              " 'I': 14,\n",
              " 'J': 85,\n",
              " 'K': 0,\n",
              " 'L': 84,\n",
              " 'M': 55,\n",
              " 'N': 73,\n",
              " 'O': 29,\n",
              " 'P': 24,\n",
              " 'Q': 91,\n",
              " 'R': 95,\n",
              " 'S': 72,\n",
              " 'T': 37,\n",
              " 'U': 53,\n",
              " 'V': 92,\n",
              " 'W': 18,\n",
              " 'X': 74,\n",
              " 'Y': 57,\n",
              " 'Z': 87,\n",
              " '[': 36,\n",
              " '\\\\': 62,\n",
              " ']': 45,\n",
              " '^': 30,\n",
              " '_': 8,\n",
              " '`': 41,\n",
              " 'a': 4,\n",
              " 'b': 23,\n",
              " 'c': 71,\n",
              " 'd': 3,\n",
              " 'e': 60,\n",
              " 'f': 51,\n",
              " 'g': 67,\n",
              " 'h': 15,\n",
              " 'i': 38,\n",
              " 'j': 89,\n",
              " 'k': 88,\n",
              " 'l': 56,\n",
              " 'm': 10,\n",
              " 'n': 47,\n",
              " 'o': 46,\n",
              " 'p': 16,\n",
              " 'q': 93,\n",
              " 'r': 50,\n",
              " 's': 70,\n",
              " 't': 26,\n",
              " 'u': 96,\n",
              " 'v': 90,\n",
              " 'w': 12,\n",
              " 'x': 5,\n",
              " 'y': 48,\n",
              " 'z': 77,\n",
              " '{': 28,\n",
              " '|': 19,\n",
              " '}': 66,\n",
              " '~': 69}"
            ]
          },
          "metadata": {
            "tags": []
          },
          "execution_count": 8
        }
      ]
    },
    {
      "cell_type": "code",
      "metadata": {
        "id": "yx7a-kjnVd2k",
        "colab_type": "code",
        "colab": {}
      },
      "source": [
        ""
      ],
      "execution_count": 0,
      "outputs": []
    },
    {
      "cell_type": "code",
      "metadata": {
        "id": "mB3mAFTsVd2n",
        "colab_type": "code",
        "colab": {}
      },
      "source": [
        "def convert_for_model(code_samples):\n",
        "    max_len = len(code_samples[0][0])\n",
        "    converted_code = np.zeros([len(code_samples), max_len], np.int64)\n",
        "\n",
        "    for i in range(len(code_samples)):\n",
        "        obj = list(map(tok2id.get, code_samples[i][0]))\n",
        "        converted_code[i, :] = obj\n",
        "    targets = np.array(list(map(lambda pair: pair[1], code_samples)), np.bool)\n",
        "\n",
        "    return converted_code, targets"
      ],
      "execution_count": 0,
      "outputs": []
    },
    {
      "cell_type": "code",
      "metadata": {
        "id": "LhKXWyfxVd2x",
        "colab_type": "code",
        "outputId": "5fc75b47-bd28-46cd-9c42-8037da45b113",
        "colab": {
          "base_uri": "https://localhost:8080/",
          "height": 51
        }
      },
      "source": [
        "%%time\n",
        "X_train, y_train = convert_for_model(objects_from_code)"
      ],
      "execution_count": 0,
      "outputs": [
        {
          "output_type": "stream",
          "text": [
            "CPU times: user 19.7 s, sys: 277 ms, total: 20 s\n",
            "Wall time: 20 s\n"
          ],
          "name": "stdout"
        }
      ]
    },
    {
      "cell_type": "code",
      "metadata": {
        "colab_type": "code",
        "id": "xr-HXCea3JVM",
        "colab": {}
      },
      "source": [
        "class PredictionNeedCheckerRNN(nn.Module):\n",
        "    def __init__(\n",
        "        self,\n",
        "        vocab_size,\n",
        "        hidden_size,\n",
        "        batch_size,\n",
        "        n_layers=1\n",
        "    ):\n",
        "        super(PredictionNeedCheckerRNN, self).__init__()\n",
        "        self.vocab_size = vocab_size\n",
        "        self.hidden_size = hidden_size\n",
        "        self.n_layers = n_layers\n",
        "        \n",
        "#         <your code>\n",
        "        self.emb = nn.Embedding(self.vocab_size, self.hidden_size)\n",
        "        self.batch_size = batch_size\n",
        "        self.lstm = torch.nn.LSTM(self.hidden_size, self.hidden_size, self.n_layers)\n",
        "        self.lin = nn.Linear(self.hidden_size, 1)\n",
        "        self.act = nn.Sigmoid()\n",
        "        \n",
        "    def forward(self, inputs):\n",
        "#         embs = self.emb(inputs).shape\n",
        "#         print(inputs.shape)\n",
        "        hidden = self.init_hidden()\n",
        "        for i in range(inputs.shape[1]):\n",
        "            # todo check\n",
        "            embs = self.emb(inputs[:, i])\n",
        "#             print('embs', embs.shape)\n",
        "#             print('embs', embs.view(1, inputs.size(0), -1).shape)\n",
        "            # todo check sizes\n",
        "            _, hidden = self.lstm(embs.view(1, inputs.size(0), -1), hidden)\n",
        "#             output, hidden = model.forward(tensor[:, i], hidden)\n",
        "#         l_out, hidden = self.l(embs.view(1, input.size(0), -1), hidden)\n",
        "        output = self.lin(hidden[0])\n",
        "        output = self.act(output)\n",
        "        return output.view(inputs.shape[0], -1)#, hidden\n",
        "\n",
        "    def init_hidden(self):\n",
        "#         if self.cell == \"lstm\":\n",
        "        return (torch.zeros(\n",
        "                    self.n_layers,\n",
        "                    self.batch_size,\n",
        "                    self.hidden_size,\n",
        "                    requires_grad=True\n",
        "                ),\n",
        "                torch.zeros(\n",
        "                    self.n_layers,\n",
        "                    self.batch_size,\n",
        "                    self.hidden_size,\n",
        "                    requires_grad=True\n",
        "                ))\n",
        "\n",
        "#         return torch.zeros(self.n_layers, self.batch_size, self.hidden_size, requires_grad=True)\n"
      ],
      "execution_count": 0,
      "outputs": []
    },
    {
      "cell_type": "code",
      "metadata": {
        "id": "MpQ0A28jVd21",
        "colab_type": "code",
        "colab": {}
      },
      "source": [
        "vocab_size = len(id2tok)\n",
        "hidden_size = 50\n",
        "batch_size = 512\n",
        "\n",
        "model = PredictionNeedCheckerRNN(vocab_size, hidden_size, batch_size)\n",
        "# hidden = model.init_hidden()\n",
        "# inputs = torch.from_numpy(X_train[:batch_size])\n",
        "# model.forward(inputs)"
      ],
      "execution_count": 0,
      "outputs": []
    },
    {
      "cell_type": "code",
      "metadata": {
        "id": "yPu_zQk3Vd24",
        "colab_type": "code",
        "colab": {}
      },
      "source": [
        "def train_epoch(model, optimizer, train_batches, target_batches):\n",
        "    loss_log = []\n",
        "    model.train()\n",
        "    \n",
        "    correct = 0\n",
        "    total = 0\n",
        "    for batch, target in tqdm_notebook(list(zip(train_batches, target_batches))):\n",
        "#         <your code>\n",
        "        loss_func = nn.BCELoss()\n",
        "        tensor = torch.from_numpy(batch)\n",
        "        output = model.forward(tensor)\n",
        "        probs = np.squeeze(output.detach().numpy())\n",
        "        probs = np.where(probs > 0.5, 1, 0)\n",
        "#         print(probs.shape)\n",
        "#         print(target.shape)\n",
        "#         print((probs == target).shape)\n",
        "        correct += (probs == target).sum()\n",
        "        total += target.shape[0]\n",
        "#         print('target', total, correct)\n",
        "        \n",
        "        \n",
        "        loss = loss_func(output, torch.Tensor(np.array(target, dtype=np.uint8)))\n",
        "        optimizer.zero_grad()\n",
        "        loss.backward()\n",
        "        optimizer.step()\n",
        "\n",
        "        loss = loss.item()\n",
        "        loss_log.append(loss)\n",
        "    return loss_log, correct, total\n",
        "\n",
        "# def test(model, test_batches):\n",
        "#     loss_log = []\n",
        "#     model.eval()\n",
        "#     for batch in test_batches:  \n",
        "        \n",
        "#         nums = to_matrix(batch)\n",
        "#         loss_func = nn.CrossEntropyLoss()\n",
        "#         tensor = torch.from_numpy(nums)\n",
        "#         hidden = model.init_hidden(nums.shape[0])\n",
        "#         loss = 0\n",
        "#         for i in range(nums.shape[1] - 1):\n",
        "#             output, hidden = model.forward(tensor[:, i], hidden)\n",
        "#             loss += loss_func(output, tensor[:, i+1])\n",
        "        \n",
        "#         loss = loss.item()\n",
        "#         loss_log.append(loss)\n",
        "#     return loss_log\n",
        "\n",
        "# def plot_history(train_history, val_history, title='loss'):\n",
        "def plot_history(train_history, title='loss'):\n",
        "    plt.figure()\n",
        "    plt.title('{}'.format(title))\n",
        "    plt.plot(train_history, label='train', zorder=1)    \n",
        "#     points = np.array(val_history)\n",
        "#     plt.scatter(points[:, 0], points[:, 1], marker='+', s=180, c='orange', label='val', zorder=2)\n",
        "    plt.xlabel('train steps')\n",
        "    plt.legend(loc='best')\n",
        "    plt.grid()\n",
        "    plt.show()\n",
        "    \n",
        "def train(model, opt, n_epochs):\n",
        "    train_log = []\n",
        "    val_log = []\n",
        "    \n",
        "    total_steps = 0\n",
        "    limit = len(X_train) // batch_size * batch_size\n",
        "    train_batches, target_batches = X_train[:limit], y_train[:limit]\n",
        "    train_batches = np.split(train_batches, len(train_batches) // batch_size)[:1000]\n",
        "    target_batches = np.split(target_batches, len(target_batches) // batch_size)[:1000]\n",
        "#     test_batches = np.split(val_data, len(val_data) // batch_size)\n",
        "    for epoch in range(n_epochs):\n",
        "        train_loss, correct, total = train_epoch(model, opt, train_batches, target_batches)\n",
        "        train_log.extend(train_loss)\n",
        "#         total_steps += len(train_batches)\n",
        "        \n",
        "#         val_loss = test(model, test_batches)\n",
        "#         train_log.extend(train_loss)\n",
        "        \n",
        "#         val_log.append((len(train_log), np.mean(val_loss)))\n",
        "        \n",
        "        clear_output()\n",
        "        print('Epoch {}'.format(epoch))\n",
        "        print('Accuracy = {} / {} = {:.2f}'.format(correct, total, correct / total))\n",
        "        plot_history(train_log)#, val_log)\n"
      ],
      "execution_count": 0,
      "outputs": []
    },
    {
      "cell_type": "code",
      "metadata": {
        "id": "iYot0lGaTAjh",
        "colab_type": "code",
        "outputId": "e3e63019-8b15-4d7a-a105-c34529706496",
        "colab": {
          "base_uri": "https://localhost:8080/",
          "height": 346
        }
      },
      "source": [
        "# hidden[0] back\n",
        "%%time\n",
        "\n",
        "opt = torch.optim.Adam(model.parameters(), lr=1e-4)\n",
        "train(model, opt, 20)"
      ],
      "execution_count": 70,
      "outputs": [
        {
          "output_type": "stream",
          "text": [
            "Accuracy = 478001 / 512000 = 0.93\n"
          ],
          "name": "stdout"
        },
        {
          "output_type": "display_data",
          "data": {
            "image/png": "[encoded data removed]",
            "text/plain": [
              "<Figure size 432x288 with 1 Axes>"
            ]
          },
          "metadata": {
            "tags": []
          }
        },
        {
          "output_type": "stream",
          "text": [
            "CPU times: user 25min 55s, sys: 1min, total: 26min 56s\n",
            "Wall time: 27min 23s\n"
          ],
          "name": "stdout"
        }
      ]
    },
    {
      "cell_type": "code",
      "metadata": {
        "id": "XuC6EpfRVd2-",
        "colab_type": "code",
        "colab": {}
      },
      "source": [
        "model.eval()\n",
        "model.forward()"
      ],
      "execution_count": 0,
      "outputs": []
    },
    {
      "cell_type": "code",
      "metadata": {
        "id": "IrAIWaMOqKtd",
        "colab_type": "code",
        "outputId": "f019c734-241f-4290-f3f1-dff61aa46160",
        "colab": {
          "base_uri": "https://localhost:8080/",
          "height": 34
        }
      },
      "source": [
        "convert_for_model(objects_from_code[:1])[0].tolist()[0]"
      ],
      "execution_count": 0,
      "outputs": [
        {
          "output_type": "execute_result",
          "data": {
            "text/plain": [
              "[38, 10, 16, 46, 50, 26, 86, 89, 70, 46, 47, 9, 38, 10, 16, 46, 50, 26, 86, 46]"
            ]
          },
          "metadata": {
            "tags": []
          },
          "execution_count": 21
        }
      ]
    },
    {
      "cell_type": "code",
      "metadata": {
        "id": "LTJ-ERhEVd3A",
        "colab_type": "code",
        "outputId": "c5d7810b-06bd-4b9c-9b82-9d0a66a3c82a",
        "colab": {
          "base_uri": "https://localhost:8080/",
          "height": 357
        }
      },
      "source": [
        "list(map(id2tok.get, convert_for_model(objects_from_code[:1])[0].tolist()[0]))"
      ],
      "execution_count": 0,
      "outputs": [
        {
          "output_type": "execute_result",
          "data": {
            "text/plain": [
              "['i',\n",
              " 'm',\n",
              " 'p',\n",
              " 'o',\n",
              " 'r',\n",
              " 't',\n",
              " ' ',\n",
              " 'j',\n",
              " 's',\n",
              " 'o',\n",
              " 'n',\n",
              " '\\n',\n",
              " 'i',\n",
              " 'm',\n",
              " 'p',\n",
              " 'o',\n",
              " 'r',\n",
              " 't',\n",
              " ' ',\n",
              " 'o']"
            ]
          },
          "metadata": {
            "tags": []
          },
          "execution_count": 22
        }
      ]
    },
    {
      "cell_type": "code",
      "metadata": {
        "id": "gjvQ5RRlVd3B",
        "colab_type": "code",
        "colab": {}
      },
      "source": [
        ""
      ],
      "execution_count": 0,
      "outputs": []
    },
    {
      "cell_type": "code",
      "metadata": {
        "id": "uTH-H7WvVd3D",
        "colab_type": "code",
        "colab": {}
      },
      "source": [
        ""
      ],
      "execution_count": 0,
      "outputs": []
    },
    {
      "cell_type": "code",
      "metadata": {
        "id": "Ckvxvjc0Vd3F",
        "colab_type": "code",
        "outputId": "24fa3d13-5b2c-4c81-ed7a-e261d78d62d3",
        "colab": {}
      },
      "source": [
        "limit = len(X_train) // batch_size * batch_size\n",
        "train_data = X_train[:limit]\n",
        "len(np.split(train_data, len(train_data) // batch_size))"
      ],
      "execution_count": 0,
      "outputs": [
        {
          "output_type": "execute_result",
          "data": {
            "text/plain": [
              "78153"
            ]
          },
          "metadata": {
            "tags": []
          },
          "execution_count": 98
        }
      ]
    },
    {
      "cell_type": "code",
      "metadata": {
        "id": "nSayS6SiVd3H",
        "colab_type": "code",
        "outputId": "2fc4403d-80e1-4768-e783-621f7a9dce27",
        "colab": {}
      },
      "source": [
        "200. // 64 * 64 "
      ],
      "execution_count": 0,
      "outputs": [
        {
          "output_type": "execute_result",
          "data": {
            "text/plain": [
              "192.0"
            ]
          },
          "metadata": {
            "tags": []
          },
          "execution_count": 94
        }
      ]
    },
    {
      "cell_type": "code",
      "metadata": {
        "id": "xbSopr6BVd3I",
        "colab_type": "code",
        "outputId": "def1ba12-48ac-4c00-f86d-526378c1d218",
        "colab": {}
      },
      "source": [
        "l = nn.BCELoss()\n",
        "tensor1 = torch.Tensor([0, 1, 0])\n",
        "tensor2 = torch.Tensor([False, True, False])\n",
        "l(tensor1, tensor2)"
      ],
      "execution_count": 0,
      "outputs": [
        {
          "output_type": "execute_result",
          "data": {
            "text/plain": [
              "tensor(0.)"
            ]
          },
          "metadata": {
            "tags": []
          },
          "execution_count": 91
        }
      ]
    },
    {
      "cell_type": "code",
      "metadata": {
        "id": "5C6EqtrgVd3K",
        "colab_type": "code",
        "outputId": "3600804f-723e-402c-c7e4-a11ec799eaea",
        "colab": {}
      },
      "source": [
        "torch.Tensor([False, True, False])"
      ],
      "execution_count": 0,
      "outputs": [
        {
          "output_type": "execute_result",
          "data": {
            "text/plain": [
              "tensor([0., 1., 0.])"
            ]
          },
          "metadata": {
            "tags": []
          },
          "execution_count": 90
        }
      ]
    },
    {
      "cell_type": "code",
      "metadata": {
        "id": "vG6ZuLSiVd3N",
        "colab_type": "code",
        "colab": {}
      },
      "source": [
        ""
      ],
      "execution_count": 0,
      "outputs": []
    },
    {
      "cell_type": "code",
      "metadata": {
        "id": "Wi75W3wpVd3P",
        "colab_type": "code",
        "colab": {}
      },
      "source": [
        ""
      ],
      "execution_count": 0,
      "outputs": []
    },
    {
      "cell_type": "code",
      "metadata": {
        "id": "v6YMLUKWVd3R",
        "colab_type": "code",
        "colab": {}
      },
      "source": [
        ""
      ],
      "execution_count": 0,
      "outputs": []
    },
    {
      "cell_type": "code",
      "metadata": {
        "id": "tpm55VC-Vd3T",
        "colab_type": "code",
        "colab": {}
      },
      "source": [
        ""
      ],
      "execution_count": 0,
      "outputs": []
    },
    {
      "cell_type": "code",
      "metadata": {
        "id": "ZRoQvtNNVd3V",
        "colab_type": "code",
        "colab": {}
      },
      "source": [
        ""
      ],
      "execution_count": 0,
      "outputs": []
    },
    {
      "cell_type": "code",
      "metadata": {
        "id": "LvYwWposVd3W",
        "colab_type": "code",
        "colab": {}
      },
      "source": [
        ""
      ],
      "execution_count": 0,
      "outputs": []
    },
    {
      "cell_type": "code",
      "metadata": {
        "id": "q8e30l0GVd3Y",
        "colab_type": "code",
        "colab": {}
      },
      "source": [
        ""
      ],
      "execution_count": 0,
      "outputs": []
    },
    {
      "cell_type": "code",
      "metadata": {
        "colab_type": "code",
        "id": "GPEXdVv13JVP",
        "colab": {}
      },
      "source": [
        "\n",
        "params = {\n",
        "    'batch_size': 128,\n",
        "    'emb_size': 150,\n",
        "    'vocab_size': len(word_to_id),\n",
        "    # 'seq_len': 100,\n",
        "}\n"
      ],
      "execution_count": 0,
      "outputs": []
    },
    {
      "cell_type": "code",
      "metadata": {
        "colab_type": "code",
        "id": "PoXTxkbv3JVR",
        "colab": {}
      },
      "source": [
        "# def get_code_data(path):\n",
        "#     for _, _, files in os.walk(path):\n",
        "#         data = np.empty((0, 100))\n",
        "#         for file in tqdm_notebook(files):\n",
        "#             with open(path + file, 'rb') as f:\n",
        "#                 array = pickle.load(f)\n",
        "#                 for i in tqdm_notebook(range(len(array)), leave=False):\n",
        "#                     data = np.concatenate((data, array[i].inputs), axis=0)\n",
        "#     return data\n"
      ],
      "execution_count": 0,
      "outputs": []
    },
    {
      "cell_type": "code",
      "metadata": {
        "colab_type": "code",
        "id": "Gk_DJThyY908",
        "scrolled": true,
        "colab": {}
      },
      "source": [
        "# data = get_code_data(base_path + '/after_preprocess/')"
      ],
      "execution_count": 0,
      "outputs": []
    },
    {
      "cell_type": "code",
      "metadata": {
        "colab_type": "code",
        "id": "gPJNvogtY90O",
        "colab": {}
      },
      "source": [
        "# with open('./after_preprocess/all_inputs', 'wb') as f:\n",
        "#     pickle.dump(data.astype('int64'), f)"
      ],
      "execution_count": 0,
      "outputs": []
    },
    {
      "cell_type": "code",
      "metadata": {
        "colab_type": "code",
        "id": "1s8xwzx5yr2f",
        "colab": {}
      },
      "source": [
        "# with open(data_path, 'rb') as f:\n",
        "#     bla = pickle.load(f)\n",
        "# len(bla)"
      ],
      "execution_count": 0,
      "outputs": []
    },
    {
      "cell_type": "code",
      "metadata": {
        "colab_type": "code",
        "id": "ymRfG6ncyzMD",
        "colab": {}
      },
      "source": [
        ""
      ],
      "execution_count": 0,
      "outputs": []
    },
    {
      "cell_type": "code",
      "metadata": {
        "colab_type": "code",
        "id": "uswwMZXK3JVc",
        "colab": {}
      },
      "source": [
        "data_path = base_path + '/after_preprocess/all_inputs'"
      ],
      "execution_count": 0,
      "outputs": []
    },
    {
      "cell_type": "code",
      "metadata": {
        "colab_type": "code",
        "id": "uNIve_5psBqU",
        "colab": {}
      },
      "source": [
        "# split threshold for train/test\n",
        "# approximately data contains 700k object\n",
        "split_num = int(700000 * 0.7)"
      ],
      "execution_count": 0,
      "outputs": []
    },
    {
      "cell_type": "code",
      "metadata": {
        "colab_type": "code",
        "id": "vm60u_JS3JVd",
        "colab": {}
      },
      "source": [
        "class CodeDataset(Dataset):\n",
        "    def __init__(self, path, params, start, end):\n",
        "        with open(path, 'rb') as f:\n",
        "            self.data = pickle.load(f)[start:end]\n",
        "\n",
        "    def __len__(self):\n",
        "#         return 10\n",
        "        return self.data.shape[0]\n",
        "    \n",
        "    def __getitem__(self, index):\n",
        "        return self.data[index]\n"
      ],
      "execution_count": 0,
      "outputs": []
    },
    {
      "cell_type": "code",
      "metadata": {
        "colab_type": "code",
        "id": "6UpDAPXk3JVg",
        "colab": {}
      },
      "source": [
        "train_loader = DataLoader(\n",
        "    CodeDataset(data_path, params, 0, split_num),\n",
        "    batch_size=params['batch_size'],\n",
        "    shuffle=True,\n",
        "    num_workers=10\n",
        ")"
      ],
      "execution_count": 0,
      "outputs": []
    },
    {
      "cell_type": "code",
      "metadata": {
        "colab_type": "code",
        "id": "ZKEk7sUHuJ0O",
        "colab": {}
      },
      "source": [
        "test_loader = DataLoader(\n",
        "    CodeDataset(data_path, params, split_num, None),\n",
        "    batch_size=params['batch_size'],\n",
        "    shuffle=True,\n",
        "    num_workers=10\n",
        ")"
      ],
      "execution_count": 0,
      "outputs": []
    },
    {
      "cell_type": "markdown",
      "metadata": {
        "colab_type": "text",
        "id": "CDwQGSqL3JVo"
      },
      "source": [
        "# Инициализация модели"
      ]
    },
    {
      "cell_type": "code",
      "metadata": {
        "colab_type": "code",
        "id": "MaZtCHSE3JVr",
        "colab": {}
      },
      "source": [
        "class LstmBaseline(nn.Module):\n",
        "    def __init__(self, params):\n",
        "        super().__init__()\n",
        "        self.params = params\n",
        "        self.embedding = nn.Embedding(\n",
        "            self.params['vocab_size'],\n",
        "            self.params['emb_size']\n",
        "        )\n",
        "        self.lstm = nn.LSTM(\n",
        "            self.params['emb_size'],\n",
        "            self.params['emb_size'],\n",
        "#             2\n",
        "            1\n",
        "        )\n",
        "        self.linear = nn.Linear(\n",
        "            self.params['emb_size'],\n",
        "            self.params['vocab_size']\n",
        "        )\n",
        "    \n",
        "    def init_hidden(self, batch_size):\n",
        "        pass\n",
        "\n",
        "    def forward(self, inputs, hidden):\n",
        "        embs = self.embedding(inputs)\n",
        "        # need 100, 64, 150(?)\n",
        "        # real 64, 100, 150\n",
        "        output, hidden = self.lstm.forward(embs, hidden)\n",
        "        output = self.linear(output)\n",
        "        return output, hidden\n"
      ],
      "execution_count": 0,
      "outputs": []
    },
    {
      "cell_type": "markdown",
      "metadata": {
        "colab_type": "text",
        "id": "Rj-ngST93JVt"
      },
      "source": [
        "# Обучение"
      ]
    },
    {
      "cell_type": "code",
      "metadata": {
        "colab_type": "code",
        "id": "wOt4O3yx3JVz",
        "colab": {}
      },
      "source": [
        "def train_epoch(model, optimizer, lr):\n",
        "    loss_log = []\n",
        "    model.train()\n",
        "    total = 0\n",
        "    correct = 0\n",
        "    \n",
        "    for batch_num, x in zip(trange(len(train_loader)), train_loader):\n",
        "        optimizer.zero_grad()\n",
        "        x = x.to(device)\n",
        "        loss_value = 0.\n",
        "        loss = nn.CrossEntropyLoss()\n",
        "        # todo check\n",
        "        hidden = None\n",
        "        for i in range(x.shape[1] - 1):\n",
        "            output, hidden = model.forward(x[:, i].unsqueeze(1), hidden)\n",
        "            loss_value += loss(output.squeeze(1), x[:, i + 1])\n",
        "            \n",
        "            _, arg_pred = torch.max(output.squeeze(1), 1)\n",
        "            eq_arr = arg_pred == x[:, i + 1]\n",
        "            total += eq_arr.shape[0]\n",
        "            correct += int(eq_arr.sum())\n",
        "        loss_value.backward()\n",
        "\n",
        "#         torch.nn.utils.clip_grad_norm(model.parameters(), 0.5)\n",
        "#         for p in model.parameters():\n",
        "#             p.data.add_(-lr, p.grad.data)\n",
        "        optimizer.step()\n",
        "        loss_value = loss_value.item()\n",
        "        loss_log.append(loss_value)# / x.shape[1])\n",
        "\n",
        "    accuracy = correct / total\n",
        "    return accuracy, loss_log\n",
        "\n",
        "def test(model):\n",
        "    loss_log = []\n",
        "    model.eval()\n",
        "    total = 0\n",
        "    correct = 0\n",
        "    for batch_num, x in zip(trange(len(test_loader)), test_loader):\n",
        "        x = x.to(device)\n",
        "        loss_value = 0.\n",
        "        hidden = None\n",
        "        for i in range(x.shape[1] - 1):\n",
        "            output, hidden = model.forward(x[:, i].unsqueeze(1), hidden)\n",
        "            _, arg_pred = torch.max(output.squeeze(1), 1)\n",
        "            eq_arr = arg_pred == x[:, i + 1]\n",
        "            total += eq_arr.shape[0]\n",
        "            correct += int(eq_arr.sum())\n",
        "    accuracy = correct / total\n",
        "    return accuracy\n",
        "\n",
        "def plot_history(train_history, title='loss'):\n",
        "    plt.figure()\n",
        "    plt.title('{}'.format(title))\n",
        "    plt.plot(train_history, label='train', zorder=1)\n",
        "    plt.xlabel('train steps')\n",
        "    plt.legend(loc='best')\n",
        "    plt.grid()\n",
        "    plt.show()\n",
        "    \n",
        "def train(model, opt, n_epochs):\n",
        "    train_log = []\n",
        "    acc_log = []\n",
        "    lr = 0.05\n",
        "    lr_decay_base = 1 / 1.15\n",
        "    m_flat_lr = 20.0\n",
        "    for epoch in range(n_epochs):\n",
        "        lr_decay = lr_decay_base ** max(epoch - m_flat_lr, 0)\n",
        "        lr = lr * lr_decay\n",
        "        accuracy, train_loss = train_epoch(model, opt, lr)\n",
        "        train_log.extend(train_loss)\n",
        "        acc_log.append(accuracy)\n",
        "        torch.save(\n",
        "            {\n",
        "                'epoch': epoch,\n",
        "                'model_state_dict': model.state_dict(),\n",
        "                'optimizer_state_dict': opt.state_dict(),\n",
        "                'loss': train_log[-1]\n",
        "            },\n",
        "            base_path + '/model_checkpoints2/lstm_baseline_checkpoint_{}.pt'.format(epoch)\n",
        "        )\n",
        "        clear_output()\n",
        "        print(\"Epoch:{}\".format(epoch))\n",
        "        print(\"Accuracy:\", accuracy)\n",
        "        tp.send_text('Epoch {}, LSTM baseline accuracy: {}'.format(epoch, accuracy))\n",
        "        plot_history(train_log)\n",
        "#     np.save(\"/home/.../model_checkpoints..._logs.npy\", np.array(train_log))\n",
        "#     np.save(\"/home/.../model_checkpoints..._logs_perp.npy\", np.array(perp_log))\n"
      ],
      "execution_count": 0,
      "outputs": []
    },
    {
      "cell_type": "code",
      "metadata": {
        "colab_type": "code",
        "id": "ZZFFiiIr3JV1",
        "colab": {}
      },
      "source": [
        "model = LstmBaseline(params).to(device)"
      ],
      "execution_count": 0,
      "outputs": []
    },
    {
      "cell_type": "code",
      "metadata": {
        "colab_type": "code",
        "id": "jMVQ0GIc3JV2",
        "outputId": "de72742d-355d-439b-ea03-06c019b289d2",
        "colab": {
          "base_uri": "https://localhost:8080/",
          "height": 724
        }
      },
      "source": [
        "%%time\n",
        "\n",
        "optimizer = torch.optim.Adam(model.parameters(), lr=0.01)\n",
        "train(model, optimizer, 5)"
      ],
      "execution_count": 0,
      "outputs": [
        {
          "output_type": "stream",
          "text": [
            "Epoch:1\n",
            "Accuracy: 0.35851835690202705\n"
          ],
          "name": "stdout"
        },
        {
          "output_type": "display_data",
          "data": {
            "image/png": "[encoded data removed]",
            "text/plain": [
              "<Figure size 432x288 with 1 Axes>"
            ]
          },
          "metadata": {
            "tags": []
          }
        },
        {
          "output_type": "stream",
          "text": [
            "  7%|▋         | 254/3829 [05:57<1:23:40,  1.40s/it]"
          ],
          "name": "stderr"
        },
        {
          "output_type": "error",
          "ename": "KeyboardInterrupt",
          "evalue": "ignored",
          "traceback": [
            "\u001b[0;31m---------------------------------------------------------------------------\u001b[0m",
            "\u001b[0;31mKeyboardInterrupt\u001b[0m                         Traceback (most recent call last)",
            "\u001b[0;32m<ipython-input-20-b3a677923522>\u001b[0m in \u001b[0;36m<module>\u001b[0;34m()\u001b[0m\n\u001b[0;32m----> 1\u001b[0;31m \u001b[0mget_ipython\u001b[0m\u001b[0;34m(\u001b[0m\u001b[0;34m)\u001b[0m\u001b[0;34m.\u001b[0m\u001b[0mrun_cell_magic\u001b[0m\u001b[0;34m(\u001b[0m\u001b[0;34m'time'\u001b[0m\u001b[0;34m,\u001b[0m \u001b[0;34m''\u001b[0m\u001b[0;34m,\u001b[0m \u001b[0;34m'\\noptimizer = torch.optim.Adam(model.parameters(), lr=0.01)\\ntrain(model, optimizer, 5)'\u001b[0m\u001b[0;34m)\u001b[0m\u001b[0;34m\u001b[0m\u001b[0;34m\u001b[0m\u001b[0m\n\u001b[0m",
            "\u001b[0;32m/usr/local/lib/python3.6/dist-packages/IPython/core/interactiveshell.py\u001b[0m in \u001b[0;36mrun_cell_magic\u001b[0;34m(self, magic_name, line, cell)\u001b[0m\n\u001b[1;32m   2115\u001b[0m             \u001b[0mmagic_arg_s\u001b[0m \u001b[0;34m=\u001b[0m \u001b[0mself\u001b[0m\u001b[0;34m.\u001b[0m\u001b[0mvar_expand\u001b[0m\u001b[0;34m(\u001b[0m\u001b[0mline\u001b[0m\u001b[0;34m,\u001b[0m \u001b[0mstack_depth\u001b[0m\u001b[0;34m)\u001b[0m\u001b[0;34m\u001b[0m\u001b[0;34m\u001b[0m\u001b[0m\n\u001b[1;32m   2116\u001b[0m             \u001b[0;32mwith\u001b[0m \u001b[0mself\u001b[0m\u001b[0;34m.\u001b[0m\u001b[0mbuiltin_trap\u001b[0m\u001b[0;34m:\u001b[0m\u001b[0;34m\u001b[0m\u001b[0;34m\u001b[0m\u001b[0m\n\u001b[0;32m-> 2117\u001b[0;31m                 \u001b[0mresult\u001b[0m \u001b[0;34m=\u001b[0m \u001b[0mfn\u001b[0m\u001b[0;34m(\u001b[0m\u001b[0mmagic_arg_s\u001b[0m\u001b[0;34m,\u001b[0m \u001b[0mcell\u001b[0m\u001b[0;34m)\u001b[0m\u001b[0;34m\u001b[0m\u001b[0;34m\u001b[0m\u001b[0m\n\u001b[0m\u001b[1;32m   2118\u001b[0m             \u001b[0;32mreturn\u001b[0m \u001b[0mresult\u001b[0m\u001b[0;34m\u001b[0m\u001b[0;34m\u001b[0m\u001b[0m\n\u001b[1;32m   2119\u001b[0m \u001b[0;34m\u001b[0m\u001b[0m\n",
            "\u001b[0;32m</usr/local/lib/python3.6/dist-packages/decorator.py:decorator-gen-60>\u001b[0m in \u001b[0;36mtime\u001b[0;34m(self, line, cell, local_ns)\u001b[0m\n",
            "\u001b[0;32m/usr/local/lib/python3.6/dist-packages/IPython/core/magic.py\u001b[0m in \u001b[0;36m<lambda>\u001b[0;34m(f, *a, **k)\u001b[0m\n\u001b[1;32m    186\u001b[0m     \u001b[0;31m# but it's overkill for just that one bit of state.\u001b[0m\u001b[0;34m\u001b[0m\u001b[0;34m\u001b[0m\u001b[0;34m\u001b[0m\u001b[0m\n\u001b[1;32m    187\u001b[0m     \u001b[0;32mdef\u001b[0m \u001b[0mmagic_deco\u001b[0m\u001b[0;34m(\u001b[0m\u001b[0marg\u001b[0m\u001b[0;34m)\u001b[0m\u001b[0;34m:\u001b[0m\u001b[0;34m\u001b[0m\u001b[0;34m\u001b[0m\u001b[0m\n\u001b[0;32m--> 188\u001b[0;31m         \u001b[0mcall\u001b[0m \u001b[0;34m=\u001b[0m \u001b[0;32mlambda\u001b[0m \u001b[0mf\u001b[0m\u001b[0;34m,\u001b[0m \u001b[0;34m*\u001b[0m\u001b[0ma\u001b[0m\u001b[0;34m,\u001b[0m \u001b[0;34m**\u001b[0m\u001b[0mk\u001b[0m\u001b[0;34m:\u001b[0m \u001b[0mf\u001b[0m\u001b[0;34m(\u001b[0m\u001b[0;34m*\u001b[0m\u001b[0ma\u001b[0m\u001b[0;34m,\u001b[0m \u001b[0;34m**\u001b[0m\u001b[0mk\u001b[0m\u001b[0;34m)\u001b[0m\u001b[0;34m\u001b[0m\u001b[0;34m\u001b[0m\u001b[0m\n\u001b[0m\u001b[1;32m    189\u001b[0m \u001b[0;34m\u001b[0m\u001b[0m\n\u001b[1;32m    190\u001b[0m         \u001b[0;32mif\u001b[0m \u001b[0mcallable\u001b[0m\u001b[0;34m(\u001b[0m\u001b[0marg\u001b[0m\u001b[0;34m)\u001b[0m\u001b[0;34m:\u001b[0m\u001b[0;34m\u001b[0m\u001b[0;34m\u001b[0m\u001b[0m\n",
            "\u001b[0;32m/usr/local/lib/python3.6/dist-packages/IPython/core/magics/execution.py\u001b[0m in \u001b[0;36mtime\u001b[0;34m(self, line, cell, local_ns)\u001b[0m\n\u001b[1;32m   1191\u001b[0m         \u001b[0;32melse\u001b[0m\u001b[0;34m:\u001b[0m\u001b[0;34m\u001b[0m\u001b[0;34m\u001b[0m\u001b[0m\n\u001b[1;32m   1192\u001b[0m             \u001b[0mst\u001b[0m \u001b[0;34m=\u001b[0m \u001b[0mclock2\u001b[0m\u001b[0;34m(\u001b[0m\u001b[0;34m)\u001b[0m\u001b[0;34m\u001b[0m\u001b[0;34m\u001b[0m\u001b[0m\n\u001b[0;32m-> 1193\u001b[0;31m             \u001b[0mexec\u001b[0m\u001b[0;34m(\u001b[0m\u001b[0mcode\u001b[0m\u001b[0;34m,\u001b[0m \u001b[0mglob\u001b[0m\u001b[0;34m,\u001b[0m \u001b[0mlocal_ns\u001b[0m\u001b[0;34m)\u001b[0m\u001b[0;34m\u001b[0m\u001b[0;34m\u001b[0m\u001b[0m\n\u001b[0m\u001b[1;32m   1194\u001b[0m             \u001b[0mend\u001b[0m \u001b[0;34m=\u001b[0m \u001b[0mclock2\u001b[0m\u001b[0;34m(\u001b[0m\u001b[0;34m)\u001b[0m\u001b[0;34m\u001b[0m\u001b[0;34m\u001b[0m\u001b[0m\n\u001b[1;32m   1195\u001b[0m             \u001b[0mout\u001b[0m \u001b[0;34m=\u001b[0m \u001b[0;32mNone\u001b[0m\u001b[0;34m\u001b[0m\u001b[0;34m\u001b[0m\u001b[0m\n",
            "\u001b[0;32m<timed exec>\u001b[0m in \u001b[0;36m<module>\u001b[0;34m()\u001b[0m\n",
            "\u001b[0;32m<ipython-input-18-e9bb377f07d1>\u001b[0m in \u001b[0;36mtrain\u001b[0;34m(model, opt, n_epochs)\u001b[0m\n\u001b[1;32m     68\u001b[0m         \u001b[0mlr_decay\u001b[0m \u001b[0;34m=\u001b[0m \u001b[0mlr_decay_base\u001b[0m \u001b[0;34m**\u001b[0m \u001b[0mmax\u001b[0m\u001b[0;34m(\u001b[0m\u001b[0mepoch\u001b[0m \u001b[0;34m-\u001b[0m \u001b[0mm_flat_lr\u001b[0m\u001b[0;34m,\u001b[0m \u001b[0;36m0\u001b[0m\u001b[0;34m)\u001b[0m\u001b[0;34m\u001b[0m\u001b[0;34m\u001b[0m\u001b[0m\n\u001b[1;32m     69\u001b[0m         \u001b[0mlr\u001b[0m \u001b[0;34m=\u001b[0m \u001b[0mlr\u001b[0m \u001b[0;34m*\u001b[0m \u001b[0mlr_decay\u001b[0m\u001b[0;34m\u001b[0m\u001b[0;34m\u001b[0m\u001b[0m\n\u001b[0;32m---> 70\u001b[0;31m         \u001b[0maccuracy\u001b[0m\u001b[0;34m,\u001b[0m \u001b[0mtrain_loss\u001b[0m \u001b[0;34m=\u001b[0m \u001b[0mtrain_epoch\u001b[0m\u001b[0;34m(\u001b[0m\u001b[0mmodel\u001b[0m\u001b[0;34m,\u001b[0m \u001b[0mopt\u001b[0m\u001b[0;34m,\u001b[0m \u001b[0mlr\u001b[0m\u001b[0;34m)\u001b[0m\u001b[0;34m\u001b[0m\u001b[0;34m\u001b[0m\u001b[0m\n\u001b[0m\u001b[1;32m     71\u001b[0m         \u001b[0mtrain_log\u001b[0m\u001b[0;34m.\u001b[0m\u001b[0mextend\u001b[0m\u001b[0;34m(\u001b[0m\u001b[0mtrain_loss\u001b[0m\u001b[0;34m)\u001b[0m\u001b[0;34m\u001b[0m\u001b[0;34m\u001b[0m\u001b[0m\n\u001b[1;32m     72\u001b[0m         \u001b[0macc_log\u001b[0m\u001b[0;34m.\u001b[0m\u001b[0mappend\u001b[0m\u001b[0;34m(\u001b[0m\u001b[0maccuracy\u001b[0m\u001b[0;34m)\u001b[0m\u001b[0;34m\u001b[0m\u001b[0;34m\u001b[0m\u001b[0m\n",
            "\u001b[0;32m<ipython-input-18-e9bb377f07d1>\u001b[0m in \u001b[0;36mtrain_epoch\u001b[0;34m(model, optimizer, lr)\u001b[0m\n\u001b[1;32m     20\u001b[0m             \u001b[0mtotal\u001b[0m \u001b[0;34m+=\u001b[0m \u001b[0meq_arr\u001b[0m\u001b[0;34m.\u001b[0m\u001b[0mshape\u001b[0m\u001b[0;34m[\u001b[0m\u001b[0;36m0\u001b[0m\u001b[0;34m]\u001b[0m\u001b[0;34m\u001b[0m\u001b[0;34m\u001b[0m\u001b[0m\n\u001b[1;32m     21\u001b[0m             \u001b[0mcorrect\u001b[0m \u001b[0;34m+=\u001b[0m \u001b[0mint\u001b[0m\u001b[0;34m(\u001b[0m\u001b[0meq_arr\u001b[0m\u001b[0;34m.\u001b[0m\u001b[0msum\u001b[0m\u001b[0;34m(\u001b[0m\u001b[0;34m)\u001b[0m\u001b[0;34m)\u001b[0m\u001b[0;34m\u001b[0m\u001b[0;34m\u001b[0m\u001b[0m\n\u001b[0;32m---> 22\u001b[0;31m         \u001b[0mloss_value\u001b[0m\u001b[0;34m.\u001b[0m\u001b[0mbackward\u001b[0m\u001b[0;34m(\u001b[0m\u001b[0;34m)\u001b[0m\u001b[0;34m\u001b[0m\u001b[0;34m\u001b[0m\u001b[0m\n\u001b[0m\u001b[1;32m     23\u001b[0m \u001b[0;34m\u001b[0m\u001b[0m\n\u001b[1;32m     24\u001b[0m \u001b[0;31m#         torch.nn.utils.clip_grad_norm(model.parameters(), 0.5)\u001b[0m\u001b[0;34m\u001b[0m\u001b[0;34m\u001b[0m\u001b[0;34m\u001b[0m\u001b[0m\n",
            "\u001b[0;32m/usr/local/lib/python3.6/dist-packages/torch/tensor.py\u001b[0m in \u001b[0;36mbackward\u001b[0;34m(self, gradient, retain_graph, create_graph)\u001b[0m\n\u001b[1;32m    100\u001b[0m                 \u001b[0mproducts\u001b[0m\u001b[0;34m.\u001b[0m \u001b[0mDefaults\u001b[0m \u001b[0mto\u001b[0m\u001b[0;31m \u001b[0m\u001b[0;31m`\u001b[0m\u001b[0;31m`\u001b[0m\u001b[0;32mFalse\u001b[0m\u001b[0;31m`\u001b[0m\u001b[0;31m`\u001b[0m\u001b[0;34m.\u001b[0m\u001b[0;34m\u001b[0m\u001b[0;34m\u001b[0m\u001b[0m\n\u001b[1;32m    101\u001b[0m         \"\"\"\n\u001b[0;32m--> 102\u001b[0;31m         \u001b[0mtorch\u001b[0m\u001b[0;34m.\u001b[0m\u001b[0mautograd\u001b[0m\u001b[0;34m.\u001b[0m\u001b[0mbackward\u001b[0m\u001b[0;34m(\u001b[0m\u001b[0mself\u001b[0m\u001b[0;34m,\u001b[0m \u001b[0mgradient\u001b[0m\u001b[0;34m,\u001b[0m \u001b[0mretain_graph\u001b[0m\u001b[0;34m,\u001b[0m \u001b[0mcreate_graph\u001b[0m\u001b[0;34m)\u001b[0m\u001b[0;34m\u001b[0m\u001b[0;34m\u001b[0m\u001b[0m\n\u001b[0m\u001b[1;32m    103\u001b[0m \u001b[0;34m\u001b[0m\u001b[0m\n\u001b[1;32m    104\u001b[0m     \u001b[0;32mdef\u001b[0m \u001b[0mregister_hook\u001b[0m\u001b[0;34m(\u001b[0m\u001b[0mself\u001b[0m\u001b[0;34m,\u001b[0m \u001b[0mhook\u001b[0m\u001b[0;34m)\u001b[0m\u001b[0;34m:\u001b[0m\u001b[0;34m\u001b[0m\u001b[0;34m\u001b[0m\u001b[0m\n",
            "\u001b[0;32m/usr/local/lib/python3.6/dist-packages/torch/autograd/__init__.py\u001b[0m in \u001b[0;36mbackward\u001b[0;34m(tensors, grad_tensors, retain_graph, create_graph, grad_variables)\u001b[0m\n\u001b[1;32m     88\u001b[0m     Variable._execution_engine.run_backward(\n\u001b[1;32m     89\u001b[0m         \u001b[0mtensors\u001b[0m\u001b[0;34m,\u001b[0m \u001b[0mgrad_tensors\u001b[0m\u001b[0;34m,\u001b[0m \u001b[0mretain_graph\u001b[0m\u001b[0;34m,\u001b[0m \u001b[0mcreate_graph\u001b[0m\u001b[0;34m,\u001b[0m\u001b[0;34m\u001b[0m\u001b[0;34m\u001b[0m\u001b[0m\n\u001b[0;32m---> 90\u001b[0;31m         allow_unreachable=True)  # allow_unreachable flag\n\u001b[0m\u001b[1;32m     91\u001b[0m \u001b[0;34m\u001b[0m\u001b[0m\n\u001b[1;32m     92\u001b[0m \u001b[0;34m\u001b[0m\u001b[0m\n",
            "\u001b[0;31mKeyboardInterrupt\u001b[0m: "
          ]
        }
      ]
    },
    {
      "cell_type": "code",
      "metadata": {
        "colab_type": "code",
        "id": "-FJhSgtPxOu6",
        "outputId": "0fd9a35f-9707-43d2-a5e9-d0959068ecc4",
        "colab": {
          "base_uri": "https://localhost:8080/",
          "height": 85
        }
      },
      "source": [
        "%%time\n",
        "\n",
        "print('Accuracy:', test(model))"
      ],
      "execution_count": 0,
      "outputs": [
        {
          "output_type": "stream",
          "text": [
            "100%|██████████| 1607/1607 [16:32<00:00,  1.65it/s]\n",
            "Accuracy: 0.3440257559846452\n",
            "CPU times: user 11min 24s, sys: 5min 3s, total: 16min 27s\n",
            "Wall time: 16min 32s\n"
          ],
          "name": "stdout"
        }
      ]
    }
  ]
}