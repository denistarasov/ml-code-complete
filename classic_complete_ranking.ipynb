{
 "cells": [
  {
   "cell_type": "markdown",
   "metadata": {
    "colab_type": "text",
    "id": "t_bV546-3JVF"
   },
   "source": [
    "## Импорты"
   ]
  },
  {
   "cell_type": "code",
   "execution_count": 4,
   "metadata": {},
   "outputs": [],
   "source": [
    "# !pip3 install matplotlib tqdm numpy torch"
   ]
  },
  {
   "cell_type": "code",
   "execution_count": 2,
   "metadata": {
    "colab": {},
    "colab_type": "code",
    "id": "SGIPKkSG3JVG"
   },
   "outputs": [],
   "source": [
    "%matplotlib inline\n",
    "import matplotlib.pyplot as plt\n",
    "\n",
    "import torch\n",
    "import torch.nn as nn\n",
    "import torch.nn.functional as F\n",
    "import torch.optim as optim\n",
    "from torch.utils.data import Dataset, DataLoader\n",
    "\n",
    "import os\n",
    "from tqdm import tqdm_notebook, trange, tqdm\n",
    "import pickle\n",
    "import numpy as np\n",
    "from IPython.display import clear_output\n",
    "import jedi\n",
    "import tokenize\n",
    "from io import BytesIO\n",
    "import timeit"
   ]
  },
  {
   "cell_type": "code",
   "execution_count": 3,
   "metadata": {
    "colab": {},
    "colab_type": "code",
    "id": "oa2jzP-N3JVI"
   },
   "outputs": [],
   "source": [
    "device = torch.device('cuda:0' if torch.cuda.is_available() else 'cpu')\n"
   ]
  },
  {
   "cell_type": "code",
   "execution_count": 4,
   "metadata": {
    "colab": {
     "base_uri": "https://localhost:8080/",
     "height": 34
    },
    "colab_type": "code",
    "id": "1WoL992vCADZ",
    "outputId": "89d26959-535a-4adb-d2f5-bfee1a1c38ea"
   },
   "outputs": [
    {
     "data": {
      "text/plain": [
       "device(type='cpu')"
      ]
     },
     "execution_count": 4,
     "metadata": {},
     "output_type": "execute_result"
    }
   ],
   "source": [
    "device"
   ]
  },
  {
   "cell_type": "markdown",
   "metadata": {},
   "source": [
    "\n",
    "* суммирую все эмбеддинги, которые встретил до текущего ключевого слова, конкатенирую к эмбеддингу текущего слова\n",
    "    - итерируюсь по файлам из train_files.txt\n",
    "    - иду с помощью tokenize + isidentifier(), выбираю из кода identifiers, которые есть в mapping.map\n",
    "        - может ли регулярка возвращать индекс начала распознанного слова?\n",
    "        - сохраняю в массив `[[identifier, index], [...], ...]`\n",
    "    - предсохраняю номера токенов, которые войдут в сумму\n",
    "    - подаю в jedi предыдущий код + первую букву identifier'а (индекс от регулярки + 1)\n",
    "    - итерируюсь по предсказаниям и добавляю объекты в train такого вида:\n",
    "    ```\n",
    "    [\n",
    "        arr_of_prev_tokens,\n",
    "        predicted_token (число из mapping.map),\n",
    "        real_token (число из mapping.map)\n",
    "    ]```\n",
    "    - дамплю в пикл `{file_name: train}`\n",
    "* подаю на вход полносвязному слою\n",
    "* беру сигмоиду\n",
    "* подаю в кросс-энтропию"
   ]
  },
  {
   "cell_type": "code",
   "execution_count": 13,
   "metadata": {},
   "outputs": [],
   "source": []
  },
  {
   "cell_type": "code",
   "execution_count": 4,
   "metadata": {
    "scrolled": true
   },
   "outputs": [
    {
     "name": "stderr",
     "output_type": "stream",
     "text": [
      "\n",
      "  0%|          | 126/51889 [18:27<324:25:03, 22.56s/it]\u001b[A"
     ]
    },
    {
     "name": "stdout",
     "output_type": "stream",
     "text": [
      "[0.002160053999887168, 0.0014306360008049523, 0.0010151140004381887, 0.002046169999630365, 0.0011379930001567118, 0.001492465999945125, 0.001757863999955589, 0.0007132559994715848, 0.0015360620000137715, 0.0353442929999801, 0.04845971299982921, 0.0004915999998047482, 0.0006565309995494317, 0.01973604799968598, 0.0013229050000518328, 0.0021346409994293936, 0.0009558599995216355, 0.0011359150003045215, 0.010892410999986168, 0.0007235290004246053, 0.0007679750005991082, 0.00035158100035914686, 0.0009981720004361705, 0.00236769799994363, 0.0010834820004674839, 0.0024205709996749647, 0.0022020599999450496, 0.011100086000624287, 0.0012591690001499956, 0.0011302599996270146, 0.007109500999831653, 0.0020115960005568922, 0.0019821159994535265, 0.0077043849996698555, 0.0011540470004547387, 0.007618802999786567, 0.005069468999863602, 0.0069006600006105145, 0.0015933900003801682, 0.005897620000723691]\n",
      "[9.857099985310924e-05, 0.00014378300056705484, 3.231899972888641e-05, 5.892099943594076e-05, 0.0001058469997587963, 0.00010119199941982515, 0.000159573999553686, 0.0001568060006320593, 0.00026704300034907646, 0.0002099840003211284, 0.0001467219999540248, 0.00010086299971590051, 8.738199994695606e-05, 0.0003873330006172182, 0.00035315300010552164, 0.00018517700027587125, 0.0001693419999355683, 9.865799984254409e-05, 0.00011005400028807344, 5.654500000673579e-05, 0.0002571499999248772, 9.241699990525376e-05, 6.238800051505677e-05, 0.00010849899990716949, 0.00010642599954735488, 8.935499954532133e-05, 0.00012747500022669556, 0.00011866300064866664, 0.000164949000463821, 7.166700015659444e-05, 0.0001967270000022836, 0.0002488090003680554, 0.00010234099954686826, 0.00010074999954667874, 9.407800007465994e-05, 0.0001707680003164569, 0.00036650099991675233, 7.929999992484227e-05, 0.00013497700001607882, 0.0007327000002987916]\n"
     ]
    },
    {
     "ename": "InvalidPythonEnvironment",
     "evalue": "Could not get version information for '/usr/local/opt/python/bin/python3.7': BlockingIOError(35, 'Resource temporarily unavailable')",
     "output_type": "error",
     "traceback": [
      "\u001b[0;31m---------------------------------------------------------------------------\u001b[0m",
      "\u001b[0;31mKeyError\u001b[0m                                  Traceback (most recent call last)",
      "\u001b[0;32m/usr/local/lib/python3.7/site-packages/jedi/cache.py\u001b[0m in \u001b[0;36mwrapper\u001b[0;34m(self, *args, **kwargs)\u001b[0m\n\u001b[1;32m    140\u001b[0m         \u001b[0;32mtry\u001b[0m\u001b[0;34m:\u001b[0m\u001b[0;34m\u001b[0m\u001b[0;34m\u001b[0m\u001b[0m\n\u001b[0;32m--> 141\u001b[0;31m             \u001b[0;32mreturn\u001b[0m \u001b[0mdct\u001b[0m\u001b[0;34m[\u001b[0m\u001b[0mkey\u001b[0m\u001b[0;34m]\u001b[0m\u001b[0;34m\u001b[0m\u001b[0;34m\u001b[0m\u001b[0m\n\u001b[0m\u001b[1;32m    142\u001b[0m         \u001b[0;32mexcept\u001b[0m \u001b[0mKeyError\u001b[0m\u001b[0;34m:\u001b[0m\u001b[0;34m\u001b[0m\u001b[0;34m\u001b[0m\u001b[0m\n",
      "\u001b[0;31mKeyError\u001b[0m: ((), frozenset())",
      "\nDuring handling of the above exception, another exception occurred:\n",
      "\u001b[0;31mBlockingIOError\u001b[0m                           Traceback (most recent call last)",
      "\u001b[0;32m/usr/local/lib/python3.7/site-packages/jedi/api/environment.py\u001b[0m in \u001b[0;36m_get_subprocess\u001b[0;34m(self)\u001b[0m\n\u001b[1;32m     73\u001b[0m             \u001b[0mself\u001b[0m\u001b[0;34m.\u001b[0m\u001b[0m_subprocess\u001b[0m \u001b[0;34m=\u001b[0m \u001b[0mCompiledSubprocess\u001b[0m\u001b[0;34m(\u001b[0m\u001b[0mself\u001b[0m\u001b[0;34m.\u001b[0m\u001b[0m_start_executable\u001b[0m\u001b[0;34m)\u001b[0m\u001b[0;34m\u001b[0m\u001b[0;34m\u001b[0m\u001b[0m\n\u001b[0;32m---> 74\u001b[0;31m             \u001b[0minfo\u001b[0m \u001b[0;34m=\u001b[0m \u001b[0mself\u001b[0m\u001b[0;34m.\u001b[0m\u001b[0m_subprocess\u001b[0m\u001b[0;34m.\u001b[0m\u001b[0m_send\u001b[0m\u001b[0;34m(\u001b[0m\u001b[0;32mNone\u001b[0m\u001b[0;34m,\u001b[0m \u001b[0m_get_info\u001b[0m\u001b[0;34m)\u001b[0m\u001b[0;34m\u001b[0m\u001b[0;34m\u001b[0m\u001b[0m\n\u001b[0m\u001b[1;32m     75\u001b[0m         \u001b[0;32mexcept\u001b[0m \u001b[0mException\u001b[0m \u001b[0;32mas\u001b[0m \u001b[0mexc\u001b[0m\u001b[0;34m:\u001b[0m\u001b[0;34m\u001b[0m\u001b[0;34m\u001b[0m\u001b[0m\n",
      "\u001b[0;32m/usr/local/lib/python3.7/site-packages/jedi/evaluate/compiled/subprocess/__init__.py\u001b[0m in \u001b[0;36m_send\u001b[0;34m(self, evaluator_id, function, args, kwargs)\u001b[0m\n\u001b[1;32m    228\u001b[0m         \u001b[0;32mtry\u001b[0m\u001b[0;34m:\u001b[0m\u001b[0;34m\u001b[0m\u001b[0;34m\u001b[0m\u001b[0m\n\u001b[0;32m--> 229\u001b[0;31m             \u001b[0mpickle_dump\u001b[0m\u001b[0;34m(\u001b[0m\u001b[0mdata\u001b[0m\u001b[0;34m,\u001b[0m \u001b[0mself\u001b[0m\u001b[0;34m.\u001b[0m\u001b[0m_process\u001b[0m\u001b[0;34m.\u001b[0m\u001b[0mstdin\u001b[0m\u001b[0;34m,\u001b[0m \u001b[0mself\u001b[0m\u001b[0;34m.\u001b[0m\u001b[0m_pickle_protocol\u001b[0m\u001b[0;34m)\u001b[0m\u001b[0;34m\u001b[0m\u001b[0;34m\u001b[0m\u001b[0m\n\u001b[0m\u001b[1;32m    230\u001b[0m         \u001b[0;32mexcept\u001b[0m \u001b[0;34m(\u001b[0m\u001b[0msocket\u001b[0m\u001b[0;34m.\u001b[0m\u001b[0merror\u001b[0m\u001b[0;34m,\u001b[0m \u001b[0mIOError\u001b[0m\u001b[0;34m)\u001b[0m \u001b[0;32mas\u001b[0m \u001b[0me\u001b[0m\u001b[0;34m:\u001b[0m\u001b[0;34m\u001b[0m\u001b[0;34m\u001b[0m\u001b[0m\n",
      "\u001b[0;32m/usr/local/lib/python3.7/site-packages/jedi/cache.py\u001b[0m in \u001b[0;36mwrapper\u001b[0;34m(self, *args, **kwargs)\u001b[0m\n\u001b[1;32m    142\u001b[0m         \u001b[0;32mexcept\u001b[0m \u001b[0mKeyError\u001b[0m\u001b[0;34m:\u001b[0m\u001b[0;34m\u001b[0m\u001b[0;34m\u001b[0m\u001b[0m\n\u001b[0;32m--> 143\u001b[0;31m             \u001b[0mresult\u001b[0m \u001b[0;34m=\u001b[0m \u001b[0mmethod\u001b[0m\u001b[0;34m(\u001b[0m\u001b[0mself\u001b[0m\u001b[0;34m,\u001b[0m \u001b[0;34m*\u001b[0m\u001b[0margs\u001b[0m\u001b[0;34m,\u001b[0m \u001b[0;34m**\u001b[0m\u001b[0mkwargs\u001b[0m\u001b[0;34m)\u001b[0m\u001b[0;34m\u001b[0m\u001b[0;34m\u001b[0m\u001b[0m\n\u001b[0m\u001b[1;32m    144\u001b[0m             \u001b[0mdct\u001b[0m\u001b[0;34m[\u001b[0m\u001b[0mkey\u001b[0m\u001b[0;34m]\u001b[0m \u001b[0;34m=\u001b[0m \u001b[0mresult\u001b[0m\u001b[0;34m\u001b[0m\u001b[0;34m\u001b[0m\u001b[0m\n",
      "\u001b[0;32m/usr/local/lib/python3.7/site-packages/jedi/evaluate/compiled/subprocess/__init__.py\u001b[0m in \u001b[0;36m_process\u001b[0;34m(self)\u001b[0m\n\u001b[1;32m    176\u001b[0m             \u001b[0;31m# (this is already the case on Python 3).\u001b[0m\u001b[0;34m\u001b[0m\u001b[0;34m\u001b[0m\u001b[0;34m\u001b[0m\u001b[0m\n\u001b[0;32m--> 177\u001b[0;31m             \u001b[0mbufsize\u001b[0m\u001b[0;34m=\u001b[0m\u001b[0;34m-\u001b[0m\u001b[0;36m1\u001b[0m\u001b[0;34m\u001b[0m\u001b[0;34m\u001b[0m\u001b[0m\n\u001b[0m\u001b[1;32m    178\u001b[0m         )\n",
      "\u001b[0;32m/usr/local/lib/python3.7/site-packages/jedi/_compatibility.py\u001b[0m in \u001b[0;36m__init__\u001b[0;34m(self, *args, **kwargs)\u001b[0m\n\u001b[1;32m    524\u001b[0m         \u001b[0mkwargs\u001b[0m\u001b[0;34m[\u001b[0m\u001b[0;34m'close_fds'\u001b[0m\u001b[0;34m]\u001b[0m \u001b[0;34m=\u001b[0m \u001b[0;34m'posix'\u001b[0m \u001b[0;32min\u001b[0m \u001b[0msys\u001b[0m\u001b[0;34m.\u001b[0m\u001b[0mbuiltin_module_names\u001b[0m\u001b[0;34m\u001b[0m\u001b[0;34m\u001b[0m\u001b[0m\n\u001b[0;32m--> 525\u001b[0;31m         \u001b[0msuper\u001b[0m\u001b[0;34m(\u001b[0m\u001b[0mGeneralizedPopen\u001b[0m\u001b[0;34m,\u001b[0m \u001b[0mself\u001b[0m\u001b[0;34m)\u001b[0m\u001b[0;34m.\u001b[0m\u001b[0m__init__\u001b[0m\u001b[0;34m(\u001b[0m\u001b[0;34m*\u001b[0m\u001b[0margs\u001b[0m\u001b[0;34m,\u001b[0m \u001b[0;34m**\u001b[0m\u001b[0mkwargs\u001b[0m\u001b[0;34m)\u001b[0m\u001b[0;34m\u001b[0m\u001b[0;34m\u001b[0m\u001b[0m\n\u001b[0m\u001b[1;32m    526\u001b[0m \u001b[0;34m\u001b[0m\u001b[0m\n",
      "\u001b[0;32m/usr/local/Cellar/python/3.7.3/Frameworks/Python.framework/Versions/3.7/lib/python3.7/subprocess.py\u001b[0m in \u001b[0;36m__init__\u001b[0;34m(self, args, bufsize, executable, stdin, stdout, stderr, preexec_fn, close_fds, shell, cwd, env, universal_newlines, startupinfo, creationflags, restore_signals, start_new_session, pass_fds, encoding, errors, text)\u001b[0m\n\u001b[1;32m    774\u001b[0m                                 \u001b[0merrread\u001b[0m\u001b[0;34m,\u001b[0m \u001b[0merrwrite\u001b[0m\u001b[0;34m,\u001b[0m\u001b[0;34m\u001b[0m\u001b[0;34m\u001b[0m\u001b[0m\n\u001b[0;32m--> 775\u001b[0;31m                                 restore_signals, start_new_session)\n\u001b[0m\u001b[1;32m    776\u001b[0m         \u001b[0;32mexcept\u001b[0m\u001b[0;34m:\u001b[0m\u001b[0;34m\u001b[0m\u001b[0;34m\u001b[0m\u001b[0m\n",
      "\u001b[0;32m/usr/local/Cellar/python/3.7.3/Frameworks/Python.framework/Versions/3.7/lib/python3.7/subprocess.py\u001b[0m in \u001b[0;36m_execute_child\u001b[0;34m(self, args, executable, preexec_fn, close_fds, pass_fds, cwd, env, startupinfo, creationflags, shell, p2cread, p2cwrite, c2pread, c2pwrite, errread, errwrite, restore_signals, start_new_session)\u001b[0m\n\u001b[1;32m   1452\u001b[0m                             \u001b[0merrpipe_read\u001b[0m\u001b[0;34m,\u001b[0m \u001b[0merrpipe_write\u001b[0m\u001b[0;34m,\u001b[0m\u001b[0;34m\u001b[0m\u001b[0;34m\u001b[0m\u001b[0m\n\u001b[0;32m-> 1453\u001b[0;31m                             restore_signals, start_new_session, preexec_fn)\n\u001b[0m\u001b[1;32m   1454\u001b[0m                     \u001b[0mself\u001b[0m\u001b[0;34m.\u001b[0m\u001b[0m_child_created\u001b[0m \u001b[0;34m=\u001b[0m \u001b[0;32mTrue\u001b[0m\u001b[0;34m\u001b[0m\u001b[0;34m\u001b[0m\u001b[0m\n",
      "\u001b[0;31mBlockingIOError\u001b[0m: [Errno 35] Resource temporarily unavailable",
      "\nDuring handling of the above exception, another exception occurred:\n",
      "\u001b[0;31mInvalidPythonEnvironment\u001b[0m                  Traceback (most recent call last)",
      "\u001b[0;32m<ipython-input-4-50b53817b43b>\u001b[0m in \u001b[0;36m<module>\u001b[0;34m\u001b[0m\n\u001b[1;32m    120\u001b[0m \u001b[0mpath\u001b[0m \u001b[0;34m=\u001b[0m \u001b[0;34m'./pycodesuggest_py_repos_normalised/'\u001b[0m\u001b[0;34m\u001b[0m\u001b[0;34m\u001b[0m\u001b[0m\n\u001b[1;32m    121\u001b[0m \u001b[0msamples_path\u001b[0m \u001b[0;34m=\u001b[0m \u001b[0;34m'train_files.txt'\u001b[0m\u001b[0;34m\u001b[0m\u001b[0;34m\u001b[0m\u001b[0m\n\u001b[0;32m--> 122\u001b[0;31m \u001b[0msamples\u001b[0m \u001b[0;34m=\u001b[0m \u001b[0mprepare_samples\u001b[0m\u001b[0;34m(\u001b[0m\u001b[0mpath\u001b[0m\u001b[0;34m,\u001b[0m \u001b[0msamples_path\u001b[0m\u001b[0;34m)\u001b[0m\u001b[0;34m\u001b[0m\u001b[0;34m\u001b[0m\u001b[0m\n\u001b[0m\u001b[1;32m    123\u001b[0m \u001b[0;34m\u001b[0m\u001b[0m\n",
      "\u001b[0;32m<ipython-input-4-50b53817b43b>\u001b[0m in \u001b[0;36mprepare_samples\u001b[0;34m(path, samples_path)\u001b[0m\n\u001b[1;32m     90\u001b[0m \u001b[0;34m\u001b[0m\u001b[0m\n\u001b[1;32m     91\u001b[0m                 \u001b[0minner_start_time\u001b[0m \u001b[0;34m=\u001b[0m \u001b[0mtimeit\u001b[0m\u001b[0;34m.\u001b[0m\u001b[0mdefault_timer\u001b[0m\u001b[0;34m(\u001b[0m\u001b[0;34m)\u001b[0m\u001b[0;34m\u001b[0m\u001b[0;34m\u001b[0m\u001b[0m\n\u001b[0;32m---> 92\u001b[0;31m                 \u001b[0mpreds\u001b[0m \u001b[0;34m=\u001b[0m \u001b[0mpredict_tokens\u001b[0m\u001b[0;34m(\u001b[0m\u001b[0mprev_code\u001b[0m\u001b[0;34m)\u001b[0m\u001b[0;34m\u001b[0m\u001b[0;34m\u001b[0m\u001b[0m\n\u001b[0m\u001b[1;32m     93\u001b[0m                 \u001b[0mtimes_dict\u001b[0m\u001b[0;34m[\u001b[0m\u001b[0;34m'jedi'\u001b[0m\u001b[0;34m]\u001b[0m\u001b[0;34m[\u001b[0m\u001b[0;34m-\u001b[0m\u001b[0;36m1\u001b[0m\u001b[0;34m]\u001b[0m \u001b[0;34m+=\u001b[0m \u001b[0mtimeit\u001b[0m\u001b[0;34m.\u001b[0m\u001b[0mdefault_timer\u001b[0m\u001b[0;34m(\u001b[0m\u001b[0;34m)\u001b[0m \u001b[0;34m-\u001b[0m \u001b[0minner_start_time\u001b[0m\u001b[0;34m\u001b[0m\u001b[0;34m\u001b[0m\u001b[0m\n\u001b[1;32m     94\u001b[0m \u001b[0;34m\u001b[0m\u001b[0m\n",
      "\u001b[0;32m<ipython-input-4-50b53817b43b>\u001b[0m in \u001b[0;36mpredict_tokens\u001b[0;34m(code)\u001b[0m\n\u001b[1;32m     24\u001b[0m     \u001b[0;32mdef\u001b[0m \u001b[0mpredict_tokens\u001b[0m\u001b[0;34m(\u001b[0m\u001b[0mcode\u001b[0m\u001b[0;34m)\u001b[0m\u001b[0;34m:\u001b[0m\u001b[0;34m\u001b[0m\u001b[0;34m\u001b[0m\u001b[0m\n\u001b[1;32m     25\u001b[0m         \u001b[0;32mtry\u001b[0m\u001b[0;34m:\u001b[0m\u001b[0;34m\u001b[0m\u001b[0;34m\u001b[0m\u001b[0m\n\u001b[0;32m---> 26\u001b[0;31m             \u001b[0mscript\u001b[0m \u001b[0;34m=\u001b[0m \u001b[0mjedi\u001b[0m\u001b[0;34m.\u001b[0m\u001b[0mScript\u001b[0m\u001b[0;34m(\u001b[0m\u001b[0mcode\u001b[0m\u001b[0;34m)\u001b[0m\u001b[0;34m\u001b[0m\u001b[0;34m\u001b[0m\u001b[0m\n\u001b[0m\u001b[1;32m     27\u001b[0m             \u001b[0;32mreturn\u001b[0m \u001b[0mscript\u001b[0m\u001b[0;34m.\u001b[0m\u001b[0mcompletions\u001b[0m\u001b[0;34m(\u001b[0m\u001b[0;34m)\u001b[0m\u001b[0;34m\u001b[0m\u001b[0;34m\u001b[0m\u001b[0m\n\u001b[1;32m     28\u001b[0m         \u001b[0;32mexcept\u001b[0m \u001b[0mKeyError\u001b[0m\u001b[0;34m:\u001b[0m\u001b[0;34m\u001b[0m\u001b[0;34m\u001b[0m\u001b[0m\n",
      "\u001b[0;32m/usr/local/lib/python3.7/site-packages/jedi/api/__init__.py\u001b[0m in \u001b[0;36m__init__\u001b[0;34m(self, source, line, column, path, encoding, sys_path, environment)\u001b[0m\n\u001b[1;32m    106\u001b[0m             \u001b[0mproject\u001b[0m\u001b[0;34m.\u001b[0m\u001b[0m_sys_path\u001b[0m \u001b[0;34m=\u001b[0m \u001b[0msys_path\u001b[0m\u001b[0;34m\u001b[0m\u001b[0;34m\u001b[0m\u001b[0m\n\u001b[1;32m    107\u001b[0m         self._evaluator = Evaluator(\n\u001b[0;32m--> 108\u001b[0;31m             \u001b[0mproject\u001b[0m\u001b[0;34m,\u001b[0m \u001b[0menvironment\u001b[0m\u001b[0;34m=\u001b[0m\u001b[0menvironment\u001b[0m\u001b[0;34m,\u001b[0m \u001b[0mscript_path\u001b[0m\u001b[0;34m=\u001b[0m\u001b[0mself\u001b[0m\u001b[0;34m.\u001b[0m\u001b[0mpath\u001b[0m\u001b[0;34m\u001b[0m\u001b[0;34m\u001b[0m\u001b[0m\n\u001b[0m\u001b[1;32m    109\u001b[0m         )\n\u001b[1;32m    110\u001b[0m         \u001b[0mself\u001b[0m\u001b[0;34m.\u001b[0m\u001b[0m_project\u001b[0m \u001b[0;34m=\u001b[0m \u001b[0mproject\u001b[0m\u001b[0;34m\u001b[0m\u001b[0;34m\u001b[0m\u001b[0m\n",
      "\u001b[0;32m/usr/local/lib/python3.7/site-packages/jedi/evaluate/__init__.py\u001b[0m in \u001b[0;36m__init__\u001b[0;34m(self, project, environment, script_path)\u001b[0m\n\u001b[1;32m     92\u001b[0m         \u001b[0mself\u001b[0m\u001b[0;34m.\u001b[0m\u001b[0menvironment\u001b[0m \u001b[0;34m=\u001b[0m \u001b[0menvironment\u001b[0m\u001b[0;34m\u001b[0m\u001b[0;34m\u001b[0m\u001b[0m\n\u001b[1;32m     93\u001b[0m         \u001b[0mself\u001b[0m\u001b[0;34m.\u001b[0m\u001b[0mscript_path\u001b[0m \u001b[0;34m=\u001b[0m \u001b[0mscript_path\u001b[0m\u001b[0;34m\u001b[0m\u001b[0;34m\u001b[0m\u001b[0m\n\u001b[0;32m---> 94\u001b[0;31m         \u001b[0mself\u001b[0m\u001b[0;34m.\u001b[0m\u001b[0mcompiled_subprocess\u001b[0m \u001b[0;34m=\u001b[0m \u001b[0menvironment\u001b[0m\u001b[0;34m.\u001b[0m\u001b[0mget_evaluator_subprocess\u001b[0m\u001b[0;34m(\u001b[0m\u001b[0mself\u001b[0m\u001b[0;34m)\u001b[0m\u001b[0;34m\u001b[0m\u001b[0;34m\u001b[0m\u001b[0m\n\u001b[0m\u001b[1;32m     95\u001b[0m         \u001b[0mself\u001b[0m\u001b[0;34m.\u001b[0m\u001b[0mgrammar\u001b[0m \u001b[0;34m=\u001b[0m \u001b[0menvironment\u001b[0m\u001b[0;34m.\u001b[0m\u001b[0mget_grammar\u001b[0m\u001b[0;34m(\u001b[0m\u001b[0;34m)\u001b[0m\u001b[0;34m\u001b[0m\u001b[0;34m\u001b[0m\u001b[0m\n\u001b[1;32m     96\u001b[0m \u001b[0;34m\u001b[0m\u001b[0m\n",
      "\u001b[0;32m/usr/local/lib/python3.7/site-packages/jedi/api/environment.py\u001b[0m in \u001b[0;36mget_evaluator_subprocess\u001b[0;34m(self, evaluator)\u001b[0m\n\u001b[1;32m    111\u001b[0m \u001b[0;34m\u001b[0m\u001b[0m\n\u001b[1;32m    112\u001b[0m     \u001b[0;32mdef\u001b[0m \u001b[0mget_evaluator_subprocess\u001b[0m\u001b[0;34m(\u001b[0m\u001b[0mself\u001b[0m\u001b[0;34m,\u001b[0m \u001b[0mevaluator\u001b[0m\u001b[0;34m)\u001b[0m\u001b[0;34m:\u001b[0m\u001b[0;34m\u001b[0m\u001b[0;34m\u001b[0m\u001b[0m\n\u001b[0;32m--> 113\u001b[0;31m         \u001b[0;32mreturn\u001b[0m \u001b[0mEvaluatorSubprocess\u001b[0m\u001b[0;34m(\u001b[0m\u001b[0mevaluator\u001b[0m\u001b[0;34m,\u001b[0m \u001b[0mself\u001b[0m\u001b[0;34m.\u001b[0m\u001b[0m_get_subprocess\u001b[0m\u001b[0;34m(\u001b[0m\u001b[0;34m)\u001b[0m\u001b[0;34m)\u001b[0m\u001b[0;34m\u001b[0m\u001b[0;34m\u001b[0m\u001b[0m\n\u001b[0m\u001b[1;32m    114\u001b[0m \u001b[0;34m\u001b[0m\u001b[0m\n\u001b[1;32m    115\u001b[0m     \u001b[0;34m@\u001b[0m\u001b[0mmemoize_method\u001b[0m\u001b[0;34m\u001b[0m\u001b[0;34m\u001b[0m\u001b[0m\n",
      "\u001b[0;32m/usr/local/lib/python3.7/site-packages/jedi/api/environment.py\u001b[0m in \u001b[0;36m_get_subprocess\u001b[0;34m(self)\u001b[0m\n\u001b[1;32m     77\u001b[0m                 \"Could not get version information for %r: %r\" % (\n\u001b[1;32m     78\u001b[0m                     \u001b[0mself\u001b[0m\u001b[0;34m.\u001b[0m\u001b[0m_start_executable\u001b[0m\u001b[0;34m,\u001b[0m\u001b[0;34m\u001b[0m\u001b[0;34m\u001b[0m\u001b[0m\n\u001b[0;32m---> 79\u001b[0;31m                     exc))\n\u001b[0m\u001b[1;32m     80\u001b[0m \u001b[0;34m\u001b[0m\u001b[0m\n\u001b[1;32m     81\u001b[0m         \u001b[0;31m# Since it could change and might not be the same(?) as the one given,\u001b[0m\u001b[0;34m\u001b[0m\u001b[0;34m\u001b[0m\u001b[0;34m\u001b[0m\u001b[0m\n",
      "\u001b[0;31mInvalidPythonEnvironment\u001b[0m: Could not get version information for '/usr/local/opt/python/bin/python3.7': BlockingIOError(35, 'Resource temporarily unavailable')"
     ]
    }
   ],
   "source": [
    "times_dict = {\n",
    "    'code_read': [],\n",
    "    'tokenize': [],\n",
    "    'before_jedi': [],\n",
    "    'jedi': [],\n",
    "    'after_jedi': [],\n",
    "    'everything_in_for_in_g_body': [],\n",
    "    'save_preprocessed': [],\n",
    "}\n",
    "\n",
    "\n",
    "def prepare_samples(path, samples_path):\n",
    "    def get_filenames(path):\n",
    "        with open(path) as f:\n",
    "            filenames = f.read().split('\\n')\n",
    "        return filenames\n",
    "    \n",
    "    def load_mapping(path):\n",
    "        with open(path, 'rb') as f:\n",
    "#         print(base_path + '/mapping.map')\n",
    "            word_to_id = pickle.load(f)\n",
    "        return word_to_id\n",
    "\n",
    "    def predict_tokens(code):\n",
    "        try:\n",
    "            script = jedi.Script(code)\n",
    "            return script.completions()\n",
    "        except KeyError:\n",
    "            pass\n",
    "#             prepare_samples(path, samples_path)\n",
    "    \n",
    "    def load_preprocessed(path):\n",
    "        try:\n",
    "            with open(path, 'rb') as f:\n",
    "                samples = pickle.load(f)\n",
    "        except FileNotFoundError:\n",
    "            samples = {}\n",
    "        return samples\n",
    "    \n",
    "    def save_preprocessed(samples_dict_path, samples_dict):\n",
    "        with open(samples_dict_path, 'wb') as f:\n",
    "            samples = pickle.dump(samples_dict, f)\n",
    "    \n",
    "    filenames = get_filenames(path + samples_path)\n",
    "    word_to_id = load_mapping('./mapping.map')\n",
    "    \n",
    "    samples_dict_path = './ranking_samples_' + samples_path[:3]\n",
    "    samples_dict = load_preprocessed(samples_dict_path)\n",
    "\n",
    "#     start_time = timeit.default_timer()\n",
    "#     # code you want to evaluate\n",
    "#     elapsed = timeit.default_timer() - start_time\n",
    "\n",
    "    for i, filename in enumerate(tqdm(filenames)):\n",
    "        \n",
    "        if filename in samples_dict:\n",
    "            continue\n",
    "\n",
    "#         clear_output()\n",
    "        times_dict['code_read'].append(0.)\n",
    "        times_dict['tokenize'].append(0.)\n",
    "        times_dict['before_jedi'].append(0.)\n",
    "        times_dict['jedi'].append(0.)\n",
    "        times_dict['after_jedi'].append(0.)\n",
    "        times_dict['everything_in_for_in_g_body'].append(0.)\n",
    "        times_dict['save_preprocessed'].append(0.)\n",
    "\n",
    "        start_time = timeit.default_timer()\n",
    "        with open(path + filename) as f:\n",
    "            code = f.read()\n",
    "        times_dict['code_read'][-1] += timeit.default_timer() - start_time\n",
    "        print(times_dict['code_read'])\n",
    "        \n",
    "        start_time = timeit.default_timer()\n",
    "        samples = []\n",
    "        prev_tokens = []\n",
    "        g = tokenize.tokenize(BytesIO(code.encode(\"utf-8\")).readline)\n",
    "        code_lines = code.split('\\n')\n",
    "        times_dict['tokenize'][-1] += timeit.default_timer() - start_time\n",
    "        print(times_dict['tokenize'])\n",
    "        \n",
    "        start_time = timeit.default_timer()\n",
    "        for toktype, tokval, start, _, _ in g:\n",
    "            if toktype == tokenize.NAME and tokval in word_to_id:\n",
    "                inner_start_time = timeit.default_timer()\n",
    "                row, col = start\n",
    "                real_token = word_to_id[tokval]\n",
    "                prev_code = '\\n'.join(code_lines[:row-1]) + '\\n' + code_lines[row-1][:col+1]\n",
    "                times_dict['before_jedi'][-1] += timeit.default_timer() - inner_start_time\n",
    "                \n",
    "                inner_start_time = timeit.default_timer()\n",
    "                preds = predict_tokens(prev_code)\n",
    "                times_dict['jedi'][-1] += timeit.default_timer() - inner_start_time\n",
    "\n",
    "                inner_start_time = timeit.default_timer()\n",
    "                for pred in preds:\n",
    "                    completion = pred.full_name\n",
    "                    if completion in word_to_id:\n",
    "                        completion_id = word_to_id[completion]\n",
    "                        samples.append([\n",
    "                            prev_tokens[:],\n",
    "                            completion_id,\n",
    "                            real_token\n",
    "                        ])\n",
    "                prev_tokens.append(real_token)\n",
    "                times_dict['after_jedi'][-1] += timeit.default_timer() - inner_start_time\n",
    "#                     break\n",
    "        times_dict['everything_in_for_in_g_body'][-1] += timeit.default_timer() - start_time\n",
    "        print(times_dict['everything_in_for_in_g_body'])\n",
    "        samples_dict[filename] = samples\n",
    "        \n",
    "        start_time = timeit.default_timer()\n",
    "        save_preprocessed(samples_dict_path, samples_dict)\n",
    "        times_dict['save_preprocessed'][-1] += timeit.default_timer() - start_time\n",
    "        clear_output()\n",
    "#         break\n",
    "    save_preprocessed(samples_dict_path, samples_dict)\n",
    "    return samples_dict\n",
    "\n",
    "path = './pycodesuggest_py_repos_normalised/'\n",
    "samples_path = 'train_files.txt'\n",
    "samples = prepare_samples(path, samples_path)\n",
    "        "
   ]
  },
  {
   "cell_type": "code",
   "execution_count": 3,
   "metadata": {},
   "outputs": [
    {
     "data": {
      "text/plain": [
       "{'code_read': [0.0021002540000001346,\n",
       "  0.0040657039999985045,\n",
       "  0.004112184999996771,\n",
       "  0.0010922739999728037,\n",
       "  0.001201352999999017,\n",
       "  0.000864787999944383,\n",
       "  0.0006555749999961336,\n",
       "  0.0010110430000054293,\n",
       "  0.0011278509999783637,\n",
       "  0.08087101799992524,\n",
       "  0.0006236240001271653,\n",
       "  0.0018655849999049678,\n",
       "  0.013776576999816825,\n",
       "  0.00041471600002296327,\n",
       "  0.001098770999988119,\n",
       "  0.0014301409999006864,\n",
       "  0.0008996050000860123,\n",
       "  0.0014114690000042174,\n",
       "  0.0009126420000029611,\n",
       "  0.0009328109999842127,\n",
       "  0.0006261469998207758,\n",
       "  0.00133860599999025,\n",
       "  0.0008457900000848895,\n",
       "  0.0009099769999920682,\n",
       "  0.004566714000020511,\n",
       "  0.0012994339999750082,\n",
       "  0.00109186800000316,\n",
       "  0.0011106520000794262,\n",
       "  0.004105575000039607,\n",
       "  0.0004915319998417544,\n",
       "  0.0023259320000761363,\n",
       "  0.0037616270001308294,\n",
       "  0.0027956850001373823,\n",
       "  0.004676811000081216,\n",
       "  0.0008892020000530465],\n",
       " 'tokenize': [9.641599999987704e-05,\n",
       "  0.0001996440000198163,\n",
       "  0.00013618899998846246,\n",
       "  0.00018906600001855622,\n",
       "  0.00011942399999043118,\n",
       "  6.030499997677907e-05,\n",
       "  9.052400002929062e-05,\n",
       "  0.00015657400001600763,\n",
       "  0.0007245489999831989,\n",
       "  0.00046540500011360564,\n",
       "  5.783500000688946e-05,\n",
       "  0.00015554099991277326,\n",
       "  9.47650000853173e-05,\n",
       "  5.126700011715002e-05,\n",
       "  6.221700004971353e-05,\n",
       "  0.00013152700012142304,\n",
       "  0.0001043370000388677,\n",
       "  0.00010015400016527565,\n",
       "  0.00010427100005472312,\n",
       "  8.984700002656609e-05,\n",
       "  6.908000000294123e-05,\n",
       "  0.0001474969999435416,\n",
       "  0.0003401339999982156,\n",
       "  8.428399996773805e-05,\n",
       "  0.00020239000014043995,\n",
       "  0.0001545229999919684,\n",
       "  8.677800019540882e-05,\n",
       "  7.902500010459335e-05,\n",
       "  9.976999990612967e-05,\n",
       "  5.7167000022673164e-05,\n",
       "  5.9593000059976475e-05,\n",
       "  6.173299993861292e-05,\n",
       "  8.299099999931059e-05,\n",
       "  9.73660000909149e-05,\n",
       "  0.001001621000114028],\n",
       " 'before_jedi': [0.021653274999826166,\n",
       "  0.03186795299964729,\n",
       "  0.0011954180000088854,\n",
       "  0.0014675789997227184,\n",
       "  0.0,\n",
       "  0.0029484589994694943,\n",
       "  0.0,\n",
       "  0.175196945999744,\n",
       "  0.724037856007385,\n",
       "  0.0,\n",
       "  0.0018215750003491848,\n",
       "  0.02438844099833659,\n",
       "  7.950300005177269e-05,\n",
       "  0.0,\n",
       "  0.00010870800042539486,\n",
       "  0.004750230998297411,\n",
       "  0.00017103500022130902,\n",
       "  0.0025721829997564782,\n",
       "  4.6443999963230453e-05,\n",
       "  0.000962196999353182,\n",
       "  0.0,\n",
       "  0.06024233599964646,\n",
       "  0.0001424309994035866,\n",
       "  0.002853269998468022,\n",
       "  0.01630668099937793,\n",
       "  0.0007225589999961812,\n",
       "  0.00018620200012264831,\n",
       "  0.00029929900051683944,\n",
       "  7.846600033190043e-05,\n",
       "  0.0,\n",
       "  0.00014397400013876904,\n",
       "  2.8900999950565165e-05,\n",
       "  2.6175999892075197e-05,\n",
       "  0.00026018400035354716,\n",
       "  0.04809714500265727],\n",
       " 'jedi': [134.04499346500023,\n",
       "  121.41994354900007,\n",
       "  7.833048864000034,\n",
       "  9.567293183999993,\n",
       "  0.0,\n",
       "  19.61912817900037,\n",
       "  0.0,\n",
       "  243.69603364599982,\n",
       "  929.4105963709966,\n",
       "  0.0,\n",
       "  14.32099219499878,\n",
       "  97.381561999003,\n",
       "  1.8999904520003383,\n",
       "  0.0,\n",
       "  2.7204026639994936,\n",
       "  29.773283602998163,\n",
       "  0.8859992669999883,\n",
       "  19.535580149999532,\n",
       "  0.9134034319999955,\n",
       "  9.45501575600042,\n",
       "  0.0,\n",
       "  137.46023406299855,\n",
       "  2.1513081420000617,\n",
       "  20.879327447000378,\n",
       "  52.93820484200023,\n",
       "  12.497034529000075,\n",
       "  2.7930673809999007,\n",
       "  2.8195056120000572,\n",
       "  2.130003109999734,\n",
       "  0.0,\n",
       "  2.941618275999872,\n",
       "  1.0578861889998734,\n",
       "  1.2143118450001111,\n",
       "  5.034809109999742,\n",
       "  152.6986438759984],\n",
       " 'after_jedi': [0.8571290240001073,\n",
       "  0.40301584199974627,\n",
       "  0.034745819999784544,\n",
       "  0.8097217349999255,\n",
       "  0.0,\n",
       "  1.1525499339998078,\n",
       "  0.0,\n",
       "  3.9721161920016357,\n",
       "  4.403407229002369,\n",
       "  0.0,\n",
       "  0.15203346299927034,\n",
       "  1.1404198019997693,\n",
       "  0.5468452579998484,\n",
       "  0.0,\n",
       "  0.18208514300044953,\n",
       "  2.742943803999651,\n",
       "  0.015797535999809043,\n",
       "  0.15586068399943542,\n",
       "  0.01335276800000429,\n",
       "  0.05971423100049833,\n",
       "  0.0,\n",
       "  1.139015778000612,\n",
       "  0.3162833890000911,\n",
       "  0.330057125999474,\n",
       "  0.2829035569993721,\n",
       "  0.14559187100007875,\n",
       "  0.04489014300020244,\n",
       "  0.03468301799989604,\n",
       "  0.4842318129999512,\n",
       "  0.0,\n",
       "  0.24642419800034077,\n",
       "  0.017569334999734565,\n",
       "  0.014264984000192271,\n",
       "  0.07486372099992877,\n",
       "  0.5674964769948474],\n",
       " 'everything_in_for_in_g_body': [134.99619405500002,\n",
       "  121.92347707600004,\n",
       "  7.873724702000004,\n",
       "  10.38427108999997,\n",
       "  2.041300001565105e-05,\n",
       "  20.785884280999994,\n",
       "  1.706399996237451e-05,\n",
       "  247.98380466900005,\n",
       "  935.059276404,\n",
       "  2.6004999881479307e-05,\n",
       "  14.486477802000081,\n",
       "  98.61647444099981,\n",
       "  2.44799908899995,\n",
       "  1.6018999986044946e-05,\n",
       "  2.9059011389999796,\n",
       "  32.53937199300003,\n",
       "  0.9028069219998542,\n",
       "  19.7062108250002,\n",
       "  0.9276234149999709,\n",
       "  9.521455967999827,\n",
       "  1.9468000118649798e-05,\n",
       "  138.737893923,\n",
       "  2.4697544759999346,\n",
       "  21.223821039000086,\n",
       "  53.265053181999974,\n",
       "  12.65092445900018,\n",
       "  2.8401240040000175,\n",
       "  2.8562218609999945,\n",
       "  2.6154350250001244,\n",
       "  1.9070999996984028e-05,\n",
       "  3.1899536019998322,\n",
       "  1.076192113000161,\n",
       "  1.2293105640001158,\n",
       "  5.113046438999845,\n",
       "  0.0],\n",
       " 'save_preprocessed': [0.504945169999985,\n",
       "  0.5922771420000004,\n",
       "  0.5620814399999858,\n",
       "  0.5185736910000287,\n",
       "  0.5205677569999807,\n",
       "  0.5160402459999887,\n",
       "  0.5265912370000478,\n",
       "  0.6140571290000025,\n",
       "  1.592160978000038,\n",
       "  1.6113981669998338,\n",
       "  1.7512906830002066,\n",
       "  1.9491404670000065,\n",
       "  1.934487076999858,\n",
       "  1.7987916960000803,\n",
       "  2.0705173479998393,\n",
       "  1.5641840430000684,\n",
       "  1.5349311680001847,\n",
       "  1.621999724000034,\n",
       "  1.5711992459998783,\n",
       "  1.6074619870000788,\n",
       "  1.5041633319999619,\n",
       "  1.9600872690000415,\n",
       "  1.6737805689999732,\n",
       "  2.0614172919999874,\n",
       "  2.173312721000002,\n",
       "  1.8953653240000676,\n",
       "  1.69672373100002,\n",
       "  1.6154705960000229,\n",
       "  2.202368864999926,\n",
       "  1.7075826790000974,\n",
       "  1.8382720990000507,\n",
       "  2.2859725429998434,\n",
       "  1.7559875709998778,\n",
       "  1.8377520789999835,\n",
       "  0.0]}"
      ]
     },
     "execution_count": 3,
     "metadata": {},
     "output_type": "execute_result"
    }
   ],
   "source": [
    "times_dict"
   ]
  },
  {
   "cell_type": "code",
   "execution_count": null,
   "metadata": {},
   "outputs": [],
   "source": []
  },
  {
   "cell_type": "code",
   "execution_count": null,
   "metadata": {},
   "outputs": [],
   "source": []
  },
  {
   "cell_type": "code",
   "execution_count": 5,
   "metadata": {},
   "outputs": [
    {
     "name": "stderr",
     "output_type": "stream",
     "text": [
      "Exception ignored in: <function WeakSet.__init__.<locals>._remove at 0x103b66950>\n",
      "Traceback (most recent call last):\n",
      "  File \"/usr/local/Cellar/python/3.7.3/Frameworks/Python.framework/Versions/3.7/lib/python3.7/_weakrefset.py\", line 38, in _remove\n",
      "    def _remove(item, selfref=ref(self)):\n",
      "KeyboardInterrupt\n"
     ]
    }
   ],
   "source": [
    "with open('./ranking_samples_tra', 'rb') as f:\n",
    "    samples = pickle.load(f)"
   ]
  },
  {
   "cell_type": "code",
   "execution_count": 6,
   "metadata": {},
   "outputs": [
    {
     "name": "stdout",
     "output_type": "stream",
     "text": [
      "90017\n",
      "126\n"
     ]
    }
   ],
   "source": [
    "count = 0\n",
    "\n",
    "for v in samples.values():\n",
    "    count += len(v)\n",
    "print(count)\n",
    "print(len(samples.values()))"
   ]
  },
  {
   "cell_type": "markdown",
   "metadata": {},
   "source": [
    "## create test dataset"
   ]
  },
  {
   "cell_type": "code",
   "execution_count": null,
   "metadata": {},
   "outputs": [],
   "source": []
  },
  {
   "cell_type": "code",
   "execution_count": 53,
   "metadata": {},
   "outputs": [],
   "source": [
    "jedi_correct = 900.0\n",
    "jedi_total = 5984.0"
   ]
  },
  {
   "cell_type": "code",
   "execution_count": 60,
   "metadata": {
    "scrolled": true
   },
   "outputs": [
    {
     "data": {
      "application/vnd.jupyter.widget-view+json": {
       "model_id": "06d388a34ba943b3afb07ec1924f6d40",
       "version_major": 2,
       "version_minor": 0
      },
      "text/plain": [
       "HBox(children=(IntProgress(value=0, max=39791), HTML(value='')))"
      ]
     },
     "metadata": {},
     "output_type": "display_data"
    },
    {
     "name": "stdout",
     "output_type": "stream",
     "text": [
      "./pycodesuggest_py_repos_normalised/conda-forge/staged-recipes/.ci_support/compute_build_graph.py\n"
     ]
    },
    {
     "ename": "InvalidPythonEnvironment",
     "evalue": "Could not get version information for '/usr/local/opt/python/bin/python3.7': BlockingIOError(35, 'Resource temporarily unavailable')",
     "output_type": "error",
     "traceback": [
      "\u001b[0;31m---------------------------------------------------------------------------\u001b[0m",
      "\u001b[0;31mKeyError\u001b[0m                                  Traceback (most recent call last)",
      "\u001b[0;32m/usr/local/lib/python3.7/site-packages/jedi/cache.py\u001b[0m in \u001b[0;36mwrapper\u001b[0;34m(self, *args, **kwargs)\u001b[0m\n\u001b[1;32m    140\u001b[0m         \u001b[0;32mtry\u001b[0m\u001b[0;34m:\u001b[0m\u001b[0;34m\u001b[0m\u001b[0;34m\u001b[0m\u001b[0m\n\u001b[0;32m--> 141\u001b[0;31m             \u001b[0;32mreturn\u001b[0m \u001b[0mdct\u001b[0m\u001b[0;34m[\u001b[0m\u001b[0mkey\u001b[0m\u001b[0;34m]\u001b[0m\u001b[0;34m\u001b[0m\u001b[0;34m\u001b[0m\u001b[0m\n\u001b[0m\u001b[1;32m    142\u001b[0m         \u001b[0;32mexcept\u001b[0m \u001b[0mKeyError\u001b[0m\u001b[0;34m:\u001b[0m\u001b[0;34m\u001b[0m\u001b[0;34m\u001b[0m\u001b[0m\n",
      "\u001b[0;31mKeyError\u001b[0m: ((), frozenset())",
      "\nDuring handling of the above exception, another exception occurred:\n",
      "\u001b[0;31mBlockingIOError\u001b[0m                           Traceback (most recent call last)",
      "\u001b[0;32m/usr/local/lib/python3.7/site-packages/jedi/api/environment.py\u001b[0m in \u001b[0;36m_get_subprocess\u001b[0;34m(self)\u001b[0m\n\u001b[1;32m     73\u001b[0m             \u001b[0mself\u001b[0m\u001b[0;34m.\u001b[0m\u001b[0m_subprocess\u001b[0m \u001b[0;34m=\u001b[0m \u001b[0mCompiledSubprocess\u001b[0m\u001b[0;34m(\u001b[0m\u001b[0mself\u001b[0m\u001b[0;34m.\u001b[0m\u001b[0m_start_executable\u001b[0m\u001b[0;34m)\u001b[0m\u001b[0;34m\u001b[0m\u001b[0;34m\u001b[0m\u001b[0m\n\u001b[0;32m---> 74\u001b[0;31m             \u001b[0minfo\u001b[0m \u001b[0;34m=\u001b[0m \u001b[0mself\u001b[0m\u001b[0;34m.\u001b[0m\u001b[0m_subprocess\u001b[0m\u001b[0;34m.\u001b[0m\u001b[0m_send\u001b[0m\u001b[0;34m(\u001b[0m\u001b[0;32mNone\u001b[0m\u001b[0;34m,\u001b[0m \u001b[0m_get_info\u001b[0m\u001b[0;34m)\u001b[0m\u001b[0;34m\u001b[0m\u001b[0;34m\u001b[0m\u001b[0m\n\u001b[0m\u001b[1;32m     75\u001b[0m         \u001b[0;32mexcept\u001b[0m \u001b[0mException\u001b[0m \u001b[0;32mas\u001b[0m \u001b[0mexc\u001b[0m\u001b[0;34m:\u001b[0m\u001b[0;34m\u001b[0m\u001b[0;34m\u001b[0m\u001b[0m\n",
      "\u001b[0;32m/usr/local/lib/python3.7/site-packages/jedi/evaluate/compiled/subprocess/__init__.py\u001b[0m in \u001b[0;36m_send\u001b[0;34m(self, evaluator_id, function, args, kwargs)\u001b[0m\n\u001b[1;32m    228\u001b[0m         \u001b[0;32mtry\u001b[0m\u001b[0;34m:\u001b[0m\u001b[0;34m\u001b[0m\u001b[0;34m\u001b[0m\u001b[0m\n\u001b[0;32m--> 229\u001b[0;31m             \u001b[0mpickle_dump\u001b[0m\u001b[0;34m(\u001b[0m\u001b[0mdata\u001b[0m\u001b[0;34m,\u001b[0m \u001b[0mself\u001b[0m\u001b[0;34m.\u001b[0m\u001b[0m_process\u001b[0m\u001b[0;34m.\u001b[0m\u001b[0mstdin\u001b[0m\u001b[0;34m,\u001b[0m \u001b[0mself\u001b[0m\u001b[0;34m.\u001b[0m\u001b[0m_pickle_protocol\u001b[0m\u001b[0;34m)\u001b[0m\u001b[0;34m\u001b[0m\u001b[0;34m\u001b[0m\u001b[0m\n\u001b[0m\u001b[1;32m    230\u001b[0m         \u001b[0;32mexcept\u001b[0m \u001b[0;34m(\u001b[0m\u001b[0msocket\u001b[0m\u001b[0;34m.\u001b[0m\u001b[0merror\u001b[0m\u001b[0;34m,\u001b[0m \u001b[0mIOError\u001b[0m\u001b[0;34m)\u001b[0m \u001b[0;32mas\u001b[0m \u001b[0me\u001b[0m\u001b[0;34m:\u001b[0m\u001b[0;34m\u001b[0m\u001b[0;34m\u001b[0m\u001b[0m\n",
      "\u001b[0;32m/usr/local/lib/python3.7/site-packages/jedi/cache.py\u001b[0m in \u001b[0;36mwrapper\u001b[0;34m(self, *args, **kwargs)\u001b[0m\n\u001b[1;32m    142\u001b[0m         \u001b[0;32mexcept\u001b[0m \u001b[0mKeyError\u001b[0m\u001b[0;34m:\u001b[0m\u001b[0;34m\u001b[0m\u001b[0;34m\u001b[0m\u001b[0m\n\u001b[0;32m--> 143\u001b[0;31m             \u001b[0mresult\u001b[0m \u001b[0;34m=\u001b[0m \u001b[0mmethod\u001b[0m\u001b[0;34m(\u001b[0m\u001b[0mself\u001b[0m\u001b[0;34m,\u001b[0m \u001b[0;34m*\u001b[0m\u001b[0margs\u001b[0m\u001b[0;34m,\u001b[0m \u001b[0;34m**\u001b[0m\u001b[0mkwargs\u001b[0m\u001b[0;34m)\u001b[0m\u001b[0;34m\u001b[0m\u001b[0;34m\u001b[0m\u001b[0m\n\u001b[0m\u001b[1;32m    144\u001b[0m             \u001b[0mdct\u001b[0m\u001b[0;34m[\u001b[0m\u001b[0mkey\u001b[0m\u001b[0;34m]\u001b[0m \u001b[0;34m=\u001b[0m \u001b[0mresult\u001b[0m\u001b[0;34m\u001b[0m\u001b[0;34m\u001b[0m\u001b[0m\n",
      "\u001b[0;32m/usr/local/lib/python3.7/site-packages/jedi/evaluate/compiled/subprocess/__init__.py\u001b[0m in \u001b[0;36m_process\u001b[0;34m(self)\u001b[0m\n\u001b[1;32m    176\u001b[0m             \u001b[0;31m# (this is already the case on Python 3).\u001b[0m\u001b[0;34m\u001b[0m\u001b[0;34m\u001b[0m\u001b[0;34m\u001b[0m\u001b[0m\n\u001b[0;32m--> 177\u001b[0;31m             \u001b[0mbufsize\u001b[0m\u001b[0;34m=\u001b[0m\u001b[0;34m-\u001b[0m\u001b[0;36m1\u001b[0m\u001b[0;34m\u001b[0m\u001b[0;34m\u001b[0m\u001b[0m\n\u001b[0m\u001b[1;32m    178\u001b[0m         )\n",
      "\u001b[0;32m/usr/local/lib/python3.7/site-packages/jedi/_compatibility.py\u001b[0m in \u001b[0;36m__init__\u001b[0;34m(self, *args, **kwargs)\u001b[0m\n\u001b[1;32m    524\u001b[0m         \u001b[0mkwargs\u001b[0m\u001b[0;34m[\u001b[0m\u001b[0;34m'close_fds'\u001b[0m\u001b[0;34m]\u001b[0m \u001b[0;34m=\u001b[0m \u001b[0;34m'posix'\u001b[0m \u001b[0;32min\u001b[0m \u001b[0msys\u001b[0m\u001b[0;34m.\u001b[0m\u001b[0mbuiltin_module_names\u001b[0m\u001b[0;34m\u001b[0m\u001b[0;34m\u001b[0m\u001b[0m\n\u001b[0;32m--> 525\u001b[0;31m         \u001b[0msuper\u001b[0m\u001b[0;34m(\u001b[0m\u001b[0mGeneralizedPopen\u001b[0m\u001b[0;34m,\u001b[0m \u001b[0mself\u001b[0m\u001b[0;34m)\u001b[0m\u001b[0;34m.\u001b[0m\u001b[0m__init__\u001b[0m\u001b[0;34m(\u001b[0m\u001b[0;34m*\u001b[0m\u001b[0margs\u001b[0m\u001b[0;34m,\u001b[0m \u001b[0;34m**\u001b[0m\u001b[0mkwargs\u001b[0m\u001b[0;34m)\u001b[0m\u001b[0;34m\u001b[0m\u001b[0;34m\u001b[0m\u001b[0m\n\u001b[0m\u001b[1;32m    526\u001b[0m \u001b[0;34m\u001b[0m\u001b[0m\n",
      "\u001b[0;32m/usr/local/Cellar/python/3.7.3/Frameworks/Python.framework/Versions/3.7/lib/python3.7/subprocess.py\u001b[0m in \u001b[0;36m__init__\u001b[0;34m(self, args, bufsize, executable, stdin, stdout, stderr, preexec_fn, close_fds, shell, cwd, env, universal_newlines, startupinfo, creationflags, restore_signals, start_new_session, pass_fds, encoding, errors, text)\u001b[0m\n\u001b[1;32m    774\u001b[0m                                 \u001b[0merrread\u001b[0m\u001b[0;34m,\u001b[0m \u001b[0merrwrite\u001b[0m\u001b[0;34m,\u001b[0m\u001b[0;34m\u001b[0m\u001b[0;34m\u001b[0m\u001b[0m\n\u001b[0;32m--> 775\u001b[0;31m                                 restore_signals, start_new_session)\n\u001b[0m\u001b[1;32m    776\u001b[0m         \u001b[0;32mexcept\u001b[0m\u001b[0;34m:\u001b[0m\u001b[0;34m\u001b[0m\u001b[0;34m\u001b[0m\u001b[0m\n",
      "\u001b[0;32m/usr/local/Cellar/python/3.7.3/Frameworks/Python.framework/Versions/3.7/lib/python3.7/subprocess.py\u001b[0m in \u001b[0;36m_execute_child\u001b[0;34m(self, args, executable, preexec_fn, close_fds, pass_fds, cwd, env, startupinfo, creationflags, shell, p2cread, p2cwrite, c2pread, c2pwrite, errread, errwrite, restore_signals, start_new_session)\u001b[0m\n\u001b[1;32m   1452\u001b[0m                             \u001b[0merrpipe_read\u001b[0m\u001b[0;34m,\u001b[0m \u001b[0merrpipe_write\u001b[0m\u001b[0;34m,\u001b[0m\u001b[0;34m\u001b[0m\u001b[0;34m\u001b[0m\u001b[0m\n\u001b[0;32m-> 1453\u001b[0;31m                             restore_signals, start_new_session, preexec_fn)\n\u001b[0m\u001b[1;32m   1454\u001b[0m                     \u001b[0mself\u001b[0m\u001b[0;34m.\u001b[0m\u001b[0m_child_created\u001b[0m \u001b[0;34m=\u001b[0m \u001b[0;32mTrue\u001b[0m\u001b[0;34m\u001b[0m\u001b[0;34m\u001b[0m\u001b[0m\n",
      "\u001b[0;31mBlockingIOError\u001b[0m: [Errno 35] Resource temporarily unavailable",
      "\nDuring handling of the above exception, another exception occurred:\n",
      "\u001b[0;31mInvalidPythonEnvironment\u001b[0m                  Traceback (most recent call last)",
      "\u001b[0;32m<ipython-input-60-9f1931c4f6cc>\u001b[0m in \u001b[0;36m<module>\u001b[0;34m\u001b[0m\n\u001b[1;32m     92\u001b[0m \u001b[0mpath\u001b[0m \u001b[0;34m=\u001b[0m \u001b[0;34m'./pycodesuggest_py_repos_normalised/'\u001b[0m\u001b[0;34m\u001b[0m\u001b[0;34m\u001b[0m\u001b[0m\n\u001b[1;32m     93\u001b[0m \u001b[0msamples_path\u001b[0m \u001b[0;34m=\u001b[0m \u001b[0;34m'test_files.txt'\u001b[0m \u001b[0;31m# todo due to word_to_id may not work\u001b[0m\u001b[0;34m\u001b[0m\u001b[0;34m\u001b[0m\u001b[0m\n\u001b[0;32m---> 94\u001b[0;31m \u001b[0msamples\u001b[0m\u001b[0;34m,\u001b[0m \u001b[0mjedi_\u001b[0m \u001b[0;34m=\u001b[0m \u001b[0mprepare_test_samples\u001b[0m\u001b[0;34m(\u001b[0m\u001b[0mpath\u001b[0m\u001b[0;34m,\u001b[0m \u001b[0msamples_path\u001b[0m\u001b[0;34m)\u001b[0m\u001b[0;34m\u001b[0m\u001b[0;34m\u001b[0m\u001b[0m\n\u001b[0m\u001b[1;32m     95\u001b[0m \u001b[0;34m\u001b[0m\u001b[0m\n",
      "\u001b[0;32m<ipython-input-60-9f1931c4f6cc>\u001b[0m in \u001b[0;36mprepare_test_samples\u001b[0;34m(path, samples_path)\u001b[0m\n\u001b[1;32m     79\u001b[0m         \u001b[0;32mfor\u001b[0m \u001b[0mtoktype\u001b[0m\u001b[0;34m,\u001b[0m \u001b[0mtokval\u001b[0m\u001b[0;34m,\u001b[0m \u001b[0mstart\u001b[0m\u001b[0;34m,\u001b[0m \u001b[0m_\u001b[0m\u001b[0;34m,\u001b[0m \u001b[0m_\u001b[0m \u001b[0;32min\u001b[0m \u001b[0mg\u001b[0m\u001b[0;34m:\u001b[0m\u001b[0;34m\u001b[0m\u001b[0;34m\u001b[0m\u001b[0m\n\u001b[1;32m     80\u001b[0m             \u001b[0;32mif\u001b[0m \u001b[0mtoktype\u001b[0m \u001b[0;34m==\u001b[0m \u001b[0mtokenize\u001b[0m\u001b[0;34m.\u001b[0m\u001b[0mNAME\u001b[0m \u001b[0;32mand\u001b[0m \u001b[0mtokval\u001b[0m \u001b[0;32min\u001b[0m \u001b[0mword_to_id\u001b[0m\u001b[0;34m:\u001b[0m\u001b[0;34m\u001b[0m\u001b[0;34m\u001b[0m\u001b[0m\n\u001b[0;32m---> 81\u001b[0;31m                 \u001b[0mhandle_identifier\u001b[0m\u001b[0;34m(\u001b[0m\u001b[0mtoktype\u001b[0m\u001b[0;34m,\u001b[0m \u001b[0mtokval\u001b[0m\u001b[0;34m,\u001b[0m \u001b[0mstart\u001b[0m\u001b[0;34m)\u001b[0m\u001b[0;34m\u001b[0m\u001b[0;34m\u001b[0m\u001b[0m\n\u001b[0m\u001b[1;32m     82\u001b[0m \u001b[0;34m\u001b[0m\u001b[0m\n\u001b[1;32m     83\u001b[0m         \u001b[0msamples_dict\u001b[0m\u001b[0;34m[\u001b[0m\u001b[0mfilename\u001b[0m\u001b[0;34m]\u001b[0m \u001b[0;34m=\u001b[0m \u001b[0msamples\u001b[0m\u001b[0;34m\u001b[0m\u001b[0;34m\u001b[0m\u001b[0m\n",
      "\u001b[0;32m<ipython-input-60-9f1931c4f6cc>\u001b[0m in \u001b[0;36mhandle_identifier\u001b[0;34m(toktype, tokval, start)\u001b[0m\n\u001b[1;32m     39\u001b[0m         \u001b[0mprev_code\u001b[0m \u001b[0;34m=\u001b[0m \u001b[0;34m'\\n'\u001b[0m\u001b[0;34m.\u001b[0m\u001b[0mjoin\u001b[0m\u001b[0;34m(\u001b[0m\u001b[0mcode_lines\u001b[0m\u001b[0;34m[\u001b[0m\u001b[0;34m:\u001b[0m\u001b[0mrow\u001b[0m\u001b[0;34m-\u001b[0m\u001b[0;36m1\u001b[0m\u001b[0;34m]\u001b[0m\u001b[0;34m)\u001b[0m \u001b[0;34m+\u001b[0m \u001b[0;34m'\\n'\u001b[0m \u001b[0;34m+\u001b[0m \u001b[0mcode_lines\u001b[0m\u001b[0;34m[\u001b[0m\u001b[0mrow\u001b[0m\u001b[0;34m-\u001b[0m\u001b[0;36m1\u001b[0m\u001b[0;34m]\u001b[0m\u001b[0;34m[\u001b[0m\u001b[0;34m:\u001b[0m\u001b[0mcol\u001b[0m\u001b[0;34m+\u001b[0m\u001b[0;36m1\u001b[0m\u001b[0;34m]\u001b[0m\u001b[0;34m\u001b[0m\u001b[0;34m\u001b[0m\u001b[0m\n\u001b[1;32m     40\u001b[0m \u001b[0;34m\u001b[0m\u001b[0m\n\u001b[0;32m---> 41\u001b[0;31m         \u001b[0mpreds\u001b[0m \u001b[0;34m=\u001b[0m \u001b[0mpredict_tokens\u001b[0m\u001b[0;34m(\u001b[0m\u001b[0mprev_code\u001b[0m\u001b[0;34m)\u001b[0m\u001b[0;34m\u001b[0m\u001b[0;34m\u001b[0m\u001b[0m\n\u001b[0m\u001b[1;32m     42\u001b[0m \u001b[0;34m\u001b[0m\u001b[0m\n\u001b[1;32m     43\u001b[0m         \u001b[0;32mfor\u001b[0m \u001b[0midx\u001b[0m\u001b[0;34m,\u001b[0m \u001b[0mpred\u001b[0m \u001b[0;32min\u001b[0m \u001b[0menumerate\u001b[0m\u001b[0;34m(\u001b[0m\u001b[0mpreds\u001b[0m\u001b[0;34m)\u001b[0m\u001b[0;34m:\u001b[0m\u001b[0;34m\u001b[0m\u001b[0;34m\u001b[0m\u001b[0m\n",
      "\u001b[0;32m<ipython-input-60-9f1931c4f6cc>\u001b[0m in \u001b[0;36mpredict_tokens\u001b[0;34m(code)\u001b[0m\n\u001b[1;32m     15\u001b[0m     \u001b[0;32mdef\u001b[0m \u001b[0mpredict_tokens\u001b[0m\u001b[0;34m(\u001b[0m\u001b[0mcode\u001b[0m\u001b[0;34m)\u001b[0m\u001b[0;34m:\u001b[0m\u001b[0;34m\u001b[0m\u001b[0;34m\u001b[0m\u001b[0m\n\u001b[1;32m     16\u001b[0m         \u001b[0;32mtry\u001b[0m\u001b[0;34m:\u001b[0m\u001b[0;34m\u001b[0m\u001b[0;34m\u001b[0m\u001b[0m\n\u001b[0;32m---> 17\u001b[0;31m             \u001b[0mscript\u001b[0m \u001b[0;34m=\u001b[0m \u001b[0mjedi\u001b[0m\u001b[0;34m.\u001b[0m\u001b[0mScript\u001b[0m\u001b[0;34m(\u001b[0m\u001b[0mcode\u001b[0m\u001b[0;34m)\u001b[0m\u001b[0;34m\u001b[0m\u001b[0;34m\u001b[0m\u001b[0m\n\u001b[0m\u001b[1;32m     18\u001b[0m             \u001b[0;32mreturn\u001b[0m \u001b[0mscript\u001b[0m\u001b[0;34m.\u001b[0m\u001b[0mcompletions\u001b[0m\u001b[0;34m(\u001b[0m\u001b[0;34m)\u001b[0m\u001b[0;34m\u001b[0m\u001b[0;34m\u001b[0m\u001b[0m\n\u001b[1;32m     19\u001b[0m         \u001b[0;32mexcept\u001b[0m \u001b[0mKeyError\u001b[0m\u001b[0;34m:\u001b[0m\u001b[0;34m\u001b[0m\u001b[0;34m\u001b[0m\u001b[0m\n",
      "\u001b[0;32m/usr/local/lib/python3.7/site-packages/jedi/api/__init__.py\u001b[0m in \u001b[0;36m__init__\u001b[0;34m(self, source, line, column, path, encoding, sys_path, environment)\u001b[0m\n\u001b[1;32m    106\u001b[0m             \u001b[0mproject\u001b[0m\u001b[0;34m.\u001b[0m\u001b[0m_sys_path\u001b[0m \u001b[0;34m=\u001b[0m \u001b[0msys_path\u001b[0m\u001b[0;34m\u001b[0m\u001b[0;34m\u001b[0m\u001b[0m\n\u001b[1;32m    107\u001b[0m         self._evaluator = Evaluator(\n\u001b[0;32m--> 108\u001b[0;31m             \u001b[0mproject\u001b[0m\u001b[0;34m,\u001b[0m \u001b[0menvironment\u001b[0m\u001b[0;34m=\u001b[0m\u001b[0menvironment\u001b[0m\u001b[0;34m,\u001b[0m \u001b[0mscript_path\u001b[0m\u001b[0;34m=\u001b[0m\u001b[0mself\u001b[0m\u001b[0;34m.\u001b[0m\u001b[0mpath\u001b[0m\u001b[0;34m\u001b[0m\u001b[0;34m\u001b[0m\u001b[0m\n\u001b[0m\u001b[1;32m    109\u001b[0m         )\n\u001b[1;32m    110\u001b[0m         \u001b[0mself\u001b[0m\u001b[0;34m.\u001b[0m\u001b[0m_project\u001b[0m \u001b[0;34m=\u001b[0m \u001b[0mproject\u001b[0m\u001b[0;34m\u001b[0m\u001b[0;34m\u001b[0m\u001b[0m\n",
      "\u001b[0;32m/usr/local/lib/python3.7/site-packages/jedi/evaluate/__init__.py\u001b[0m in \u001b[0;36m__init__\u001b[0;34m(self, project, environment, script_path)\u001b[0m\n\u001b[1;32m     92\u001b[0m         \u001b[0mself\u001b[0m\u001b[0;34m.\u001b[0m\u001b[0menvironment\u001b[0m \u001b[0;34m=\u001b[0m \u001b[0menvironment\u001b[0m\u001b[0;34m\u001b[0m\u001b[0;34m\u001b[0m\u001b[0m\n\u001b[1;32m     93\u001b[0m         \u001b[0mself\u001b[0m\u001b[0;34m.\u001b[0m\u001b[0mscript_path\u001b[0m \u001b[0;34m=\u001b[0m \u001b[0mscript_path\u001b[0m\u001b[0;34m\u001b[0m\u001b[0;34m\u001b[0m\u001b[0m\n\u001b[0;32m---> 94\u001b[0;31m         \u001b[0mself\u001b[0m\u001b[0;34m.\u001b[0m\u001b[0mcompiled_subprocess\u001b[0m \u001b[0;34m=\u001b[0m \u001b[0menvironment\u001b[0m\u001b[0;34m.\u001b[0m\u001b[0mget_evaluator_subprocess\u001b[0m\u001b[0;34m(\u001b[0m\u001b[0mself\u001b[0m\u001b[0;34m)\u001b[0m\u001b[0;34m\u001b[0m\u001b[0;34m\u001b[0m\u001b[0m\n\u001b[0m\u001b[1;32m     95\u001b[0m         \u001b[0mself\u001b[0m\u001b[0;34m.\u001b[0m\u001b[0mgrammar\u001b[0m \u001b[0;34m=\u001b[0m \u001b[0menvironment\u001b[0m\u001b[0;34m.\u001b[0m\u001b[0mget_grammar\u001b[0m\u001b[0;34m(\u001b[0m\u001b[0;34m)\u001b[0m\u001b[0;34m\u001b[0m\u001b[0;34m\u001b[0m\u001b[0m\n\u001b[1;32m     96\u001b[0m \u001b[0;34m\u001b[0m\u001b[0m\n",
      "\u001b[0;32m/usr/local/lib/python3.7/site-packages/jedi/api/environment.py\u001b[0m in \u001b[0;36mget_evaluator_subprocess\u001b[0;34m(self, evaluator)\u001b[0m\n\u001b[1;32m    111\u001b[0m \u001b[0;34m\u001b[0m\u001b[0m\n\u001b[1;32m    112\u001b[0m     \u001b[0;32mdef\u001b[0m \u001b[0mget_evaluator_subprocess\u001b[0m\u001b[0;34m(\u001b[0m\u001b[0mself\u001b[0m\u001b[0;34m,\u001b[0m \u001b[0mevaluator\u001b[0m\u001b[0;34m)\u001b[0m\u001b[0;34m:\u001b[0m\u001b[0;34m\u001b[0m\u001b[0;34m\u001b[0m\u001b[0m\n\u001b[0;32m--> 113\u001b[0;31m         \u001b[0;32mreturn\u001b[0m \u001b[0mEvaluatorSubprocess\u001b[0m\u001b[0;34m(\u001b[0m\u001b[0mevaluator\u001b[0m\u001b[0;34m,\u001b[0m \u001b[0mself\u001b[0m\u001b[0;34m.\u001b[0m\u001b[0m_get_subprocess\u001b[0m\u001b[0;34m(\u001b[0m\u001b[0;34m)\u001b[0m\u001b[0;34m)\u001b[0m\u001b[0;34m\u001b[0m\u001b[0;34m\u001b[0m\u001b[0m\n\u001b[0m\u001b[1;32m    114\u001b[0m \u001b[0;34m\u001b[0m\u001b[0m\n\u001b[1;32m    115\u001b[0m     \u001b[0;34m@\u001b[0m\u001b[0mmemoize_method\u001b[0m\u001b[0;34m\u001b[0m\u001b[0;34m\u001b[0m\u001b[0m\n",
      "\u001b[0;32m/usr/local/lib/python3.7/site-packages/jedi/api/environment.py\u001b[0m in \u001b[0;36m_get_subprocess\u001b[0;34m(self)\u001b[0m\n\u001b[1;32m     77\u001b[0m                 \"Could not get version information for %r: %r\" % (\n\u001b[1;32m     78\u001b[0m                     \u001b[0mself\u001b[0m\u001b[0;34m.\u001b[0m\u001b[0m_start_executable\u001b[0m\u001b[0;34m,\u001b[0m\u001b[0;34m\u001b[0m\u001b[0;34m\u001b[0m\u001b[0m\n\u001b[0;32m---> 79\u001b[0;31m                     exc))\n\u001b[0m\u001b[1;32m     80\u001b[0m \u001b[0;34m\u001b[0m\u001b[0m\n\u001b[1;32m     81\u001b[0m         \u001b[0;31m# Since it could change and might not be the same(?) as the one given,\u001b[0m\u001b[0;34m\u001b[0m\u001b[0;34m\u001b[0m\u001b[0;34m\u001b[0m\u001b[0m\n",
      "\u001b[0;31mInvalidPythonEnvironment\u001b[0m: Could not get version information for '/usr/local/opt/python/bin/python3.7': BlockingIOError(35, 'Resource temporarily unavailable')"
     ]
    }
   ],
   "source": [
    "def prepare_test_samples(path, samples_path):\n",
    "    global jedi_correct, jedi_total\n",
    "\n",
    "    def get_filenames(path):\n",
    "        with open(path) as f:\n",
    "            filenames = f.read().split('\\n')\n",
    "        return filenames\n",
    "    \n",
    "    def load_mapping(path):\n",
    "        with open(path, 'rb') as f:\n",
    "#         print(base_path + '/mapping.map')\n",
    "            word_to_id = pickle.load(f)\n",
    "        return word_to_id\n",
    "\n",
    "    def predict_tokens(code):\n",
    "        try:\n",
    "            script = jedi.Script(code)\n",
    "            return script.completions()\n",
    "        except KeyError:\n",
    "            pass\n",
    "#             prepare_samples(path, samples_path)\n",
    "\n",
    "    def save_preprocessed(samples_dict_path, samples_dict):\n",
    "        with open(samples_dict_path, 'wb') as f:\n",
    "            pickle.dump(samples_dict, f)\n",
    "    \n",
    "    def load_preprocessed(path):\n",
    "        try:\n",
    "            with open(path, 'rb') as f:\n",
    "                samples = pickle.load(f)\n",
    "        except FileNotFoundError:\n",
    "            samples = {}\n",
    "        return samples\n",
    "    \n",
    "    def handle_identifier(toktype, tokval, start):\n",
    "        global jedi_correct, jedi_total\n",
    "        row, col = start\n",
    "        real_token = word_to_id[tokval]\n",
    "        prev_code = '\\n'.join(code_lines[:row-1]) + '\\n' + code_lines[row-1][:col+1]\n",
    "\n",
    "        preds = predict_tokens(prev_code)\n",
    "\n",
    "        for idx, pred in enumerate(preds):\n",
    "            completion = pred.full_name\n",
    "            if idx == 0:\n",
    "                if completion == tokval:\n",
    "                    jedi_correct += 1\n",
    "                jedi_total += 1\n",
    "            if completion in word_to_id:\n",
    "                completion_id = word_to_id[completion]\n",
    "                samples.append([\n",
    "                    prev_tokens[:],\n",
    "                    completion_id,\n",
    "                    real_token\n",
    "                ])\n",
    "        prev_tokens.append(real_token)\n",
    "    \n",
    "    filenames_for_test = get_filenames(path + samples_path)#[::-1]\n",
    "    word_to_id = load_mapping('./mapping.map')\n",
    "    \n",
    "    samples_dict_path = './ranking_samples_' + samples_path[:3]\n",
    "    samples_dict = load_preprocessed(samples_dict_path)\n",
    "\n",
    "    for i, filename in enumerate(tqdm_notebook(filenames_for_test)):\n",
    "        \n",
    "        if filename in samples_dict:\n",
    "            continue\n",
    "\n",
    "        with open(path + filename) as f:\n",
    "            code = f.read()\n",
    "        print(path + filename)\n",
    "\n",
    "        samples = []\n",
    "        prev_tokens = []\n",
    "        g = tokenize.tokenize(BytesIO(code.encode(\"utf-8\")).readline)\n",
    "        code_lines = code.split('\\n')\n",
    "\n",
    "        # todo accuracy plot\n",
    "        for toktype, tokval, start, _, _ in g:\n",
    "            if toktype == tokenize.NAME and tokval in word_to_id:\n",
    "                handle_identifier(toktype, tokval, start)\n",
    "        \n",
    "        samples_dict[filename] = samples\n",
    "\n",
    "        save_preprocessed(samples_dict_path, samples_dict)\n",
    "        clear_output()\n",
    "        print('Jedi accuracy: {}/{}={:.4f}'.format(jedi_correct, jedi_total, jedi_correct / jedi_total))\n",
    "#         break\n",
    "    save_preprocessed(samples_dict_path, samples_dict)\n",
    "    return samples_dict\n",
    "\n",
    "path = './pycodesuggest_py_repos_normalised/'\n",
    "samples_path = 'test_files.txt' # todo due to word_to_id may not work\n",
    "samples, jedi_ = prepare_test_samples(path, samples_path)\n",
    "        "
   ]
  },
  {
   "cell_type": "code",
   "execution_count": 5,
   "metadata": {},
   "outputs": [],
   "source": [
    "def load_preprocessed(path):\n",
    "    try:\n",
    "        with open(path, 'rb') as f:\n",
    "            samples = pickle.load(f)\n",
    "    except FileNotFoundError:\n",
    "        samples = {}\n",
    "    return samples\n",
    "\n",
    "test_samples = load_preprocessed('./ranking_samples_tes')"
   ]
  },
  {
   "cell_type": "code",
   "execution_count": 7,
   "metadata": {
    "scrolled": true
   },
   "outputs": [
    {
     "name": "stdout",
     "output_type": "stream",
     "text": [
      "14606\n",
      "79\n"
     ]
    }
   ],
   "source": [
    "count = 0\n",
    "\n",
    "for v in test_samples.values():\n",
    "    count += len(v)\n",
    "print(count)\n",
    "print(len(test_samples.values()))"
   ]
  },
  {
   "cell_type": "markdown",
   "metadata": {},
   "source": [
    "# Model\n",
    "\n",
    "\n",
    "* модель — Dense layer\n",
    "* как обучаем: обрабатываем сохраненные в ranking_samples_tra данные, предлагаем слою по фичам (конкатенация текущего токена и сумма предыдущих + является ли текущий токен identfier) предсказать вероятность того, что это правильный токен\n",
    "* как тестируем: делаем также, как и создавали обучающую выборку:  обновляем accuracy с каждым шагом (+ график accuracy)\n",
    "* эмбеддинги слов, подаем конкатенацию суммы эмбеддингов и эмбеддинга текущего токена, предсказанного jedi; среди многих выбираем тот, в котором модель наиболее уверена"
   ]
  },
  {
   "cell_type": "markdown",
   "metadata": {},
   "source": [
    "## training"
   ]
  },
  {
   "cell_type": "code",
   "execution_count": 8,
   "metadata": {},
   "outputs": [],
   "source": [
    "# base_path = '/content/drive/My Drive/vkr'\n",
    "base_path = '.'\n",
    "\n",
    "def build_vocab():\n",
    "    # load pre-computed vocab\n",
    "    with open(base_path + '/mapping.map', 'rb') as f:\n",
    "#         print(base_path + '/mapping.map')\n",
    "        word_to_id = pickle.load(f)\n",
    "    id_to_word = dict([(v, k) for (k, v) in word_to_id.items()])\n",
    "    return word_to_id, id_to_word\n",
    "\n",
    "word_to_id, id_to_word = build_vocab()\n"
   ]
  },
  {
   "cell_type": "code",
   "execution_count": null,
   "metadata": {},
   "outputs": [],
   "source": [
    "\n"
   ]
  },
  {
   "cell_type": "code",
   "execution_count": null,
   "metadata": {},
   "outputs": [],
   "source": []
  },
  {
   "cell_type": "code",
   "execution_count": 9,
   "metadata": {},
   "outputs": [],
   "source": [
    "params = {\n",
    "    'vocab_size': len(id_to_word),\n",
    "    'emb_size': 100,\n",
    "    'batch_size': 64\n",
    "}"
   ]
  },
  {
   "cell_type": "code",
   "execution_count": 10,
   "metadata": {},
   "outputs": [],
   "source": [
    "class DenseModel(nn.Module):\n",
    "    def __init__(self, params):\n",
    "        super().__init__()\n",
    "        self.params = params\n",
    "        self.embedding = nn.Embedding(\n",
    "            self.params['vocab_size'] + 1,\n",
    "            self.params['emb_size']\n",
    "        )\n",
    "        self.linear = nn.Linear(\n",
    "            self.params['emb_size'] * 2,\n",
    "            1\n",
    "        )\n",
    "        self.activation = nn.Sigmoid()\n",
    "\n",
    "    def forward(self, prev_tokens, pred_token):\n",
    "        if prev_tokens.shape[0] == 0:\n",
    "            prev_tokens = torch.LongTensor([self.params['vocab_size']])\n",
    "#         print(prev_tokens)\n",
    "        prev_embs = self.embedding(prev_tokens)\n",
    "#         print(prev_embs)\n",
    "#         print(prev_embs.shape)\n",
    "        prev_embs_mean = torch.mean(prev_embs, dim=0)\n",
    "        pred_emb = self.embedding(pred_token)\n",
    "        pred_emb = torch.squeeze(pred_emb)\n",
    "#         print(prev_embs_mean.shape)\n",
    "#         print(pred_emb.shape)\n",
    "        inputs = torch.cat((prev_embs_mean, pred_emb))\n",
    "#         print(inputs.shape)\n",
    "        output = self.linear(inputs)\n",
    "#         print(output.shape)\n",
    "        output = self.activation(output)\n",
    "#         print(output.shape)\n",
    "        return output\n",
    "\n",
    "model = DenseModel(params)"
   ]
  },
  {
   "cell_type": "code",
   "execution_count": null,
   "metadata": {},
   "outputs": [],
   "source": []
  },
  {
   "cell_type": "code",
   "execution_count": null,
   "metadata": {},
   "outputs": [],
   "source": []
  },
  {
   "cell_type": "code",
   "execution_count": 11,
   "metadata": {},
   "outputs": [],
   "source": [
    "class JediPredsDataset():\n",
    "    def preprocess_data(self, filenames_to_data_dict):\n",
    "        for data in filenames_to_data_dict.values():\n",
    "            for prev_tokens, pred_token, real_token in data:\n",
    "                self.prev_tokens_arr.append(np.array(prev_tokens))\n",
    "                self.pred_token_arr.append(pred_token)\n",
    "                self.real_token_arr.append(real_token)\n",
    "\n",
    "    def __init__(self, path, params):\n",
    "        self.index = 0\n",
    "        self.prev_tokens_arr = []\n",
    "        self.pred_token_arr = []\n",
    "        self.real_token_arr = []\n",
    "\n",
    "        with open(path, 'rb') as f:\n",
    "            filenames_to_data_dict = pickle.load(f)\n",
    "        self.preprocess_data(filenames_to_data_dict)\n",
    "        self.prev_tokens_arr = np.array(self.prev_tokens_arr)\n",
    "        self.pred_token_arr = np.array(self.pred_token_arr)\n",
    "        self.real_token_arr = np.array(self.real_token_arr)\n",
    "        # todo shuffle\n",
    "\n",
    "    def __len__(self):\n",
    "        return self.real_token_arr.shape[0]\n",
    "\n",
    "    def generator(self):\n",
    "        while self.index < self.__len__():\n",
    "            yield \\\n",
    "                self.prev_tokens_arr[self.index], \\\n",
    "                self.pred_token_arr[self.index], \\\n",
    "                self.real_token_arr[self.index]\n",
    "            self.index += 1"
   ]
  },
  {
   "cell_type": "code",
   "execution_count": 16,
   "metadata": {},
   "outputs": [],
   "source": [
    "\n",
    "\n",
    "# train_loader = DataLoader(\n",
    "#     JediPredsDataset('./ranking_samples_tra', params),\n",
    "#     batch_size=params['batch_size'],\n",
    "#     shuffle=True,\n",
    "#     num_workers=10\n",
    "# )\n",
    "\n",
    "train_data = JediPredsDataset('./ranking_samples_tra', params)"
   ]
  },
  {
   "cell_type": "code",
   "execution_count": 13,
   "metadata": {},
   "outputs": [
    {
     "name": "stdout",
     "output_type": "stream",
     "text": [
      "7874 82143 90017\n"
     ]
    }
   ],
   "source": [
    "eq = 0\n",
    "neq = 0\n",
    "for prev_tokens, pred_token, real_token in train_data.generator():\n",
    "    if pred_token == real_token:\n",
    "        eq += 1\n",
    "    else:\n",
    "        neq += 1\n",
    "print(eq, neq, eq+neq)"
   ]
  },
  {
   "cell_type": "code",
   "execution_count": 21,
   "metadata": {},
   "outputs": [
    {
     "data": {
      "text/plain": [
       "(array([], dtype=float64), 93, 22)"
      ]
     },
     "execution_count": 21,
     "metadata": {},
     "output_type": "execute_result"
    }
   ],
   "source": [
    "# next(train_data.generator())"
   ]
  },
  {
   "cell_type": "code",
   "execution_count": 22,
   "metadata": {},
   "outputs": [
    {
     "name": "stderr",
     "output_type": "stream",
     "text": [
      "\r",
      "  0%|          | 0/90017 [00:00<?, ?it/s]"
     ]
    },
    {
     "name": "stdout",
     "output_type": "stream",
     "text": [
      "1\n",
      "[] 93 22\n",
      "2\n"
     ]
    },
    {
     "name": "stderr",
     "output_type": "stream",
     "text": [
      "\n"
     ]
    }
   ],
   "source": [
    "for i, (prev_tokens, pred_token, real_token) in zip(trange(len(train_data)), train_data.generator()):\n",
    "    print(1)\n",
    "    print(prev_tokens, pred_token, real_token)\n",
    "    print(2)\n",
    "    break"
   ]
  },
  {
   "cell_type": "code",
   "execution_count": 26,
   "metadata": {},
   "outputs": [],
   "source": [
    "def train_epoch(model, optimizer, lr):\n",
    "    loss_log = []\n",
    "    model.train()\n",
    "    total = 0\n",
    "    correct = 0\n",
    "    \n",
    "    for i, (prev_tokens, pred_token, real_token) in zip(trange(len(train_data)), train_data.generator()):\n",
    "        optimizer.zero_grad()\n",
    "        prev_tokens = torch.LongTensor(prev_tokens)\n",
    "        pred_token = torch.LongTensor([pred_token])\n",
    "        real_token = torch.FloatTensor([real_token])\n",
    "        \n",
    "        prev_tokens = prev_tokens.to(device)\n",
    "        pred_token = pred_token.to(device)\n",
    "        real_token = real_token.to(device)\n",
    "        loss_value = 0.\n",
    "        loss = nn.BCELoss()\n",
    "        output = model.forward(prev_tokens, pred_token)\n",
    "        \n",
    "#         print(real_token)\n",
    "#         print(pred_token.float())\n",
    "#         print(real_token == pred_token.float())\n",
    "        loss_value = loss(output, (real_token == pred_token.float()).float())\n",
    "        loss_value.backward()\n",
    "\n",
    "#         torch.nn.utils.clip_grad_norm(model.parameters(), 0.5)\n",
    "#         for p in model.parameters():\n",
    "#             p.data.add_(-lr, p.grad.data)\n",
    "        optimizer.step()\n",
    "        loss_value = loss_value.item()\n",
    "        loss_log.append(loss_value)# / x.shape[1])\n",
    "#         break\n",
    "\n",
    "#     accuracy = correct / total\n",
    "#     return accuracy, loss_log\n",
    "    return loss_log\n",
    "    \n",
    "def train(model, opt, n_epochs):\n",
    "    train_log = []\n",
    "    acc_log = []\n",
    "    lr = 0.05\n",
    "    lr_decay_base = 1 / 1.15\n",
    "    m_flat_lr = 20.0\n",
    "    for epoch in range(n_epochs):\n",
    "        lr_decay = lr_decay_base ** max(epoch - m_flat_lr, 0)\n",
    "        lr = lr * lr_decay\n",
    "#         accuracy, train_loss = train_epoch(model, opt, lr)\n",
    "        train_loss = train_epoch(model, opt, lr)\n",
    "        train_log.extend(train_loss)\n",
    "#         acc_log.append(accuracy)\n",
    "        clear_output()\n",
    "        print(\"Epoch:{}\".format(epoch))\n",
    "#         print(\"Accuracy:\", accuracy)\n",
    "#         tp.send_text('Epoch {}, LSTM baseline accuracy: {}'.format(epoch, accuracy))\n",
    "        plot_history(train_log)\n",
    "\n",
    "def plot_history(train_history, title='loss'):\n",
    "    plt.figure()\n",
    "    plt.title('{}'.format(title))\n",
    "    plt.plot(train_history, label='train', zorder=1)\n",
    "    plt.xlabel('train steps')\n",
    "    plt.legend(loc='best')\n",
    "    plt.grid()\n",
    "    plt.show()"
   ]
  },
  {
   "cell_type": "code",
   "execution_count": null,
   "metadata": {},
   "outputs": [],
   "source": []
  },
  {
   "cell_type": "code",
   "execution_count": null,
   "metadata": {},
   "outputs": [],
   "source": []
  },
  {
   "cell_type": "code",
   "execution_count": 27,
   "metadata": {},
   "outputs": [
    {
     "name": "stderr",
     "output_type": "stream",
     "text": [
      " 27%|██▋       | 24528/90017 [30:23<1:36:02, 11.37it/s]"
     ]
    },
    {
     "ename": "KeyboardInterrupt",
     "evalue": "",
     "output_type": "error",
     "traceback": [
      "\u001b[0;31m---------------------------------------------------------------------------\u001b[0m",
      "\u001b[0;31mKeyboardInterrupt\u001b[0m                         Traceback (most recent call last)",
      "\u001b[0;32m<timed exec>\u001b[0m in \u001b[0;36m<module>\u001b[0;34m\u001b[0m\n",
      "\u001b[0;32m<ipython-input-26-42f1b09b0aa8>\u001b[0m in \u001b[0;36mtrain\u001b[0;34m(model, opt, n_epochs)\u001b[0m\n\u001b[1;32m     46\u001b[0m         \u001b[0mlr\u001b[0m \u001b[0;34m=\u001b[0m \u001b[0mlr\u001b[0m \u001b[0;34m*\u001b[0m \u001b[0mlr_decay\u001b[0m\u001b[0;34m\u001b[0m\u001b[0;34m\u001b[0m\u001b[0m\n\u001b[1;32m     47\u001b[0m \u001b[0;31m#         accuracy, train_loss = train_epoch(model, opt, lr)\u001b[0m\u001b[0;34m\u001b[0m\u001b[0;34m\u001b[0m\u001b[0;34m\u001b[0m\u001b[0m\n\u001b[0;32m---> 48\u001b[0;31m         \u001b[0mtrain_loss\u001b[0m \u001b[0;34m=\u001b[0m \u001b[0mtrain_epoch\u001b[0m\u001b[0;34m(\u001b[0m\u001b[0mmodel\u001b[0m\u001b[0;34m,\u001b[0m \u001b[0mopt\u001b[0m\u001b[0;34m,\u001b[0m \u001b[0mlr\u001b[0m\u001b[0;34m)\u001b[0m\u001b[0;34m\u001b[0m\u001b[0;34m\u001b[0m\u001b[0m\n\u001b[0m\u001b[1;32m     49\u001b[0m         \u001b[0mtrain_log\u001b[0m\u001b[0;34m.\u001b[0m\u001b[0mextend\u001b[0m\u001b[0;34m(\u001b[0m\u001b[0mtrain_loss\u001b[0m\u001b[0;34m)\u001b[0m\u001b[0;34m\u001b[0m\u001b[0;34m\u001b[0m\u001b[0m\n\u001b[1;32m     50\u001b[0m \u001b[0;31m#         acc_log.append(accuracy)\u001b[0m\u001b[0;34m\u001b[0m\u001b[0;34m\u001b[0m\u001b[0;34m\u001b[0m\u001b[0m\n",
      "\u001b[0;32m<ipython-input-26-42f1b09b0aa8>\u001b[0m in \u001b[0;36mtrain_epoch\u001b[0;34m(model, optimizer, lr)\u001b[0m\n\u001b[1;32m     27\u001b[0m \u001b[0;31m#         for p in model.parameters():\u001b[0m\u001b[0;34m\u001b[0m\u001b[0;34m\u001b[0m\u001b[0;34m\u001b[0m\u001b[0m\n\u001b[1;32m     28\u001b[0m \u001b[0;31m#             p.data.add_(-lr, p.grad.data)\u001b[0m\u001b[0;34m\u001b[0m\u001b[0;34m\u001b[0m\u001b[0;34m\u001b[0m\u001b[0m\n\u001b[0;32m---> 29\u001b[0;31m         \u001b[0moptimizer\u001b[0m\u001b[0;34m.\u001b[0m\u001b[0mstep\u001b[0m\u001b[0;34m(\u001b[0m\u001b[0;34m)\u001b[0m\u001b[0;34m\u001b[0m\u001b[0;34m\u001b[0m\u001b[0m\n\u001b[0m\u001b[1;32m     30\u001b[0m         \u001b[0mloss_value\u001b[0m \u001b[0;34m=\u001b[0m \u001b[0mloss_value\u001b[0m\u001b[0;34m.\u001b[0m\u001b[0mitem\u001b[0m\u001b[0;34m(\u001b[0m\u001b[0;34m)\u001b[0m\u001b[0;34m\u001b[0m\u001b[0;34m\u001b[0m\u001b[0m\n\u001b[1;32m     31\u001b[0m         \u001b[0mloss_log\u001b[0m\u001b[0;34m.\u001b[0m\u001b[0mappend\u001b[0m\u001b[0;34m(\u001b[0m\u001b[0mloss_value\u001b[0m\u001b[0;34m)\u001b[0m\u001b[0;31m# / x.shape[1])\u001b[0m\u001b[0;34m\u001b[0m\u001b[0;34m\u001b[0m\u001b[0m\n",
      "\u001b[0;32m/usr/local/lib/python3.7/site-packages/torch/optim/adam.py\u001b[0m in \u001b[0;36mstep\u001b[0;34m(self, closure)\u001b[0m\n\u001b[1;32m    105\u001b[0m                 \u001b[0mstep_size\u001b[0m \u001b[0;34m=\u001b[0m \u001b[0mgroup\u001b[0m\u001b[0;34m[\u001b[0m\u001b[0;34m'lr'\u001b[0m\u001b[0;34m]\u001b[0m \u001b[0;34m*\u001b[0m \u001b[0mmath\u001b[0m\u001b[0;34m.\u001b[0m\u001b[0msqrt\u001b[0m\u001b[0;34m(\u001b[0m\u001b[0mbias_correction2\u001b[0m\u001b[0;34m)\u001b[0m \u001b[0;34m/\u001b[0m \u001b[0mbias_correction1\u001b[0m\u001b[0;34m\u001b[0m\u001b[0;34m\u001b[0m\u001b[0m\n\u001b[1;32m    106\u001b[0m \u001b[0;34m\u001b[0m\u001b[0m\n\u001b[0;32m--> 107\u001b[0;31m                 \u001b[0mp\u001b[0m\u001b[0;34m.\u001b[0m\u001b[0mdata\u001b[0m\u001b[0;34m.\u001b[0m\u001b[0maddcdiv_\u001b[0m\u001b[0;34m(\u001b[0m\u001b[0;34m-\u001b[0m\u001b[0mstep_size\u001b[0m\u001b[0;34m,\u001b[0m \u001b[0mexp_avg\u001b[0m\u001b[0;34m,\u001b[0m \u001b[0mdenom\u001b[0m\u001b[0;34m)\u001b[0m\u001b[0;34m\u001b[0m\u001b[0;34m\u001b[0m\u001b[0m\n\u001b[0m\u001b[1;32m    108\u001b[0m \u001b[0;34m\u001b[0m\u001b[0m\n\u001b[1;32m    109\u001b[0m         \u001b[0;32mreturn\u001b[0m \u001b[0mloss\u001b[0m\u001b[0;34m\u001b[0m\u001b[0;34m\u001b[0m\u001b[0m\n",
      "\u001b[0;31mKeyboardInterrupt\u001b[0m: "
     ]
    }
   ],
   "source": [
    "%%time\n",
    "\n",
    "optimizer = torch.optim.Adam(model.parameters(), lr=0.01)\n",
    "train(model, optimizer, 50)"
   ]
  },
  {
   "cell_type": "code",
   "execution_count": 38,
   "metadata": {},
   "outputs": [
    {
     "name": "stdout",
     "output_type": "stream",
     "text": [
      "Epoch:45\n"
     ]
    },
    {
     "data": {
      "image/png": "[encoded data removed]",
      "text/plain": [
       "<Figure size 432x288 with 1 Axes>"
      ]
     },
     "metadata": {
      "needs_background": "light"
     },
     "output_type": "display_data"
    },
    {
     "name": "stderr",
     "output_type": "stream",
     "text": [
      "  0%|          | 0/90017 [00:00<?, ?it/s]\n",
      "  0%|          | 0/90017 [00:00<?, ?it/s]\n",
      "  0%|          | 0/90017 [00:00<?, ?it/s]\n",
      "  0%|          | 0/90017 [00:00<?, ?it/s]"
     ]
    },
    {
     "name": "stdout",
     "output_type": "stream",
     "text": [
      "CPU times: user 6.59 s, sys: 972 ms, total: 7.56 s\n",
      "Wall time: 6.21 s\n"
     ]
    },
    {
     "name": "stderr",
     "output_type": "stream",
     "text": [
      "\n"
     ]
    }
   ],
   "source": [
    "%%time\n",
    "\n",
    "optimizer = torch.optim.Adam(model.parameters(), lr=0.01)\n",
    "train(model, optimizer, 50)"
   ]
  },
  {
   "cell_type": "code",
   "execution_count": 287,
   "metadata": {
    "scrolled": true
   },
   "outputs": [
    {
     "data": {
      "text/plain": [
       "tensor([8.0516e-07], grad_fn=<SigmoidBackward>)"
      ]
     },
     "execution_count": 287,
     "metadata": {},
     "output_type": "execute_result"
    }
   ],
   "source": [
    "# prev_tokens, pred_token, _ = samples[0][0]\n",
    "# model.eval()\n",
    "# model.forward(torch.LongTensor(prev_tokens), torch.LongTensor([pred_token]))"
   ]
  },
  {
   "cell_type": "markdown",
   "metadata": {},
   "source": [
    "### тестируем пошагово"
   ]
  },
  {
   "cell_type": "code",
   "execution_count": null,
   "metadata": {},
   "outputs": [],
   "source": []
  },
  {
   "cell_type": "markdown",
   "metadata": {},
   "source": [
    "# Test"
   ]
  },
  {
   "cell_type": "code",
   "execution_count": 78,
   "metadata": {},
   "outputs": [],
   "source": [
    "test_data = JediPredsDataset('./ranking_samples_tes', params)"
   ]
  },
  {
   "cell_type": "code",
   "execution_count": 79,
   "metadata": {},
   "outputs": [],
   "source": [
    "def test(model):\n",
    "    loss_log = []\n",
    "    model.eval()\n",
    "    total = 0\n",
    "    correct = 0\n",
    "    prev_prevtokens, prev_realtoken = None, None\n",
    "    outputs = []\n",
    "    for i, (prev_tokens, pred_token, real_token) in zip(trange(len(test_data)), test_data.generator()):\n",
    "        prev_tokens_t = torch.LongTensor(prev_tokens).to(device)\n",
    "        pred_token_t = torch.LongTensor([pred_token]).to(device)\n",
    "#         real_token_t = torch.FloatTensor([real_token]).to(device)\n",
    "        output = model.forward(prev_tokens_t, pred_token_t)\n",
    "\n",
    "        if np.all(prev_tokens == prev_prevtokens) and \\\n",
    "                prev_realtoken == real_token:\n",
    "            outputs.append([pred_token, output])\n",
    "        else:\n",
    "            if prev_realtoken is not None:\n",
    "                max_prob = 0.\n",
    "                pred = None\n",
    "                for o in outputs:\n",
    "                    if o[1] > max_prob:\n",
    "                        max_prob = o[1]\n",
    "                        pred = o[0]\n",
    "                if pred == real_token:\n",
    "                    correct += 1\n",
    "                total += 1\n",
    "            \n",
    "            outputs = [[pred_token, output]]\n",
    "            \n",
    "            prev_prevtokens = prev_tokens\n",
    "            prev_realtoken = real_token\n",
    "                \n",
    "#     accuracy = correct / total\n",
    "    return correct, total"
   ]
  },
  {
   "cell_type": "code",
   "execution_count": 80,
   "metadata": {},
   "outputs": [
    {
     "name": "stderr",
     "output_type": "stream",
     "text": [
      "\n",
      "  0%|          | 0/14606 [00:00<?, ?it/s]\u001b[A/usr/local/lib/python3.7/site-packages/ipykernel_launcher.py:14: DeprecationWarning: elementwise == comparison failed; this will raise an error in the future.\n",
      "  \n",
      "\n",
      "  3%|▎         | 510/14606 [00:00<00:02, 4802.17it/s]\u001b[A\n",
      "  6%|▋         | 919/14606 [00:00<00:03, 4562.02it/s]\u001b[A\n",
      "  9%|▉         | 1314/14606 [00:00<00:03, 4357.91it/s]\u001b[A\n",
      " 12%|█▏        | 1811/14606 [00:00<00:02, 4524.26it/s]\u001b[A\n",
      " 16%|█▋        | 2405/14606 [00:00<00:02, 4872.15it/s]\u001b[A\n",
      " 20%|█▉        | 2900/14606 [00:00<00:02, 4894.82it/s]\u001b[A\n",
      " 23%|██▎       | 3352/14606 [00:00<00:02, 4774.12it/s]\u001b[A\n",
      " 26%|██▋       | 3845/14606 [00:00<00:02, 4818.61it/s]\u001b[A\n",
      " 30%|███       | 4396/14606 [00:00<00:02, 5007.08it/s]\u001b[A\n",
      " 33%|███▎      | 4883/14606 [00:01<00:02, 4267.40it/s]\u001b[A\n",
      " 36%|███▋      | 5319/14606 [00:01<00:02, 3980.53it/s]\u001b[A\n",
      " 39%|███▉      | 5728/14606 [00:01<00:02, 3765.54it/s]\u001b[A\n",
      " 42%|████▏     | 6198/14606 [00:01<00:02, 4003.32it/s]\u001b[A\n",
      " 46%|████▌     | 6741/14606 [00:01<00:01, 4344.79it/s]\u001b[A\n",
      " 50%|█████     | 7324/14606 [00:01<00:01, 4703.82it/s]\u001b[A\n",
      " 54%|█████▎    | 7815/14606 [00:01<00:01, 4290.76it/s]\u001b[A\n",
      " 57%|█████▋    | 8291/14606 [00:01<00:01, 4420.79it/s]\u001b[A\n",
      " 60%|█████▉    | 8749/14606 [00:01<00:01, 4446.60it/s]\u001b[A\n",
      " 63%|██████▎   | 9219/14606 [00:02<00:01, 4519.57it/s]\u001b[A\n",
      " 67%|██████▋   | 9756/14606 [00:02<00:01, 4744.38it/s]\u001b[A\n",
      " 71%|███████   | 10308/14606 [00:02<00:00, 4952.34it/s]\u001b[A\n",
      " 74%|███████▍  | 10812/14606 [00:02<00:00, 4951.76it/s]\u001b[A\n",
      " 78%|███████▊  | 11359/14606 [00:02<00:00, 5091.52it/s]\u001b[A\n",
      " 82%|████████▏ | 11926/14606 [00:02<00:00, 5251.47it/s]\u001b[A\n",
      " 85%|████████▌ | 12456/14606 [00:02<00:00, 5183.58it/s]\u001b[A\n",
      " 89%|████████▉ | 12978/14606 [00:02<00:00, 5100.29it/s]\u001b[A\n",
      " 92%|█████████▏| 13491/14606 [00:02<00:00, 5069.40it/s]\u001b[A\n",
      " 96%|█████████▌| 14000/14606 [00:02<00:00, 4940.73it/s]\u001b[A\n",
      " 99%|█████████▉| 14497/14606 [00:03<00:00, 4827.66it/s]\u001b[A\n",
      "100%|██████████| 14606/14606 [00:03<00:00, 4698.30it/s]\u001b[A"
     ]
    }
   ],
   "source": [
    "correct, total = test(model)"
   ]
  },
  {
   "cell_type": "code",
   "execution_count": 82,
   "metadata": {},
   "outputs": [
    {
     "data": {
      "text/plain": [
       "0.0029498525073746312"
      ]
     },
     "execution_count": 82,
     "metadata": {},
     "output_type": "execute_result"
    }
   ],
   "source": [
    "correct / total"
   ]
  },
  {
   "cell_type": "markdown",
   "metadata": {},
   "source": [
    "# Del"
   ]
  },
  {
   "cell_type": "markdown",
   "metadata": {},
   "source": [
    "# Playing with jedi module"
   ]
  },
  {
   "cell_type": "code",
   "execution_count": 9,
   "metadata": {},
   "outputs": [
    {
     "name": "stdout",
     "output_type": "stream",
     "text": [
      "0.013895298199986427\n"
     ]
    },
    {
     "data": {
      "text/plain": [
       "[<Completion: var3998>,\n",
       " <Completion: var4252>,\n",
       " <Completion: var4262>,\n",
       " <Completion: vars>]"
      ]
     },
     "execution_count": 9,
     "metadata": {},
     "output_type": "execute_result"
    }
   ],
   "source": [
    "code = '''from __future__ import print_function\n",
    "from socket import timeout\n",
    "import os\n",
    "import sys\n",
    "import codecs\n",
    "import re\n",
    "import markdown\n",
    "try:\n",
    "    from urllib2 import urlopen\n",
    "    from urllib2 import HTTPError\n",
    "    from urllib2 import URLError\n",
    "except ImportError:\n",
    "    from urllib.request import urlopen\n",
    "    from urllib.error import HTTPError\n",
    "    from urllib.error import URLError\n",
    "\n",
    "\n",
    "def function874(arg89):\n",
    "    var4252 = False\n",
    "    try:\n",
    "        var4262 = urlopen(arg89, timeout=2)\n",
    "        var4252 = var4262.code == 200\n",
    "    except HTTPError as var3998:\n",
    "        print(var3998, file=sys.stderr)\n",
    "    except URLError as var3998:\n",
    "        print(var3998, file=sys.stderr)\n",
    "    except timeout as var3998:\n",
    "        print(var3998, file=sys.stderr)\n",
    "    except Exception as var3998:\n",
    "        print(var3998, file=sys.stderr)\n",
    "    return v'''\n",
    "\n",
    "iter_num = 10\n",
    "for i in range(iter_num):\n",
    "    start_time = timeit.default_timer()\n",
    "    script = jedi.Script(code)#source, 3, len('datetime.da'), 'example.py')\n",
    "    elapsed_time = timeit.default_timer() - start_time\n",
    "print(elapsed_time / iter_num)\n",
    "script.completions()\n"
   ]
  },
  {
   "cell_type": "code",
   "execution_count": 16,
   "metadata": {},
   "outputs": [
    {
     "data": {
      "text/plain": [
       "[<Completion: abs>,\n",
       " <Completion: all>,\n",
       " <Completion: any>,\n",
       " <Completion: ArithmeticError>,\n",
       " <Completion: ascii>,\n",
       " <Completion: assert>,\n",
       " <Completion: AssertionError>,\n",
       " <Completion: async>,\n",
       " <Completion: AttributeError>,\n",
       " <Completion: await>,\n",
       " <Completion: BaseException>,\n",
       " <Completion: bin>,\n",
       " <Completion: BlockingIOError>,\n",
       " <Completion: bool>,\n",
       " <Completion: break>,\n",
       " <Completion: breakpoint>,\n",
       " <Completion: BrokenPipeError>,\n",
       " <Completion: BufferError>,\n",
       " <Completion: bytearray>,\n",
       " <Completion: bytes>,\n",
       " <Completion: BytesWarning>,\n",
       " <Completion: callable>,\n",
       " <Completion: ChildProcessError>,\n",
       " <Completion: chr>,\n",
       " <Completion: class>,\n",
       " <Completion: classmethod>,\n",
       " <Completion: compile>,\n",
       " <Completion: complex>,\n",
       " <Completion: ConnectionAbortedError>,\n",
       " <Completion: ConnectionError>,\n",
       " <Completion: ConnectionRefusedError>,\n",
       " <Completion: ConnectionResetError>,\n",
       " <Completion: continue>,\n",
       " <Completion: copyright>,\n",
       " <Completion: credits>,\n",
       " <Completion: def>,\n",
       " <Completion: del>,\n",
       " <Completion: delattr>,\n",
       " <Completion: DeprecationWarning>,\n",
       " <Completion: dict>,\n",
       " <Completion: dir>,\n",
       " <Completion: divmod>,\n",
       " <Completion: Ellipsis>,\n",
       " <Completion: enumerate>,\n",
       " <Completion: EnvironmentError>,\n",
       " <Completion: EOFError>,\n",
       " <Completion: eval>,\n",
       " <Completion: Exception>,\n",
       " <Completion: exec>,\n",
       " <Completion: exit>,\n",
       " <Completion: False>,\n",
       " <Completion: FileExistsError>,\n",
       " <Completion: FileNotFoundError>,\n",
       " <Completion: filter>,\n",
       " <Completion: float>,\n",
       " <Completion: FloatingPointError>,\n",
       " <Completion: for>,\n",
       " <Completion: format>,\n",
       " <Completion: from>,\n",
       " <Completion: frozenset>,\n",
       " <Completion: FutureWarning>,\n",
       " <Completion: GeneratorExit>,\n",
       " <Completion: getattr>,\n",
       " <Completion: global>,\n",
       " <Completion: globals>,\n",
       " <Completion: hasattr>,\n",
       " <Completion: hash>,\n",
       " <Completion: help>,\n",
       " <Completion: hex>,\n",
       " <Completion: id>,\n",
       " <Completion: if>,\n",
       " <Completion: import>,\n",
       " <Completion: ImportError>,\n",
       " <Completion: ImportWarning>,\n",
       " <Completion: IndentationError>,\n",
       " <Completion: IndexError>,\n",
       " <Completion: input>,\n",
       " <Completion: int>,\n",
       " <Completion: InterruptedError>,\n",
       " <Completion: IOError>,\n",
       " <Completion: IsADirectoryError>,\n",
       " <Completion: isinstance>,\n",
       " <Completion: issubclass>,\n",
       " <Completion: iter>,\n",
       " <Completion: KeyboardInterrupt>,\n",
       " <Completion: KeyError>,\n",
       " <Completion: lambda>,\n",
       " <Completion: len>,\n",
       " <Completion: license>,\n",
       " <Completion: list>,\n",
       " <Completion: locals>,\n",
       " <Completion: LookupError>,\n",
       " <Completion: map>,\n",
       " <Completion: max>,\n",
       " <Completion: MemoryError>,\n",
       " <Completion: memoryview>,\n",
       " <Completion: min>,\n",
       " <Completion: ModuleNotFoundError>,\n",
       " <Completion: NameError>,\n",
       " <Completion: next>,\n",
       " <Completion: None>,\n",
       " <Completion: nonlocal>,\n",
       " <Completion: not>,\n",
       " <Completion: NotADirectoryError>,\n",
       " <Completion: NotImplemented>,\n",
       " <Completion: NotImplementedError>,\n",
       " <Completion: object>,\n",
       " <Completion: oct>,\n",
       " <Completion: open>,\n",
       " <Completion: ord>,\n",
       " <Completion: OSError>,\n",
       " <Completion: OverflowError>,\n",
       " <Completion: pass>,\n",
       " <Completion: PendingDeprecationWarning>,\n",
       " <Completion: PermissionError>,\n",
       " <Completion: pow>,\n",
       " <Completion: print>,\n",
       " <Completion: ProcessLookupError>,\n",
       " <Completion: property>,\n",
       " <Completion: quit>,\n",
       " <Completion: raise>,\n",
       " <Completion: range>,\n",
       " <Completion: RecursionError>,\n",
       " <Completion: ReferenceError>,\n",
       " <Completion: repr>,\n",
       " <Completion: ResourceWarning>,\n",
       " <Completion: return>,\n",
       " <Completion: reversed>,\n",
       " <Completion: round>,\n",
       " <Completion: RuntimeError>,\n",
       " <Completion: RuntimeWarning>,\n",
       " <Completion: set>,\n",
       " <Completion: setattr>,\n",
       " <Completion: slice>,\n",
       " <Completion: sorted>,\n",
       " <Completion: staticmethod>,\n",
       " <Completion: StopAsyncIteration>,\n",
       " <Completion: StopIteration>,\n",
       " <Completion: str>,\n",
       " <Completion: sum>,\n",
       " <Completion: super>,\n",
       " <Completion: SyntaxError>,\n",
       " <Completion: SyntaxWarning>,\n",
       " <Completion: SystemError>,\n",
       " <Completion: SystemExit>,\n",
       " <Completion: TabError>,\n",
       " <Completion: TimeoutError>,\n",
       " <Completion: True>,\n",
       " <Completion: try>,\n",
       " <Completion: tuple>,\n",
       " <Completion: type>,\n",
       " <Completion: TypeError>,\n",
       " <Completion: UnboundLocalError>,\n",
       " <Completion: UnicodeDecodeError>,\n",
       " <Completion: UnicodeEncodeError>,\n",
       " <Completion: UnicodeError>,\n",
       " <Completion: UnicodeTranslateError>,\n",
       " <Completion: UnicodeWarning>,\n",
       " <Completion: UserWarning>,\n",
       " <Completion: ValueError>,\n",
       " <Completion: vars>,\n",
       " <Completion: Warning>,\n",
       " <Completion: while>,\n",
       " <Completion: with>,\n",
       " <Completion: yield>,\n",
       " <Completion: ZeroDivisionError>,\n",
       " <Completion: zip>,\n",
       " <Completion: __build_class__>,\n",
       " <Completion: __debug__>,\n",
       " <Completion: __doc__>,\n",
       " <Completion: __file__>,\n",
       " <Completion: __import__>,\n",
       " <Completion: __loader__>,\n",
       " <Completion: __name__>,\n",
       " <Completion: __package__>,\n",
       " <Completion: __spec__>]"
      ]
     },
     "execution_count": 16,
     "metadata": {},
     "output_type": "execute_result"
    }
   ],
   "source": [
    "code = '''\n",
    "def foo(i):\n",
    "'''\n",
    "\n",
    "script = jedi.Script(code)#source, 3, len('datetime.da'), 'example.py')\n",
    "script.completions()\n"
   ]
  },
  {
   "cell_type": "code",
   "execution_count": 15,
   "metadata": {},
   "outputs": [
    {
     "name": "stdout",
     "output_type": "stream",
     "text": [
      "57 utf-8\n",
      "KEYWORD def True (1, 0)\n",
      "NAME twoπ True (1, 4)\n",
      "53 (\n",
      "NAME a True (1, 9)\n",
      "53 ,\n",
      "NAME b True (1, 11)\n",
      "53 )\n",
      "53 :\n",
      "4 \n",
      "0 \n",
      "utf-8 def twoπ ( a , b ) :   \n"
     ]
    }
   ],
   "source": [
    "import tokenize\n",
    "from io import BytesIO\n",
    "from keyword import iskeyword\n",
    "\n",
    "def load_code(path):\n",
    "    pass\n",
    "\n",
    "def process_code(code):\n",
    "#     s = code #\n",
    "    s = \"def twoπ(a,b):\"\n",
    "    g = tokenize.tokenize(BytesIO(s.encode(\"utf-8\")).readline)\n",
    "    new_s = ''\n",
    "    for toktype, tokval, st, end, _ in g:\n",
    "        if toktype == tokenize.NAME:\n",
    "            if iskeyword(tokval):\n",
    "                print(\"KEYWORD\", tokval, tokval.isidentifier(), st)\n",
    "            else:\n",
    "                print('NAME', tokval, tokval.isidentifier(), st)\n",
    "        else:\n",
    "            print(toktype, tokval)\n",
    "        new_s += f'{tokval} '\n",
    "    print(new_s)\n",
    "\n",
    "process_code(None)"
   ]
  },
  {
   "cell_type": "code",
   "execution_count": 35,
   "metadata": {},
   "outputs": [
    {
     "name": "stdout",
     "output_type": "stream",
     "text": [
      "def foo ( i ) : \n",
      "      f\n"
     ]
    }
   ],
   "source": [
    "print(new_s[8:].strip())"
   ]
  },
  {
   "cell_type": "code",
   "execution_count": 36,
   "metadata": {},
   "outputs": [
    {
     "data": {
      "text/plain": [
       "[<Completion: filter>,\n",
       " <Completion: float>,\n",
       " <Completion: foo>,\n",
       " <Completion: for>,\n",
       " <Completion: format>,\n",
       " <Completion: from>,\n",
       " <Completion: frozenset>]"
      ]
     },
     "execution_count": 36,
     "metadata": {},
     "output_type": "execute_result"
    }
   ],
   "source": [
    "script = jedi.Script(new_s[8:].strip())\n",
    "script.completions()"
   ]
  },
  {
   "cell_type": "markdown",
   "metadata": {},
   "source": []
  }
 ],
 "metadata": {
  "accelerator": "GPU",
  "colab": {
   "collapsed_sections": [],
   "name": "lstm_baseline_gpu_colab.ipynb",
   "provenance": [],
   "version": "0.3.2"
  },
  "kernelspec": {
   "display_name": "Python 3",
   "language": "python",
   "name": "python3"
  },
  "language_info": {
   "codemirror_mode": {
    "name": "ipython",
    "version": 3
   },
   "file_extension": ".py",
   "mimetype": "text/x-python",
   "name": "python",
   "nbconvert_exporter": "python",
   "pygments_lexer": "ipython3",
   "version": "3.7.3"
  }
 },
 "nbformat": 4,
 "nbformat_minor": 1
}
