{
  "nbformat": 4,
  "nbformat_minor": 0,
  "metadata": {
    "colab": {
      "name": "classic_complete_ranking.ipynb",
      "version": "0.3.2",
      "provenance": [],
      "collapsed_sections": []
    },
    "language_info": {
      "codemirror_mode": {
        "name": "ipython",
        "version": 3
      },
      "file_extension": ".py",
      "mimetype": "text/x-python",
      "name": "python",
      "nbconvert_exporter": "python",
      "pygments_lexer": "ipython3",
      "version": "3.7.3"
    },
    "kernelspec": {
      "display_name": "Python 3",
      "language": "python",
      "name": "python3"
    },
    "accelerator": "GPU"
  },
  "cells": [
    {
      "cell_type": "markdown",
      "metadata": {
        "colab_type": "text",
        "id": "t_bV546-3JVF"
      },
      "source": [
        "## Импорты"
      ]
    },
    {
      "cell_type": "code",
      "metadata": {
        "id": "QcDfknc7O0JA",
        "colab_type": "code",
        "colab": {}
      },
      "source": [
        "# !pip3 install matplotlib tqdm numpy torch"
      ],
      "execution_count": 0,
      "outputs": []
    },
    {
      "cell_type": "code",
      "metadata": {
        "colab_type": "code",
        "id": "SGIPKkSG3JVG",
        "colab": {}
      },
      "source": [
        "%matplotlib inline\n",
        "import matplotlib.pyplot as plt\n",
        "\n",
        "import torch\n",
        "import torch.nn as nn\n",
        "import torch.nn.functional as F\n",
        "import torch.optim as optim\n",
        "from torch.utils.data import Dataset, DataLoader\n",
        "\n",
        "import os\n",
        "from tqdm import tqdm_notebook, trange, tqdm\n",
        "import pickle\n",
        "import numpy as np\n",
        "from IPython.display import clear_output\n",
        "import jedi\n",
        "import tokenize\n",
        "from io import BytesIO\n",
        "import timeit"
      ],
      "execution_count": 0,
      "outputs": []
    },
    {
      "cell_type": "code",
      "metadata": {
        "colab_type": "code",
        "id": "oa2jzP-N3JVI",
        "colab": {}
      },
      "source": [
        "device = torch.device('cuda:0' if torch.cuda.is_available() else 'cpu')\n"
      ],
      "execution_count": 0,
      "outputs": []
    },
    {
      "cell_type": "code",
      "metadata": {
        "colab_type": "code",
        "id": "1WoL992vCADZ",
        "outputId": "59a283dc-3c61-41bc-80f7-411ded5e9f59",
        "colab": {
          "base_uri": "https://localhost:8080/",
          "height": 34
        }
      },
      "source": [
        "device"
      ],
      "execution_count": 3,
      "outputs": [
        {
          "output_type": "execute_result",
          "data": {
            "text/plain": [
              "device(type='cuda', index=0)"
            ]
          },
          "metadata": {
            "tags": []
          },
          "execution_count": 3
        }
      ]
    },
    {
      "cell_type": "code",
      "metadata": {
        "id": "aLWrw7ijQLtg",
        "colab_type": "code",
        "colab": {
          "base_uri": "https://localhost:8080/",
          "height": 122
        },
        "outputId": "c2a570e8-30d1-4afb-8b2b-a419c3dde789"
      },
      "source": [
        "from google.colab import drive\n",
        "drive.mount('/content/drive')"
      ],
      "execution_count": 4,
      "outputs": [
        {
          "output_type": "stream",
          "text": [
            "Go to this URL in a browser: https://accounts.google.com/o/oauth2/auth?client_id=947318989803-6bn6qk8qdgf4n4g3pfee6491hc0brc4i.apps.googleusercontent.com&redirect_uri=urn%3Aietf%3Awg%3Aoauth%3A2.0%3Aoob&scope=email%20https%3A%2F%2Fwww.googleapis.com%2Fauth%2Fdocs.test%20https%3A%2F%2Fwww.googleapis.com%2Fauth%2Fdrive%20https%3A%2F%2Fwww.googleapis.com%2Fauth%2Fdrive.photos.readonly%20https%3A%2F%2Fwww.googleapis.com%2Fauth%2Fpeopleapi.readonly&response_type=code\n",
            "\n",
            "Enter your authorization code:\n",
            "··········\n",
            "Mounted at /content/drive\n"
          ],
          "name": "stdout"
        }
      ]
    },
    {
      "cell_type": "code",
      "metadata": {
        "id": "0eZ7DbZnQS3b",
        "colab_type": "code",
        "colab": {}
      },
      "source": [
        "base_path = '/content/drive/My Drive/vkr'"
      ],
      "execution_count": 0,
      "outputs": []
    },
    {
      "cell_type": "markdown",
      "metadata": {
        "id": "DMEg_bF5O0JP",
        "colab_type": "text"
      },
      "source": [
        "\n",
        "* суммирую все эмбеддинги, которые встретил до текущего ключевого слова, конкатенирую к эмбеддингу текущего слова\n",
        "    - итерируюсь по файлам из train_files.txt\n",
        "    - иду с помощью tokenize + isidentifier(), выбираю из кода identifiers, которые есть в mapping.map\n",
        "        - может ли регулярка возвращать индекс начала распознанного слова?\n",
        "        - сохраняю в массив `[[identifier, index], [...], ...]`\n",
        "    - предсохраняю номера токенов, которые войдут в сумму\n",
        "    - подаю в jedi предыдущий код + первую букву identifier'а (индекс от регулярки + 1)\n",
        "    - итерируюсь по предсказаниям и добавляю объекты в train такого вида:\n",
        "    ```\n",
        "    [\n",
        "        arr_of_prev_tokens,\n",
        "        predicted_token (число из mapping.map),\n",
        "        real_token (число из mapping.map)\n",
        "    ]```\n",
        "    - дамплю в пикл `{file_name: train}`\n",
        "* подаю на вход полносвязному слою\n",
        "* беру сигмоиду\n",
        "* подаю в кросс-энтропию"
      ]
    },
    {
      "cell_type": "code",
      "metadata": {
        "id": "0qJOR5-QO0JQ",
        "colab_type": "code",
        "colab": {}
      },
      "source": [
        ""
      ],
      "execution_count": 0,
      "outputs": []
    },
    {
      "cell_type": "code",
      "metadata": {
        "scrolled": true,
        "id": "X0rv2Bd7O0JS",
        "colab_type": "code",
        "colab": {}
      },
      "source": [
        "# times_dict = {\n",
        "#     'code_read': [],\n",
        "#     'tokenize': [],\n",
        "#     'before_jedi': [],\n",
        "#     'jedi': [],\n",
        "#     'after_jedi': [],\n",
        "#     'everything_in_for_in_g_body': [],\n",
        "#     'save_preprocessed': [],\n",
        "# }\n",
        "\n",
        "\n",
        "# def prepare_samples(path, samples_path):\n",
        "#     def get_filenames(path):\n",
        "#         with open(path) as f:\n",
        "#             filenames = f.read().split('\\n')\n",
        "#         return filenames\n",
        "    \n",
        "#     def load_mapping(path):\n",
        "#         with open(path, 'rb') as f:\n",
        "# #         print(base_path + '/mapping.map')\n",
        "#             word_to_id = pickle.load(f)\n",
        "#         return word_to_id\n",
        "\n",
        "#     def predict_tokens(code):\n",
        "#         try:\n",
        "#             script = jedi.Script(code)\n",
        "#             return script.completions()\n",
        "#         except KeyError:\n",
        "#             pass\n",
        "# #             prepare_samples(path, samples_path)\n",
        "    \n",
        "#     def load_preprocessed(path):\n",
        "#         try:\n",
        "#             with open(path, 'rb') as f:\n",
        "#                 samples = pickle.load(f)\n",
        "#         except FileNotFoundError:\n",
        "#             samples = {}\n",
        "#         return samples\n",
        "    \n",
        "#     def save_preprocessed(samples_dict_path, samples_dict):\n",
        "#         with open(samples_dict_path, 'wb') as f:\n",
        "#             samples = pickle.dump(samples_dict, f)\n",
        "    \n",
        "#     filenames = get_filenames(path + samples_path)\n",
        "#     word_to_id = load_mapping('./mapping.map')\n",
        "    \n",
        "#     samples_dict_path = './ranking_samples_' + samples_path[:3]\n",
        "#     samples_dict = load_preprocessed(samples_dict_path)\n",
        "\n",
        "# #     start_time = timeit.default_timer()\n",
        "# #     # code you want to evaluate\n",
        "# #     elapsed = timeit.default_timer() - start_time\n",
        "\n",
        "#     for i, filename in enumerate(tqdm(filenames)):\n",
        "        \n",
        "#         if filename in samples_dict:\n",
        "#             continue\n",
        "\n",
        "# #         clear_output()\n",
        "#         times_dict['code_read'].append(0.)\n",
        "#         times_dict['tokenize'].append(0.)\n",
        "#         times_dict['before_jedi'].append(0.)\n",
        "#         times_dict['jedi'].append(0.)\n",
        "#         times_dict['after_jedi'].append(0.)\n",
        "#         times_dict['everything_in_for_in_g_body'].append(0.)\n",
        "#         times_dict['save_preprocessed'].append(0.)\n",
        "\n",
        "#         start_time = timeit.default_timer()\n",
        "#         with open(path + filename) as f:\n",
        "#             code = f.read()\n",
        "#         times_dict['code_read'][-1] += timeit.default_timer() - start_time\n",
        "#         print(times_dict['code_read'])\n",
        "        \n",
        "#         start_time = timeit.default_timer()\n",
        "#         samples = []\n",
        "#         prev_tokens = []\n",
        "#         g = tokenize.tokenize(BytesIO(code.encode(\"utf-8\")).readline)\n",
        "#         code_lines = code.split('\\n')\n",
        "#         times_dict['tokenize'][-1] += timeit.default_timer() - start_time\n",
        "#         print(times_dict['tokenize'])\n",
        "        \n",
        "#         start_time = timeit.default_timer()\n",
        "#         for toktype, tokval, start, _, _ in g:\n",
        "#             if toktype == tokenize.NAME and tokval in word_to_id:\n",
        "#                 inner_start_time = timeit.default_timer()\n",
        "#                 row, col = start\n",
        "#                 real_token = word_to_id[tokval]\n",
        "#                 prev_code = '\\n'.join(code_lines[:row-1]) + '\\n' + code_lines[row-1][:col+1]\n",
        "#                 times_dict['before_jedi'][-1] += timeit.default_timer() - inner_start_time\n",
        "                \n",
        "#                 inner_start_time = timeit.default_timer()\n",
        "#                 preds = predict_tokens(prev_code)\n",
        "#                 times_dict['jedi'][-1] += timeit.default_timer() - inner_start_time\n",
        "\n",
        "#                 inner_start_time = timeit.default_timer()\n",
        "#                 for pred in preds:\n",
        "#                     completion = pred.full_name\n",
        "#                     if completion in word_to_id:\n",
        "#                         completion_id = word_to_id[completion]\n",
        "#                         samples.append([\n",
        "#                             prev_tokens[:],\n",
        "#                             completion_id,\n",
        "#                             real_token\n",
        "#                         ])\n",
        "#                 prev_tokens.append(real_token)\n",
        "#                 times_dict['after_jedi'][-1] += timeit.default_timer() - inner_start_time\n",
        "# #                     break\n",
        "#         times_dict['everything_in_for_in_g_body'][-1] += timeit.default_timer() - start_time\n",
        "#         print(times_dict['everything_in_for_in_g_body'])\n",
        "#         samples_dict[filename] = samples\n",
        "        \n",
        "#         start_time = timeit.default_timer()\n",
        "#         save_preprocessed(samples_dict_path, samples_dict)\n",
        "#         times_dict['save_preprocessed'][-1] += timeit.default_timer() - start_time\n",
        "#         clear_output()\n",
        "# #         break\n",
        "#     save_preprocessed(samples_dict_path, samples_dict)\n",
        "#     return samples_dict\n",
        "\n",
        "# path = './pycodesuggest_py_repos_normalised/'\n",
        "# samples_path = 'train_files.txt'\n",
        "# samples = prepare_samples(path, samples_path)\n",
        "        "
      ],
      "execution_count": 0,
      "outputs": []
    },
    {
      "cell_type": "code",
      "metadata": {
        "id": "bMevG8jJO0JW",
        "colab_type": "code",
        "colab": {}
      },
      "source": [
        "# times_dict"
      ],
      "execution_count": 0,
      "outputs": []
    },
    {
      "cell_type": "code",
      "metadata": {
        "id": "Vy0O6zu5O0Ja",
        "colab_type": "code",
        "colab": {}
      },
      "source": [
        ""
      ],
      "execution_count": 0,
      "outputs": []
    },
    {
      "cell_type": "code",
      "metadata": {
        "id": "zICsw6fUO0Jc",
        "colab_type": "code",
        "colab": {}
      },
      "source": [
        ""
      ],
      "execution_count": 0,
      "outputs": []
    },
    {
      "cell_type": "code",
      "metadata": {
        "id": "-E5C7uycO0Jh",
        "colab_type": "code",
        "colab": {}
      },
      "source": [
        "with open(base_path + '/ranking_samples_tra', 'rb') as f:\n",
        "    samples = pickle.load(f)"
      ],
      "execution_count": 0,
      "outputs": []
    },
    {
      "cell_type": "code",
      "metadata": {
        "id": "GRbpZAj6O0Jk",
        "colab_type": "code",
        "colab": {
          "base_uri": "https://localhost:8080/",
          "height": 51
        },
        "outputId": "c67b779e-693f-4424-bcb3-2bac25db2cb9"
      },
      "source": [
        "count = 0\n",
        "\n",
        "for v in samples.values():\n",
        "    count += len(v)\n",
        "print(count)\n",
        "print(len(samples.values()))"
      ],
      "execution_count": 7,
      "outputs": [
        {
          "output_type": "stream",
          "text": [
            "90017\n",
            "126\n"
          ],
          "name": "stdout"
        }
      ]
    },
    {
      "cell_type": "markdown",
      "metadata": {
        "id": "cD74Psr9O0Jm",
        "colab_type": "text"
      },
      "source": [
        "## create test dataset"
      ]
    },
    {
      "cell_type": "code",
      "metadata": {
        "id": "eESPG62NO0Jn",
        "colab_type": "code",
        "colab": {}
      },
      "source": [
        ""
      ],
      "execution_count": 0,
      "outputs": []
    },
    {
      "cell_type": "code",
      "metadata": {
        "id": "dGmvgfxXO0Jp",
        "colab_type": "code",
        "colab": {}
      },
      "source": [
        "# jedi_correct = 900.0\n",
        "# jedi_total = 5984.0"
      ],
      "execution_count": 0,
      "outputs": []
    },
    {
      "cell_type": "code",
      "metadata": {
        "scrolled": true,
        "id": "kNz5_DBbO0Js",
        "colab_type": "code",
        "colab": {},
        "outputId": "804159c1-26a0-4192-99dc-7efff35a0e83"
      },
      "source": [
        "# def prepare_test_samples(path, samples_path):\n",
        "#     global jedi_correct, jedi_total\n",
        "\n",
        "#     def get_filenames(path):\n",
        "#         with open(path) as f:\n",
        "#             filenames = f.read().split('\\n')\n",
        "#         return filenames\n",
        "    \n",
        "#     def load_mapping(path):\n",
        "#         with open(path, 'rb') as f:\n",
        "# #         print(base_path + '/mapping.map')\n",
        "#             word_to_id = pickle.load(f)\n",
        "#         return word_to_id\n",
        "\n",
        "#     def predict_tokens(code):\n",
        "#         try:\n",
        "#             script = jedi.Script(code)\n",
        "#             return script.completions()\n",
        "#         except KeyError:\n",
        "#             pass\n",
        "# #             prepare_samples(path, samples_path)\n",
        "\n",
        "#     def save_preprocessed(samples_dict_path, samples_dict):\n",
        "#         with open(samples_dict_path, 'wb') as f:\n",
        "#             pickle.dump(samples_dict, f)\n",
        "    \n",
        "#     def load_preprocessed(path):\n",
        "#         try:\n",
        "#             with open(path, 'rb') as f:\n",
        "#                 samples = pickle.load(f)\n",
        "#         except FileNotFoundError:\n",
        "#             samples = {}\n",
        "#         return samples\n",
        "    \n",
        "#     def handle_identifier(toktype, tokval, start):\n",
        "#         global jedi_correct, jedi_total\n",
        "#         row, col = start\n",
        "#         real_token = word_to_id[tokval]\n",
        "#         prev_code = '\\n'.join(code_lines[:row-1]) + '\\n' + code_lines[row-1][:col+1]\n",
        "\n",
        "#         preds = predict_tokens(prev_code)\n",
        "\n",
        "#         for idx, pred in enumerate(preds):\n",
        "#             completion = pred.full_name\n",
        "#             if idx == 0:\n",
        "#                 if completion == tokval:\n",
        "#                     jedi_correct += 1\n",
        "#                 jedi_total += 1\n",
        "#             if completion in word_to_id:\n",
        "#                 completion_id = word_to_id[completion]\n",
        "#                 samples.append([\n",
        "#                     prev_tokens[:],\n",
        "#                     completion_id,\n",
        "#                     real_token\n",
        "#                 ])\n",
        "#         prev_tokens.append(real_token)\n",
        "    \n",
        "#     filenames_for_test = get_filenames(path + samples_path)#[::-1]\n",
        "#     word_to_id = load_mapping('./mapping.map')\n",
        "    \n",
        "#     samples_dict_path = './ranking_samples_' + samples_path[:3]\n",
        "#     samples_dict = load_preprocessed(samples_dict_path)\n",
        "\n",
        "#     for i, filename in enumerate(tqdm_notebook(filenames_for_test)):\n",
        "        \n",
        "#         if filename in samples_dict:\n",
        "#             continue\n",
        "\n",
        "#         with open(path + filename) as f:\n",
        "#             code = f.read()\n",
        "#         print(path + filename)\n",
        "\n",
        "#         samples = []\n",
        "#         prev_tokens = []\n",
        "#         g = tokenize.tokenize(BytesIO(code.encode(\"utf-8\")).readline)\n",
        "#         code_lines = code.split('\\n')\n",
        "\n",
        "#         # todo accuracy plot\n",
        "#         for toktype, tokval, start, _, _ in g:\n",
        "#             if toktype == tokenize.NAME and tokval in word_to_id:\n",
        "#                 handle_identifier(toktype, tokval, start)\n",
        "        \n",
        "#         samples_dict[filename] = samples\n",
        "\n",
        "#         save_preprocessed(samples_dict_path, samples_dict)\n",
        "#         clear_output()\n",
        "#         print('Jedi accuracy: {}/{}={:.4f}'.format(jedi_correct, jedi_total, jedi_correct / jedi_total))\n",
        "# #         break\n",
        "#     save_preprocessed(samples_dict_path, samples_dict)\n",
        "#     return samples_dict\n",
        "\n",
        "# path = './pycodesuggest_py_repos_normalised/'\n",
        "# samples_path = 'test_files.txt' # todo due to word_to_id may not work\n",
        "# samples, jedi_ = prepare_test_samples(path, samples_path)\n",
        "        "
      ],
      "execution_count": 0,
      "outputs": [
        {
          "output_type": "display_data",
          "data": {
            "application/vnd.jupyter.widget-view+json": {
              "model_id": "06d388a34ba943b3afb07ec1924f6d40",
              "version_major": 2,
              "version_minor": 0
            },
            "text/plain": [
              "HBox(children=(IntProgress(value=0, max=39791), HTML(value='')))"
            ]
          },
          "metadata": {
            "tags": []
          }
        },
        {
          "output_type": "stream",
          "text": [
            "./pycodesuggest_py_repos_normalised/conda-forge/staged-recipes/.ci_support/compute_build_graph.py\n"
          ],
          "name": "stdout"
        },
        {
          "output_type": "error",
          "ename": "InvalidPythonEnvironment",
          "evalue": "Could not get version information for '/usr/local/opt/python/bin/python3.7': BlockingIOError(35, 'Resource temporarily unavailable')",
          "traceback": [
            "\u001b[0;31m---------------------------------------------------------------------------\u001b[0m",
            "\u001b[0;31mKeyError\u001b[0m                                  Traceback (most recent call last)",
            "\u001b[0;32m/usr/local/lib/python3.7/site-packages/jedi/cache.py\u001b[0m in \u001b[0;36mwrapper\u001b[0;34m(self, *args, **kwargs)\u001b[0m\n\u001b[1;32m    140\u001b[0m         \u001b[0;32mtry\u001b[0m\u001b[0;34m:\u001b[0m\u001b[0;34m\u001b[0m\u001b[0;34m\u001b[0m\u001b[0m\n\u001b[0;32m--> 141\u001b[0;31m             \u001b[0;32mreturn\u001b[0m \u001b[0mdct\u001b[0m\u001b[0;34m[\u001b[0m\u001b[0mkey\u001b[0m\u001b[0;34m]\u001b[0m\u001b[0;34m\u001b[0m\u001b[0;34m\u001b[0m\u001b[0m\n\u001b[0m\u001b[1;32m    142\u001b[0m         \u001b[0;32mexcept\u001b[0m \u001b[0mKeyError\u001b[0m\u001b[0;34m:\u001b[0m\u001b[0;34m\u001b[0m\u001b[0;34m\u001b[0m\u001b[0m\n",
            "\u001b[0;31mKeyError\u001b[0m: ((), frozenset())",
            "\nDuring handling of the above exception, another exception occurred:\n",
            "\u001b[0;31mBlockingIOError\u001b[0m                           Traceback (most recent call last)",
            "\u001b[0;32m/usr/local/lib/python3.7/site-packages/jedi/api/environment.py\u001b[0m in \u001b[0;36m_get_subprocess\u001b[0;34m(self)\u001b[0m\n\u001b[1;32m     73\u001b[0m             \u001b[0mself\u001b[0m\u001b[0;34m.\u001b[0m\u001b[0m_subprocess\u001b[0m \u001b[0;34m=\u001b[0m \u001b[0mCompiledSubprocess\u001b[0m\u001b[0;34m(\u001b[0m\u001b[0mself\u001b[0m\u001b[0;34m.\u001b[0m\u001b[0m_start_executable\u001b[0m\u001b[0;34m)\u001b[0m\u001b[0;34m\u001b[0m\u001b[0;34m\u001b[0m\u001b[0m\n\u001b[0;32m---> 74\u001b[0;31m             \u001b[0minfo\u001b[0m \u001b[0;34m=\u001b[0m \u001b[0mself\u001b[0m\u001b[0;34m.\u001b[0m\u001b[0m_subprocess\u001b[0m\u001b[0;34m.\u001b[0m\u001b[0m_send\u001b[0m\u001b[0;34m(\u001b[0m\u001b[0;32mNone\u001b[0m\u001b[0;34m,\u001b[0m \u001b[0m_get_info\u001b[0m\u001b[0;34m)\u001b[0m\u001b[0;34m\u001b[0m\u001b[0;34m\u001b[0m\u001b[0m\n\u001b[0m\u001b[1;32m     75\u001b[0m         \u001b[0;32mexcept\u001b[0m \u001b[0mException\u001b[0m \u001b[0;32mas\u001b[0m \u001b[0mexc\u001b[0m\u001b[0;34m:\u001b[0m\u001b[0;34m\u001b[0m\u001b[0;34m\u001b[0m\u001b[0m\n",
            "\u001b[0;32m/usr/local/lib/python3.7/site-packages/jedi/evaluate/compiled/subprocess/__init__.py\u001b[0m in \u001b[0;36m_send\u001b[0;34m(self, evaluator_id, function, args, kwargs)\u001b[0m\n\u001b[1;32m    228\u001b[0m         \u001b[0;32mtry\u001b[0m\u001b[0;34m:\u001b[0m\u001b[0;34m\u001b[0m\u001b[0;34m\u001b[0m\u001b[0m\n\u001b[0;32m--> 229\u001b[0;31m             \u001b[0mpickle_dump\u001b[0m\u001b[0;34m(\u001b[0m\u001b[0mdata\u001b[0m\u001b[0;34m,\u001b[0m \u001b[0mself\u001b[0m\u001b[0;34m.\u001b[0m\u001b[0m_process\u001b[0m\u001b[0;34m.\u001b[0m\u001b[0mstdin\u001b[0m\u001b[0;34m,\u001b[0m \u001b[0mself\u001b[0m\u001b[0;34m.\u001b[0m\u001b[0m_pickle_protocol\u001b[0m\u001b[0;34m)\u001b[0m\u001b[0;34m\u001b[0m\u001b[0;34m\u001b[0m\u001b[0m\n\u001b[0m\u001b[1;32m    230\u001b[0m         \u001b[0;32mexcept\u001b[0m \u001b[0;34m(\u001b[0m\u001b[0msocket\u001b[0m\u001b[0;34m.\u001b[0m\u001b[0merror\u001b[0m\u001b[0;34m,\u001b[0m \u001b[0mIOError\u001b[0m\u001b[0;34m)\u001b[0m \u001b[0;32mas\u001b[0m \u001b[0me\u001b[0m\u001b[0;34m:\u001b[0m\u001b[0;34m\u001b[0m\u001b[0;34m\u001b[0m\u001b[0m\n",
            "\u001b[0;32m/usr/local/lib/python3.7/site-packages/jedi/cache.py\u001b[0m in \u001b[0;36mwrapper\u001b[0;34m(self, *args, **kwargs)\u001b[0m\n\u001b[1;32m    142\u001b[0m         \u001b[0;32mexcept\u001b[0m \u001b[0mKeyError\u001b[0m\u001b[0;34m:\u001b[0m\u001b[0;34m\u001b[0m\u001b[0;34m\u001b[0m\u001b[0m\n\u001b[0;32m--> 143\u001b[0;31m             \u001b[0mresult\u001b[0m \u001b[0;34m=\u001b[0m \u001b[0mmethod\u001b[0m\u001b[0;34m(\u001b[0m\u001b[0mself\u001b[0m\u001b[0;34m,\u001b[0m \u001b[0;34m*\u001b[0m\u001b[0margs\u001b[0m\u001b[0;34m,\u001b[0m \u001b[0;34m**\u001b[0m\u001b[0mkwargs\u001b[0m\u001b[0;34m)\u001b[0m\u001b[0;34m\u001b[0m\u001b[0;34m\u001b[0m\u001b[0m\n\u001b[0m\u001b[1;32m    144\u001b[0m             \u001b[0mdct\u001b[0m\u001b[0;34m[\u001b[0m\u001b[0mkey\u001b[0m\u001b[0;34m]\u001b[0m \u001b[0;34m=\u001b[0m \u001b[0mresult\u001b[0m\u001b[0;34m\u001b[0m\u001b[0;34m\u001b[0m\u001b[0m\n",
            "\u001b[0;32m/usr/local/lib/python3.7/site-packages/jedi/evaluate/compiled/subprocess/__init__.py\u001b[0m in \u001b[0;36m_process\u001b[0;34m(self)\u001b[0m\n\u001b[1;32m    176\u001b[0m             \u001b[0;31m# (this is already the case on Python 3).\u001b[0m\u001b[0;34m\u001b[0m\u001b[0;34m\u001b[0m\u001b[0;34m\u001b[0m\u001b[0m\n\u001b[0;32m--> 177\u001b[0;31m             \u001b[0mbufsize\u001b[0m\u001b[0;34m=\u001b[0m\u001b[0;34m-\u001b[0m\u001b[0;36m1\u001b[0m\u001b[0;34m\u001b[0m\u001b[0;34m\u001b[0m\u001b[0m\n\u001b[0m\u001b[1;32m    178\u001b[0m         )\n",
            "\u001b[0;32m/usr/local/lib/python3.7/site-packages/jedi/_compatibility.py\u001b[0m in \u001b[0;36m__init__\u001b[0;34m(self, *args, **kwargs)\u001b[0m\n\u001b[1;32m    524\u001b[0m         \u001b[0mkwargs\u001b[0m\u001b[0;34m[\u001b[0m\u001b[0;34m'close_fds'\u001b[0m\u001b[0;34m]\u001b[0m \u001b[0;34m=\u001b[0m \u001b[0;34m'posix'\u001b[0m \u001b[0;32min\u001b[0m \u001b[0msys\u001b[0m\u001b[0;34m.\u001b[0m\u001b[0mbuiltin_module_names\u001b[0m\u001b[0;34m\u001b[0m\u001b[0;34m\u001b[0m\u001b[0m\n\u001b[0;32m--> 525\u001b[0;31m         \u001b[0msuper\u001b[0m\u001b[0;34m(\u001b[0m\u001b[0mGeneralizedPopen\u001b[0m\u001b[0;34m,\u001b[0m \u001b[0mself\u001b[0m\u001b[0;34m)\u001b[0m\u001b[0;34m.\u001b[0m\u001b[0m__init__\u001b[0m\u001b[0;34m(\u001b[0m\u001b[0;34m*\u001b[0m\u001b[0margs\u001b[0m\u001b[0;34m,\u001b[0m \u001b[0;34m**\u001b[0m\u001b[0mkwargs\u001b[0m\u001b[0;34m)\u001b[0m\u001b[0;34m\u001b[0m\u001b[0;34m\u001b[0m\u001b[0m\n\u001b[0m\u001b[1;32m    526\u001b[0m \u001b[0;34m\u001b[0m\u001b[0m\n",
            "\u001b[0;32m/usr/local/Cellar/python/3.7.3/Frameworks/Python.framework/Versions/3.7/lib/python3.7/subprocess.py\u001b[0m in \u001b[0;36m__init__\u001b[0;34m(self, args, bufsize, executable, stdin, stdout, stderr, preexec_fn, close_fds, shell, cwd, env, universal_newlines, startupinfo, creationflags, restore_signals, start_new_session, pass_fds, encoding, errors, text)\u001b[0m\n\u001b[1;32m    774\u001b[0m                                 \u001b[0merrread\u001b[0m\u001b[0;34m,\u001b[0m \u001b[0merrwrite\u001b[0m\u001b[0;34m,\u001b[0m\u001b[0;34m\u001b[0m\u001b[0;34m\u001b[0m\u001b[0m\n\u001b[0;32m--> 775\u001b[0;31m                                 restore_signals, start_new_session)\n\u001b[0m\u001b[1;32m    776\u001b[0m         \u001b[0;32mexcept\u001b[0m\u001b[0;34m:\u001b[0m\u001b[0;34m\u001b[0m\u001b[0;34m\u001b[0m\u001b[0m\n",
            "\u001b[0;32m/usr/local/Cellar/python/3.7.3/Frameworks/Python.framework/Versions/3.7/lib/python3.7/subprocess.py\u001b[0m in \u001b[0;36m_execute_child\u001b[0;34m(self, args, executable, preexec_fn, close_fds, pass_fds, cwd, env, startupinfo, creationflags, shell, p2cread, p2cwrite, c2pread, c2pwrite, errread, errwrite, restore_signals, start_new_session)\u001b[0m\n\u001b[1;32m   1452\u001b[0m                             \u001b[0merrpipe_read\u001b[0m\u001b[0;34m,\u001b[0m \u001b[0merrpipe_write\u001b[0m\u001b[0;34m,\u001b[0m\u001b[0;34m\u001b[0m\u001b[0;34m\u001b[0m\u001b[0m\n\u001b[0;32m-> 1453\u001b[0;31m                             restore_signals, start_new_session, preexec_fn)\n\u001b[0m\u001b[1;32m   1454\u001b[0m                     \u001b[0mself\u001b[0m\u001b[0;34m.\u001b[0m\u001b[0m_child_created\u001b[0m \u001b[0;34m=\u001b[0m \u001b[0;32mTrue\u001b[0m\u001b[0;34m\u001b[0m\u001b[0;34m\u001b[0m\u001b[0m\n",
            "\u001b[0;31mBlockingIOError\u001b[0m: [Errno 35] Resource temporarily unavailable",
            "\nDuring handling of the above exception, another exception occurred:\n",
            "\u001b[0;31mInvalidPythonEnvironment\u001b[0m                  Traceback (most recent call last)",
            "\u001b[0;32m<ipython-input-60-9f1931c4f6cc>\u001b[0m in \u001b[0;36m<module>\u001b[0;34m\u001b[0m\n\u001b[1;32m     92\u001b[0m \u001b[0mpath\u001b[0m \u001b[0;34m=\u001b[0m \u001b[0;34m'./pycodesuggest_py_repos_normalised/'\u001b[0m\u001b[0;34m\u001b[0m\u001b[0;34m\u001b[0m\u001b[0m\n\u001b[1;32m     93\u001b[0m \u001b[0msamples_path\u001b[0m \u001b[0;34m=\u001b[0m \u001b[0;34m'test_files.txt'\u001b[0m \u001b[0;31m# todo due to word_to_id may not work\u001b[0m\u001b[0;34m\u001b[0m\u001b[0;34m\u001b[0m\u001b[0m\n\u001b[0;32m---> 94\u001b[0;31m \u001b[0msamples\u001b[0m\u001b[0;34m,\u001b[0m \u001b[0mjedi_\u001b[0m \u001b[0;34m=\u001b[0m \u001b[0mprepare_test_samples\u001b[0m\u001b[0;34m(\u001b[0m\u001b[0mpath\u001b[0m\u001b[0;34m,\u001b[0m \u001b[0msamples_path\u001b[0m\u001b[0;34m)\u001b[0m\u001b[0;34m\u001b[0m\u001b[0;34m\u001b[0m\u001b[0m\n\u001b[0m\u001b[1;32m     95\u001b[0m \u001b[0;34m\u001b[0m\u001b[0m\n",
            "\u001b[0;32m<ipython-input-60-9f1931c4f6cc>\u001b[0m in \u001b[0;36mprepare_test_samples\u001b[0;34m(path, samples_path)\u001b[0m\n\u001b[1;32m     79\u001b[0m         \u001b[0;32mfor\u001b[0m \u001b[0mtoktype\u001b[0m\u001b[0;34m,\u001b[0m \u001b[0mtokval\u001b[0m\u001b[0;34m,\u001b[0m \u001b[0mstart\u001b[0m\u001b[0;34m,\u001b[0m \u001b[0m_\u001b[0m\u001b[0;34m,\u001b[0m \u001b[0m_\u001b[0m \u001b[0;32min\u001b[0m \u001b[0mg\u001b[0m\u001b[0;34m:\u001b[0m\u001b[0;34m\u001b[0m\u001b[0;34m\u001b[0m\u001b[0m\n\u001b[1;32m     80\u001b[0m             \u001b[0;32mif\u001b[0m \u001b[0mtoktype\u001b[0m \u001b[0;34m==\u001b[0m \u001b[0mtokenize\u001b[0m\u001b[0;34m.\u001b[0m\u001b[0mNAME\u001b[0m \u001b[0;32mand\u001b[0m \u001b[0mtokval\u001b[0m \u001b[0;32min\u001b[0m \u001b[0mword_to_id\u001b[0m\u001b[0;34m:\u001b[0m\u001b[0;34m\u001b[0m\u001b[0;34m\u001b[0m\u001b[0m\n\u001b[0;32m---> 81\u001b[0;31m                 \u001b[0mhandle_identifier\u001b[0m\u001b[0;34m(\u001b[0m\u001b[0mtoktype\u001b[0m\u001b[0;34m,\u001b[0m \u001b[0mtokval\u001b[0m\u001b[0;34m,\u001b[0m \u001b[0mstart\u001b[0m\u001b[0;34m)\u001b[0m\u001b[0;34m\u001b[0m\u001b[0;34m\u001b[0m\u001b[0m\n\u001b[0m\u001b[1;32m     82\u001b[0m \u001b[0;34m\u001b[0m\u001b[0m\n\u001b[1;32m     83\u001b[0m         \u001b[0msamples_dict\u001b[0m\u001b[0;34m[\u001b[0m\u001b[0mfilename\u001b[0m\u001b[0;34m]\u001b[0m \u001b[0;34m=\u001b[0m \u001b[0msamples\u001b[0m\u001b[0;34m\u001b[0m\u001b[0;34m\u001b[0m\u001b[0m\n",
            "\u001b[0;32m<ipython-input-60-9f1931c4f6cc>\u001b[0m in \u001b[0;36mhandle_identifier\u001b[0;34m(toktype, tokval, start)\u001b[0m\n\u001b[1;32m     39\u001b[0m         \u001b[0mprev_code\u001b[0m \u001b[0;34m=\u001b[0m \u001b[0;34m'\\n'\u001b[0m\u001b[0;34m.\u001b[0m\u001b[0mjoin\u001b[0m\u001b[0;34m(\u001b[0m\u001b[0mcode_lines\u001b[0m\u001b[0;34m[\u001b[0m\u001b[0;34m:\u001b[0m\u001b[0mrow\u001b[0m\u001b[0;34m-\u001b[0m\u001b[0;36m1\u001b[0m\u001b[0;34m]\u001b[0m\u001b[0;34m)\u001b[0m \u001b[0;34m+\u001b[0m \u001b[0;34m'\\n'\u001b[0m \u001b[0;34m+\u001b[0m \u001b[0mcode_lines\u001b[0m\u001b[0;34m[\u001b[0m\u001b[0mrow\u001b[0m\u001b[0;34m-\u001b[0m\u001b[0;36m1\u001b[0m\u001b[0;34m]\u001b[0m\u001b[0;34m[\u001b[0m\u001b[0;34m:\u001b[0m\u001b[0mcol\u001b[0m\u001b[0;34m+\u001b[0m\u001b[0;36m1\u001b[0m\u001b[0;34m]\u001b[0m\u001b[0;34m\u001b[0m\u001b[0;34m\u001b[0m\u001b[0m\n\u001b[1;32m     40\u001b[0m \u001b[0;34m\u001b[0m\u001b[0m\n\u001b[0;32m---> 41\u001b[0;31m         \u001b[0mpreds\u001b[0m \u001b[0;34m=\u001b[0m \u001b[0mpredict_tokens\u001b[0m\u001b[0;34m(\u001b[0m\u001b[0mprev_code\u001b[0m\u001b[0;34m)\u001b[0m\u001b[0;34m\u001b[0m\u001b[0;34m\u001b[0m\u001b[0m\n\u001b[0m\u001b[1;32m     42\u001b[0m \u001b[0;34m\u001b[0m\u001b[0m\n\u001b[1;32m     43\u001b[0m         \u001b[0;32mfor\u001b[0m \u001b[0midx\u001b[0m\u001b[0;34m,\u001b[0m \u001b[0mpred\u001b[0m \u001b[0;32min\u001b[0m \u001b[0menumerate\u001b[0m\u001b[0;34m(\u001b[0m\u001b[0mpreds\u001b[0m\u001b[0;34m)\u001b[0m\u001b[0;34m:\u001b[0m\u001b[0;34m\u001b[0m\u001b[0;34m\u001b[0m\u001b[0m\n",
            "\u001b[0;32m<ipython-input-60-9f1931c4f6cc>\u001b[0m in \u001b[0;36mpredict_tokens\u001b[0;34m(code)\u001b[0m\n\u001b[1;32m     15\u001b[0m     \u001b[0;32mdef\u001b[0m \u001b[0mpredict_tokens\u001b[0m\u001b[0;34m(\u001b[0m\u001b[0mcode\u001b[0m\u001b[0;34m)\u001b[0m\u001b[0;34m:\u001b[0m\u001b[0;34m\u001b[0m\u001b[0;34m\u001b[0m\u001b[0m\n\u001b[1;32m     16\u001b[0m         \u001b[0;32mtry\u001b[0m\u001b[0;34m:\u001b[0m\u001b[0;34m\u001b[0m\u001b[0;34m\u001b[0m\u001b[0m\n\u001b[0;32m---> 17\u001b[0;31m             \u001b[0mscript\u001b[0m \u001b[0;34m=\u001b[0m \u001b[0mjedi\u001b[0m\u001b[0;34m.\u001b[0m\u001b[0mScript\u001b[0m\u001b[0;34m(\u001b[0m\u001b[0mcode\u001b[0m\u001b[0;34m)\u001b[0m\u001b[0;34m\u001b[0m\u001b[0;34m\u001b[0m\u001b[0m\n\u001b[0m\u001b[1;32m     18\u001b[0m             \u001b[0;32mreturn\u001b[0m \u001b[0mscript\u001b[0m\u001b[0;34m.\u001b[0m\u001b[0mcompletions\u001b[0m\u001b[0;34m(\u001b[0m\u001b[0;34m)\u001b[0m\u001b[0;34m\u001b[0m\u001b[0;34m\u001b[0m\u001b[0m\n\u001b[1;32m     19\u001b[0m         \u001b[0;32mexcept\u001b[0m \u001b[0mKeyError\u001b[0m\u001b[0;34m:\u001b[0m\u001b[0;34m\u001b[0m\u001b[0;34m\u001b[0m\u001b[0m\n",
            "\u001b[0;32m/usr/local/lib/python3.7/site-packages/jedi/api/__init__.py\u001b[0m in \u001b[0;36m__init__\u001b[0;34m(self, source, line, column, path, encoding, sys_path, environment)\u001b[0m\n\u001b[1;32m    106\u001b[0m             \u001b[0mproject\u001b[0m\u001b[0;34m.\u001b[0m\u001b[0m_sys_path\u001b[0m \u001b[0;34m=\u001b[0m \u001b[0msys_path\u001b[0m\u001b[0;34m\u001b[0m\u001b[0;34m\u001b[0m\u001b[0m\n\u001b[1;32m    107\u001b[0m         self._evaluator = Evaluator(\n\u001b[0;32m--> 108\u001b[0;31m             \u001b[0mproject\u001b[0m\u001b[0;34m,\u001b[0m \u001b[0menvironment\u001b[0m\u001b[0;34m=\u001b[0m\u001b[0menvironment\u001b[0m\u001b[0;34m,\u001b[0m \u001b[0mscript_path\u001b[0m\u001b[0;34m=\u001b[0m\u001b[0mself\u001b[0m\u001b[0;34m.\u001b[0m\u001b[0mpath\u001b[0m\u001b[0;34m\u001b[0m\u001b[0;34m\u001b[0m\u001b[0m\n\u001b[0m\u001b[1;32m    109\u001b[0m         )\n\u001b[1;32m    110\u001b[0m         \u001b[0mself\u001b[0m\u001b[0;34m.\u001b[0m\u001b[0m_project\u001b[0m \u001b[0;34m=\u001b[0m \u001b[0mproject\u001b[0m\u001b[0;34m\u001b[0m\u001b[0;34m\u001b[0m\u001b[0m\n",
            "\u001b[0;32m/usr/local/lib/python3.7/site-packages/jedi/evaluate/__init__.py\u001b[0m in \u001b[0;36m__init__\u001b[0;34m(self, project, environment, script_path)\u001b[0m\n\u001b[1;32m     92\u001b[0m         \u001b[0mself\u001b[0m\u001b[0;34m.\u001b[0m\u001b[0menvironment\u001b[0m \u001b[0;34m=\u001b[0m \u001b[0menvironment\u001b[0m\u001b[0;34m\u001b[0m\u001b[0;34m\u001b[0m\u001b[0m\n\u001b[1;32m     93\u001b[0m         \u001b[0mself\u001b[0m\u001b[0;34m.\u001b[0m\u001b[0mscript_path\u001b[0m \u001b[0;34m=\u001b[0m \u001b[0mscript_path\u001b[0m\u001b[0;34m\u001b[0m\u001b[0;34m\u001b[0m\u001b[0m\n\u001b[0;32m---> 94\u001b[0;31m         \u001b[0mself\u001b[0m\u001b[0;34m.\u001b[0m\u001b[0mcompiled_subprocess\u001b[0m \u001b[0;34m=\u001b[0m \u001b[0menvironment\u001b[0m\u001b[0;34m.\u001b[0m\u001b[0mget_evaluator_subprocess\u001b[0m\u001b[0;34m(\u001b[0m\u001b[0mself\u001b[0m\u001b[0;34m)\u001b[0m\u001b[0;34m\u001b[0m\u001b[0;34m\u001b[0m\u001b[0m\n\u001b[0m\u001b[1;32m     95\u001b[0m         \u001b[0mself\u001b[0m\u001b[0;34m.\u001b[0m\u001b[0mgrammar\u001b[0m \u001b[0;34m=\u001b[0m \u001b[0menvironment\u001b[0m\u001b[0;34m.\u001b[0m\u001b[0mget_grammar\u001b[0m\u001b[0;34m(\u001b[0m\u001b[0;34m)\u001b[0m\u001b[0;34m\u001b[0m\u001b[0;34m\u001b[0m\u001b[0m\n\u001b[1;32m     96\u001b[0m \u001b[0;34m\u001b[0m\u001b[0m\n",
            "\u001b[0;32m/usr/local/lib/python3.7/site-packages/jedi/api/environment.py\u001b[0m in \u001b[0;36mget_evaluator_subprocess\u001b[0;34m(self, evaluator)\u001b[0m\n\u001b[1;32m    111\u001b[0m \u001b[0;34m\u001b[0m\u001b[0m\n\u001b[1;32m    112\u001b[0m     \u001b[0;32mdef\u001b[0m \u001b[0mget_evaluator_subprocess\u001b[0m\u001b[0;34m(\u001b[0m\u001b[0mself\u001b[0m\u001b[0;34m,\u001b[0m \u001b[0mevaluator\u001b[0m\u001b[0;34m)\u001b[0m\u001b[0;34m:\u001b[0m\u001b[0;34m\u001b[0m\u001b[0;34m\u001b[0m\u001b[0m\n\u001b[0;32m--> 113\u001b[0;31m         \u001b[0;32mreturn\u001b[0m \u001b[0mEvaluatorSubprocess\u001b[0m\u001b[0;34m(\u001b[0m\u001b[0mevaluator\u001b[0m\u001b[0;34m,\u001b[0m \u001b[0mself\u001b[0m\u001b[0;34m.\u001b[0m\u001b[0m_get_subprocess\u001b[0m\u001b[0;34m(\u001b[0m\u001b[0;34m)\u001b[0m\u001b[0;34m)\u001b[0m\u001b[0;34m\u001b[0m\u001b[0;34m\u001b[0m\u001b[0m\n\u001b[0m\u001b[1;32m    114\u001b[0m \u001b[0;34m\u001b[0m\u001b[0m\n\u001b[1;32m    115\u001b[0m     \u001b[0;34m@\u001b[0m\u001b[0mmemoize_method\u001b[0m\u001b[0;34m\u001b[0m\u001b[0;34m\u001b[0m\u001b[0m\n",
            "\u001b[0;32m/usr/local/lib/python3.7/site-packages/jedi/api/environment.py\u001b[0m in \u001b[0;36m_get_subprocess\u001b[0;34m(self)\u001b[0m\n\u001b[1;32m     77\u001b[0m                 \"Could not get version information for %r: %r\" % (\n\u001b[1;32m     78\u001b[0m                     \u001b[0mself\u001b[0m\u001b[0;34m.\u001b[0m\u001b[0m_start_executable\u001b[0m\u001b[0;34m,\u001b[0m\u001b[0;34m\u001b[0m\u001b[0;34m\u001b[0m\u001b[0m\n\u001b[0;32m---> 79\u001b[0;31m                     exc))\n\u001b[0m\u001b[1;32m     80\u001b[0m \u001b[0;34m\u001b[0m\u001b[0m\n\u001b[1;32m     81\u001b[0m         \u001b[0;31m# Since it could change and might not be the same(?) as the one given,\u001b[0m\u001b[0;34m\u001b[0m\u001b[0;34m\u001b[0m\u001b[0;34m\u001b[0m\u001b[0m\n",
            "\u001b[0;31mInvalidPythonEnvironment\u001b[0m: Could not get version information for '/usr/local/opt/python/bin/python3.7': BlockingIOError(35, 'Resource temporarily unavailable')"
          ]
        }
      ]
    },
    {
      "cell_type": "code",
      "metadata": {
        "id": "uBQCFiK8O0Jv",
        "colab_type": "code",
        "colab": {}
      },
      "source": [
        "def load_preprocessed(path):\n",
        "    try:\n",
        "        with open(path, 'rb') as f:\n",
        "            samples = pickle.load(f)\n",
        "    except FileNotFoundError:\n",
        "        samples = {}\n",
        "    return samples\n",
        "\n",
        "test_samples = load_preprocessed(base_path + '/ranking_samples_tes')"
      ],
      "execution_count": 0,
      "outputs": []
    },
    {
      "cell_type": "code",
      "metadata": {
        "scrolled": true,
        "id": "M21D4oh0O0Jy",
        "colab_type": "code",
        "colab": {
          "base_uri": "https://localhost:8080/",
          "height": 51
        },
        "outputId": "a2c6d914-c9b0-41c5-9604-2cbdb86acbc5"
      },
      "source": [
        "count = 0\n",
        "\n",
        "for v in test_samples.values():\n",
        "    count += len(v)\n",
        "print(count)\n",
        "print(len(test_samples.values()))"
      ],
      "execution_count": 9,
      "outputs": [
        {
          "output_type": "stream",
          "text": [
            "14606\n",
            "79\n"
          ],
          "name": "stdout"
        }
      ]
    },
    {
      "cell_type": "markdown",
      "metadata": {
        "id": "809rWDozO0J2",
        "colab_type": "text"
      },
      "source": [
        "# Model\n",
        "\n",
        "\n",
        "* модель — Dense layer\n",
        "* как обучаем: обрабатываем сохраненные в ranking_samples_tra данные, предлагаем слою по фичам (конкатенация текущего токена и сумма предыдущих + является ли текущий токен identfier) предсказать вероятность того, что это правильный токен\n",
        "* как тестируем: делаем также, как и создавали обучающую выборку:  обновляем accuracy с каждым шагом (+ график accuracy)\n",
        "* эмбеддинги слов, подаем конкатенацию суммы эмбеддингов и эмбеддинга текущего токена, предсказанного jedi; среди многих выбираем тот, в котором модель наиболее уверена"
      ]
    },
    {
      "cell_type": "markdown",
      "metadata": {
        "id": "elFmh-riO0J3",
        "colab_type": "text"
      },
      "source": [
        "## training"
      ]
    },
    {
      "cell_type": "code",
      "metadata": {
        "id": "uErs-C1CO0J4",
        "colab_type": "code",
        "colab": {}
      },
      "source": [
        "def build_vocab():\n",
        "    # load pre-computed vocab\n",
        "    with open(base_path + '/mapping.map', 'rb') as f:\n",
        "#         print(base_path + '/mapping.map')\n",
        "        word_to_id = pickle.load(f)\n",
        "    id_to_word = dict([(v, k) for (k, v) in word_to_id.items()])\n",
        "    return word_to_id, id_to_word\n",
        "\n",
        "word_to_id, id_to_word = build_vocab()\n"
      ],
      "execution_count": 0,
      "outputs": []
    },
    {
      "cell_type": "code",
      "metadata": {
        "id": "l5SpgV0CO0KD",
        "colab_type": "code",
        "colab": {}
      },
      "source": [
        "params = {\n",
        "    'vocab_size': len(id_to_word),\n",
        "    'emb_size': 100,\n",
        "    'batch_size': 64\n",
        "}"
      ],
      "execution_count": 0,
      "outputs": []
    },
    {
      "cell_type": "code",
      "metadata": {
        "id": "0PfUZAOeO0KF",
        "colab_type": "code",
        "colab": {}
      },
      "source": [
        "class DenseModel(nn.Module):\n",
        "    def __init__(self, params):\n",
        "        super().__init__()\n",
        "        self.params = params\n",
        "        self.embedding = nn.Embedding(\n",
        "            self.params['vocab_size'] + 1,\n",
        "            self.params['emb_size']\n",
        "        )\n",
        "        self.linear = nn.Linear(\n",
        "            self.params['emb_size'] * 2,\n",
        "            1\n",
        "        )\n",
        "        self.activation = nn.Sigmoid()\n",
        "\n",
        "    def forward(self, prev_tokens, pred_token):\n",
        "        if prev_tokens.shape[0] == 0:\n",
        "            prev_tokens = torch.LongTensor([self.params['vocab_size']]).to(device)\n",
        "#         print(prev_tokens)\n",
        "        prev_embs = self.embedding(prev_tokens)\n",
        "#         print(prev_embs)\n",
        "#         print(prev_embs.shape)\n",
        "        prev_embs_mean = torch.mean(prev_embs, dim=0)\n",
        "        pred_emb = self.embedding(pred_token)\n",
        "        pred_emb = torch.squeeze(pred_emb)\n",
        "#         print(prev_embs_mean.shape)\n",
        "#         print(pred_emb.shape)\n",
        "        inputs = torch.cat((prev_embs_mean, pred_emb))\n",
        "#         print(inputs.shape)\n",
        "        output = self.linear(inputs)\n",
        "#         print(output.shape)\n",
        "        output = self.activation(output)\n",
        "#         print(output.shape)\n",
        "        return output\n",
        "\n"
      ],
      "execution_count": 0,
      "outputs": []
    },
    {
      "cell_type": "code",
      "metadata": {
        "id": "xZanB86xO0KJ",
        "colab_type": "code",
        "colab": {}
      },
      "source": [
        "model = DenseModel(params).to(device)"
      ],
      "execution_count": 0,
      "outputs": []
    },
    {
      "cell_type": "code",
      "metadata": {
        "id": "tb-9i4G6O0KM",
        "colab_type": "code",
        "colab": {}
      },
      "source": [
        ""
      ],
      "execution_count": 0,
      "outputs": []
    },
    {
      "cell_type": "code",
      "metadata": {
        "id": "qN5mRdfGO0KP",
        "colab_type": "code",
        "colab": {}
      },
      "source": [
        "class JediPredsDataset():\n",
        "    def preprocess_data(self, filenames_to_data_dict):\n",
        "        for data in filenames_to_data_dict.values():\n",
        "            for prev_tokens, pred_token, real_token in data:\n",
        "                self.prev_tokens_arr.append(np.array(prev_tokens))\n",
        "                self.pred_token_arr.append(pred_token)\n",
        "                self.real_token_arr.append(real_token)\n",
        "\n",
        "    def __init__(self, path, params):\n",
        "        self.index = 0\n",
        "        self.prev_tokens_arr = []\n",
        "        self.pred_token_arr = []\n",
        "        self.real_token_arr = []\n",
        "\n",
        "        with open(path, 'rb') as f:\n",
        "            filenames_to_data_dict = pickle.load(f)\n",
        "        self.preprocess_data(filenames_to_data_dict)\n",
        "        self.prev_tokens_arr = np.array(self.prev_tokens_arr)\n",
        "        self.pred_token_arr = np.array(self.pred_token_arr)\n",
        "        self.real_token_arr = np.array(self.real_token_arr)\n",
        "        # todo shuffle\n",
        "\n",
        "    def __len__(self):\n",
        "        return self.real_token_arr.shape[0]\n",
        "\n",
        "    def generator(self):\n",
        "        while self.index < self.__len__():\n",
        "            yield \\\n",
        "                self.prev_tokens_arr[self.index], \\\n",
        "                self.pred_token_arr[self.index], \\\n",
        "                self.real_token_arr[self.index]\n",
        "            self.index += 1"
      ],
      "execution_count": 0,
      "outputs": []
    },
    {
      "cell_type": "code",
      "metadata": {
        "id": "jUPbe2ZsO0KT",
        "colab_type": "code",
        "colab": {}
      },
      "source": [
        "\n",
        "\n",
        "# train_loader = DataLoader(\n",
        "#     JediPredsDataset('./ranking_samples_tra', params),\n",
        "#     batch_size=params['batch_size'],\n",
        "#     shuffle=True,\n",
        "#     num_workers=10\n",
        "# )\n",
        "\n",
        "# train_data = JediPredsDataset(base_path + '/ranking_samples_tra', params)"
      ],
      "execution_count": 0,
      "outputs": []
    },
    {
      "cell_type": "code",
      "metadata": {
        "id": "PezYlV-MQviO",
        "colab_type": "code",
        "colab": {
          "base_uri": "https://localhost:8080/",
          "height": 34
        },
        "outputId": "93ff01e8-ff27-4acf-d927-7c2724b04dda"
      },
      "source": [
        "# eq = 0\n",
        "# neq = 0\n",
        "# for prev_tokens, pred_token, real_token in train_data.generator():\n",
        "#     if pred_token == real_token:\n",
        "#         eq += 1\n",
        "#     else:\n",
        "#         neq += 1\n",
        "# print(eq, neq, eq+neq)"
      ],
      "execution_count": 21,
      "outputs": [
        {
          "output_type": "stream",
          "text": [
            "7874 82143 90017\n"
          ],
          "name": "stdout"
        }
      ]
    },
    {
      "cell_type": "code",
      "metadata": {
        "id": "4PAYDuDQO0Ka",
        "colab_type": "code",
        "colab": {}
      },
      "source": [
        "# next(train_data.generator())"
      ],
      "execution_count": 0,
      "outputs": []
    },
    {
      "cell_type": "code",
      "metadata": {
        "id": "JP4HHMuZO0Ke",
        "colab_type": "code",
        "colab": {}
      },
      "source": [
        "# for i, (prev_tokens, pred_token, real_token) in zip(trange(len(train_data)), train_data.generator()):\n",
        "#     print(1)\n",
        "#     print(prev_tokens, pred_token, real_token)\n",
        "#     print(2)\n",
        "#     break"
      ],
      "execution_count": 0,
      "outputs": []
    },
    {
      "cell_type": "code",
      "metadata": {
        "id": "XXd91ZZcO0Kk",
        "colab_type": "code",
        "colab": {}
      },
      "source": [
        "def train_epoch(model, optimizer, lr, train_data):\n",
        "    loss_log = []\n",
        "    model.train()\n",
        "    total = 0\n",
        "    correct = 0\n",
        "    \n",
        "    for i, (prev_tokens, pred_token, real_token) in zip(trange(len(train_data)), train_data.generator()):\n",
        "        optimizer.zero_grad()\n",
        "        prev_tokens = torch.LongTensor(prev_tokens).to(device)\n",
        "        pred_token = torch.LongTensor([pred_token]).to(device)\n",
        "        real_token = torch.FloatTensor([real_token]).to(device)\n",
        "        loss_value = 0.\n",
        "        loss = nn.BCELoss()\n",
        "        output = model.forward(prev_tokens, pred_token)\n",
        "        \n",
        "#         print(real_token)\n",
        "#         print(pred_token.float())\n",
        "#         print(real_token == pred_token.float())\n",
        "        loss_value = loss(output, (real_token == pred_token.float()).float())\n",
        "        loss_value.backward()\n",
        "\n",
        "#         torch.nn.utils.clip_grad_norm(model.parameters(), 0.5)\n",
        "#         for p in model.parameters():\n",
        "#             p.data.add_(-lr, p.grad.data)\n",
        "        optimizer.step()\n",
        "        loss_value = loss_value.item()\n",
        "        loss_log.append(loss_value)# / x.shape[1])\n",
        "#         break\n",
        "\n",
        "#     accuracy = correct / total\n",
        "#     return accuracy, loss_log\n",
        "    return loss_log\n",
        "    \n",
        "def train(model, opt, n_epochs):\n",
        "    train_log = []\n",
        "    acc_log = []\n",
        "    lr = 0.05\n",
        "    lr_decay_base = 1 / 1.15\n",
        "    m_flat_lr = 20.0\n",
        "    for epoch in range(n_epochs):\n",
        "        lr_decay = lr_decay_base ** max(epoch - m_flat_lr, 0)\n",
        "        lr = lr * lr_decay\n",
        "#         accuracy, train_loss = train_epoch(model, opt, lr)\n",
        "        train_data = JediPredsDataset(base_path + '/ranking_samples_tra', params)\n",
        "        train_loss = train_epoch(model, opt, lr, train_data)\n",
        "        train_log.extend(train_loss)\n",
        "#         acc_log.append(accuracy)\n",
        "        clear_output()\n",
        "        print(\"Epoch:{}\".format(epoch))\n",
        "#         print(\"Accuracy:\", accuracy)\n",
        "#         tp.send_text('Epoch {}, LSTM baseline accuracy: {}'.format(epoch, accuracy))\n",
        "        plot_history(train_log)\n",
        "\n",
        "def plot_history(train_history, title='loss'):\n",
        "    plt.figure()\n",
        "    plt.title('{}'.format(title))\n",
        "    plt.plot(train_history, label='train', zorder=1)\n",
        "    plt.xlabel('train steps')\n",
        "    plt.legend(loc='best')\n",
        "    plt.grid()\n",
        "    plt.show()"
      ],
      "execution_count": 0,
      "outputs": []
    },
    {
      "cell_type": "code",
      "metadata": {
        "id": "8RCwWqHxO0Kp",
        "colab_type": "code",
        "colab": {
          "base_uri": "https://localhost:8080/",
          "height": 312
        },
        "outputId": "99b1b975-be29-40e7-ac25-61162903a7bd"
      },
      "source": [
        "# %%time\n",
        "\n",
        "optimizer = torch.optim.Adam(model.parameters(), lr=0.01)\n",
        "train(model, optimizer, 5)"
      ],
      "execution_count": 22,
      "outputs": [
        {
          "output_type": "stream",
          "text": [
            "Epoch:4\n"
          ],
          "name": "stdout"
        },
        {
          "output_type": "display_data",
          "data": {
            "image/png": "[encoded data removed]",
            "text/plain": [
              "<Figure size 432x288 with 1 Axes>"
            ]
          },
          "metadata": {
            "tags": []
          }
        }
      ]
    },
    {
      "cell_type": "code",
      "metadata": {
        "scrolled": true,
        "id": "HlsLpyPhO0Kw",
        "colab_type": "code",
        "colab": {},
        "outputId": "d0ea4480-b5b8-4d29-becf-2019c1252c19"
      },
      "source": [
        "# prev_tokens, pred_token, _ = samples[0][0]\n",
        "# model.eval()\n",
        "# model.forward(torch.LongTensor(prev_tokens), torch.LongTensor([pred_token]))"
      ],
      "execution_count": 0,
      "outputs": [
        {
          "output_type": "execute_result",
          "data": {
            "text/plain": [
              "tensor([8.0516e-07], grad_fn=<SigmoidBackward>)"
            ]
          },
          "metadata": {
            "tags": []
          },
          "execution_count": 287
        }
      ]
    },
    {
      "cell_type": "markdown",
      "metadata": {
        "id": "sztgAaPVO0Ky",
        "colab_type": "text"
      },
      "source": [
        "### тестируем пошагово"
      ]
    },
    {
      "cell_type": "code",
      "metadata": {
        "id": "aJVbCd_mO0Kz",
        "colab_type": "code",
        "colab": {}
      },
      "source": [
        ""
      ],
      "execution_count": 0,
      "outputs": []
    },
    {
      "cell_type": "markdown",
      "metadata": {
        "id": "QIg8KkTAO0K1",
        "colab_type": "text"
      },
      "source": [
        "# Test"
      ]
    },
    {
      "cell_type": "code",
      "metadata": {
        "id": "rhuYnxrnO0K1",
        "colab_type": "code",
        "colab": {}
      },
      "source": [
        "test_data = JediPredsDataset(base_path + '/ranking_samples_tes', params)"
      ],
      "execution_count": 0,
      "outputs": []
    },
    {
      "cell_type": "code",
      "metadata": {
        "id": "Ou8qrkRoO0K3",
        "colab_type": "code",
        "colab": {}
      },
      "source": [
        "\n",
        "def test(model):\n",
        "    loss_log = []\n",
        "    model.eval()\n",
        "    total = 0\n",
        "    correct = 0\n",
        "    prev_prevtokens, prev_realtoken = None, None\n",
        "    outputs = []\n",
        "    for i, (prev_tokens, pred_token, real_token) in zip(trange(len(test_data)), test_data.generator()):\n",
        "        prev_tokens_t = torch.LongTensor(prev_tokens).to(device)\n",
        "        pred_token_t = torch.LongTensor([pred_token]).to(device)\n",
        "#         real_token_t = torch.FloatTensor([real_token]).to(device)\n",
        "        output = model.forward(prev_tokens_t, pred_token_t)\n",
        "\n",
        "        if np.all(prev_tokens == prev_prevtokens) and \\\n",
        "                prev_realtoken == real_token:\n",
        "            outputs.append([pred_token, output])\n",
        "        else:\n",
        "            if prev_realtoken is not None:\n",
        "                max_prob = 0.\n",
        "                pred = None\n",
        "                for o in outputs:\n",
        "                    if o[1] > max_prob:\n",
        "                        max_prob = o[1]\n",
        "                        pred = o[0]\n",
        "                if pred == real_token:\n",
        "                    correct += 1\n",
        "                total += 1\n",
        "            \n",
        "            outputs = [[pred_token, output]]\n",
        "            \n",
        "            prev_prevtokens = prev_tokens\n",
        "            prev_realtoken = real_token\n",
        "                \n",
        "#     accuracy = correct / total\n",
        "    return correct, total"
      ],
      "execution_count": 0,
      "outputs": []
    },
    {
      "cell_type": "code",
      "metadata": {
        "id": "Jlfc3dLfO0K4",
        "colab_type": "code",
        "colab": {
          "base_uri": "https://localhost:8080/",
          "height": 105
        },
        "outputId": "e9cd0f00-d917-498c-fbb8-aa7ffe289c67"
      },
      "source": [
        "correct, total = test(model)\n",
        "correct, total"
      ],
      "execution_count": 25,
      "outputs": [
        {
          "output_type": "stream",
          "text": [
            "  0%|          | 0/14606 [00:00<?, ?it/s]/usr/local/lib/python3.6/dist-packages/ipykernel_launcher.py:15: DeprecationWarning: elementwise comparison failed; this will raise an error in the future.\n",
            "  from ipykernel import kernelapp as app\n",
            "100%|██████████| 14606/14606 [00:05<00:00, 2825.81it/s]\n"
          ],
          "name": "stderr"
        },
        {
          "output_type": "execute_result",
          "data": {
            "text/plain": [
              "(26, 4068)"
            ]
          },
          "metadata": {
            "tags": []
          },
          "execution_count": 25
        }
      ]
    },
    {
      "cell_type": "code",
      "metadata": {
        "id": "YQNBLWrTO0K6",
        "colab_type": "code",
        "colab": {
          "base_uri": "https://localhost:8080/",
          "height": 34
        },
        "outputId": "6bef0c75-7bd4-4163-b724-0e0ad8c04075"
      },
      "source": [
        "correct / total"
      ],
      "execution_count": 26,
      "outputs": [
        {
          "output_type": "execute_result",
          "data": {
            "text/plain": [
              "0.006391347099311701"
            ]
          },
          "metadata": {
            "tags": []
          },
          "execution_count": 26
        }
      ]
    },
    {
      "cell_type": "markdown",
      "metadata": {
        "id": "3jZD7I9iSkVs",
        "colab_type": "text"
      },
      "source": [
        "# Let's test test\n",
        "Because ranking is quite bad (0.006 acc) while jedi is good (0.15 acc)"
      ]
    },
    {
      "cell_type": "code",
      "metadata": {
        "id": "IMOuMhdeSkya",
        "colab_type": "code",
        "colab": {}
      },
      "source": [
        "\n",
        "def test(model):\n",
        "    loss_log = []\n",
        "    model.eval()\n",
        "    total = 0\n",
        "    correct = 0\n",
        "    prev_prevtokens, prev_realtoken = None, None\n",
        "    test_data = JediPredsDataset(base_path + '/ranking_samples_tes', params)\n",
        "    for i, (prev_tokens, pred_token, real_token) in zip(trange(len(test_data)), test_data.generator()):\n",
        "        prev_tokens_t = torch.LongTensor(prev_tokens).to(device)\n",
        "        pred_token_t = torch.LongTensor([pred_token]).to(device)\n",
        "#         real_token_t = torch.FloatTensor([real_token]).to(device)\n",
        "#         output = model.forward(prev_tokens_t, pred_token_t)\n",
        "\n",
        "        if np.all(prev_tokens == prev_prevtokens) and \\\n",
        "                prev_realtoken == real_token:\n",
        "            pass\n",
        "        else:\n",
        "            if prev_realtoken is not None:\n",
        "                if pred_token == real_token:\n",
        "                    correct += 1\n",
        "                total += 1\n",
        "            \n",
        "            prev_prevtokens = prev_tokens\n",
        "            prev_realtoken = real_token\n",
        "                \n",
        "#     accuracy = correct / total\n",
        "    return correct, total"
      ],
      "execution_count": 0,
      "outputs": []
    },
    {
      "cell_type": "code",
      "metadata": {
        "id": "j5x_DbpDS8XM",
        "colab_type": "code",
        "colab": {
          "base_uri": "https://localhost:8080/",
          "height": 105
        },
        "outputId": "debe9ee1-5ca7-43ed-f105-c5eaee9ebc12"
      },
      "source": [
        "correct, total = test(model)\n",
        "correct, total"
      ],
      "execution_count": 38,
      "outputs": [
        {
          "output_type": "stream",
          "text": [
            "  0%|          | 0/14606 [00:00<?, ?it/s]/usr/local/lib/python3.6/dist-packages/ipykernel_launcher.py:15: DeprecationWarning: elementwise comparison failed; this will raise an error in the future.\n",
            "  from ipykernel import kernelapp as app\n",
            "100%|██████████| 14606/14606 [00:00<00:00, 17360.45it/s]\n"
          ],
          "name": "stderr"
        },
        {
          "output_type": "execute_result",
          "data": {
            "text/plain": [
              "(601, 4068)"
            ]
          },
          "metadata": {
            "tags": []
          },
          "execution_count": 38
        }
      ]
    },
    {
      "cell_type": "code",
      "metadata": {
        "id": "0YwUZTnFTScm",
        "colab_type": "code",
        "colab": {
          "base_uri": "https://localhost:8080/",
          "height": 34
        },
        "outputId": "f5f9be67-8cb6-4c60-a5f5-ae4902deec13"
      },
      "source": [
        "correct / total"
      ],
      "execution_count": 39,
      "outputs": [
        {
          "output_type": "execute_result",
          "data": {
            "text/plain": [
              "0.14773844641101277"
            ]
          },
          "metadata": {
            "tags": []
          },
          "execution_count": 39
        }
      ]
    },
    {
      "cell_type": "markdown",
      "metadata": {
        "id": "wzAKhFDkO0K8",
        "colab_type": "text"
      },
      "source": [
        "# Del"
      ]
    },
    {
      "cell_type": "markdown",
      "metadata": {
        "id": "DqMKLKvkO0K9",
        "colab_type": "text"
      },
      "source": [
        "# Playing with jedi module"
      ]
    },
    {
      "cell_type": "code",
      "metadata": {
        "id": "qLwj5UFMO0LA",
        "colab_type": "code",
        "colab": {},
        "outputId": "af25017a-3d74-455c-e920-ef5f3adb181f"
      },
      "source": [
        "code = '''from __future__ import print_function\n",
        "from socket import timeout\n",
        "import os\n",
        "import sys\n",
        "import codecs\n",
        "import re\n",
        "import markdown\n",
        "try:\n",
        "    from urllib2 import urlopen\n",
        "    from urllib2 import HTTPError\n",
        "    from urllib2 import URLError\n",
        "except ImportError:\n",
        "    from urllib.request import urlopen\n",
        "    from urllib.error import HTTPError\n",
        "    from urllib.error import URLError\n",
        "\n",
        "\n",
        "def function874(arg89):\n",
        "    var4252 = False\n",
        "    try:\n",
        "        var4262 = urlopen(arg89, timeout=2)\n",
        "        var4252 = var4262.code == 200\n",
        "    except HTTPError as var3998:\n",
        "        print(var3998, file=sys.stderr)\n",
        "    except URLError as var3998:\n",
        "        print(var3998, file=sys.stderr)\n",
        "    except timeout as var3998:\n",
        "        print(var3998, file=sys.stderr)\n",
        "    except Exception as var3998:\n",
        "        print(var3998, file=sys.stderr)\n",
        "    return v'''\n",
        "\n",
        "iter_num = 10\n",
        "for i in range(iter_num):\n",
        "    start_time = timeit.default_timer()\n",
        "    script = jedi.Script(code)#source, 3, len('datetime.da'), 'example.py')\n",
        "    elapsed_time = timeit.default_timer() - start_time\n",
        "print(elapsed_time / iter_num)\n",
        "script.completions()\n"
      ],
      "execution_count": 0,
      "outputs": [
        {
          "output_type": "stream",
          "text": [
            "0.013895298199986427\n"
          ],
          "name": "stdout"
        },
        {
          "output_type": "execute_result",
          "data": {
            "text/plain": [
              "[<Completion: var3998>,\n",
              " <Completion: var4252>,\n",
              " <Completion: var4262>,\n",
              " <Completion: vars>]"
            ]
          },
          "metadata": {
            "tags": []
          },
          "execution_count": 9
        }
      ]
    },
    {
      "cell_type": "code",
      "metadata": {
        "id": "ke0j7G6eO0LE",
        "colab_type": "code",
        "colab": {},
        "outputId": "6a494682-4dcd-46bf-84ec-68b5dbdd2bee"
      },
      "source": [
        "code = '''\n",
        "def foo(i):\n",
        "'''\n",
        "\n",
        "script = jedi.Script(code)#source, 3, len('datetime.da'), 'example.py')\n",
        "script.completions()\n"
      ],
      "execution_count": 0,
      "outputs": [
        {
          "output_type": "execute_result",
          "data": {
            "text/plain": [
              "[<Completion: abs>,\n",
              " <Completion: all>,\n",
              " <Completion: any>,\n",
              " <Completion: ArithmeticError>,\n",
              " <Completion: ascii>,\n",
              " <Completion: assert>,\n",
              " <Completion: AssertionError>,\n",
              " <Completion: async>,\n",
              " <Completion: AttributeError>,\n",
              " <Completion: await>,\n",
              " <Completion: BaseException>,\n",
              " <Completion: bin>,\n",
              " <Completion: BlockingIOError>,\n",
              " <Completion: bool>,\n",
              " <Completion: break>,\n",
              " <Completion: breakpoint>,\n",
              " <Completion: BrokenPipeError>,\n",
              " <Completion: BufferError>,\n",
              " <Completion: bytearray>,\n",
              " <Completion: bytes>,\n",
              " <Completion: BytesWarning>,\n",
              " <Completion: callable>,\n",
              " <Completion: ChildProcessError>,\n",
              " <Completion: chr>,\n",
              " <Completion: class>,\n",
              " <Completion: classmethod>,\n",
              " <Completion: compile>,\n",
              " <Completion: complex>,\n",
              " <Completion: ConnectionAbortedError>,\n",
              " <Completion: ConnectionError>,\n",
              " <Completion: ConnectionRefusedError>,\n",
              " <Completion: ConnectionResetError>,\n",
              " <Completion: continue>,\n",
              " <Completion: copyright>,\n",
              " <Completion: credits>,\n",
              " <Completion: def>,\n",
              " <Completion: del>,\n",
              " <Completion: delattr>,\n",
              " <Completion: DeprecationWarning>,\n",
              " <Completion: dict>,\n",
              " <Completion: dir>,\n",
              " <Completion: divmod>,\n",
              " <Completion: Ellipsis>,\n",
              " <Completion: enumerate>,\n",
              " <Completion: EnvironmentError>,\n",
              " <Completion: EOFError>,\n",
              " <Completion: eval>,\n",
              " <Completion: Exception>,\n",
              " <Completion: exec>,\n",
              " <Completion: exit>,\n",
              " <Completion: False>,\n",
              " <Completion: FileExistsError>,\n",
              " <Completion: FileNotFoundError>,\n",
              " <Completion: filter>,\n",
              " <Completion: float>,\n",
              " <Completion: FloatingPointError>,\n",
              " <Completion: for>,\n",
              " <Completion: format>,\n",
              " <Completion: from>,\n",
              " <Completion: frozenset>,\n",
              " <Completion: FutureWarning>,\n",
              " <Completion: GeneratorExit>,\n",
              " <Completion: getattr>,\n",
              " <Completion: global>,\n",
              " <Completion: globals>,\n",
              " <Completion: hasattr>,\n",
              " <Completion: hash>,\n",
              " <Completion: help>,\n",
              " <Completion: hex>,\n",
              " <Completion: id>,\n",
              " <Completion: if>,\n",
              " <Completion: import>,\n",
              " <Completion: ImportError>,\n",
              " <Completion: ImportWarning>,\n",
              " <Completion: IndentationError>,\n",
              " <Completion: IndexError>,\n",
              " <Completion: input>,\n",
              " <Completion: int>,\n",
              " <Completion: InterruptedError>,\n",
              " <Completion: IOError>,\n",
              " <Completion: IsADirectoryError>,\n",
              " <Completion: isinstance>,\n",
              " <Completion: issubclass>,\n",
              " <Completion: iter>,\n",
              " <Completion: KeyboardInterrupt>,\n",
              " <Completion: KeyError>,\n",
              " <Completion: lambda>,\n",
              " <Completion: len>,\n",
              " <Completion: license>,\n",
              " <Completion: list>,\n",
              " <Completion: locals>,\n",
              " <Completion: LookupError>,\n",
              " <Completion: map>,\n",
              " <Completion: max>,\n",
              " <Completion: MemoryError>,\n",
              " <Completion: memoryview>,\n",
              " <Completion: min>,\n",
              " <Completion: ModuleNotFoundError>,\n",
              " <Completion: NameError>,\n",
              " <Completion: next>,\n",
              " <Completion: None>,\n",
              " <Completion: nonlocal>,\n",
              " <Completion: not>,\n",
              " <Completion: NotADirectoryError>,\n",
              " <Completion: NotImplemented>,\n",
              " <Completion: NotImplementedError>,\n",
              " <Completion: object>,\n",
              " <Completion: oct>,\n",
              " <Completion: open>,\n",
              " <Completion: ord>,\n",
              " <Completion: OSError>,\n",
              " <Completion: OverflowError>,\n",
              " <Completion: pass>,\n",
              " <Completion: PendingDeprecationWarning>,\n",
              " <Completion: PermissionError>,\n",
              " <Completion: pow>,\n",
              " <Completion: print>,\n",
              " <Completion: ProcessLookupError>,\n",
              " <Completion: property>,\n",
              " <Completion: quit>,\n",
              " <Completion: raise>,\n",
              " <Completion: range>,\n",
              " <Completion: RecursionError>,\n",
              " <Completion: ReferenceError>,\n",
              " <Completion: repr>,\n",
              " <Completion: ResourceWarning>,\n",
              " <Completion: return>,\n",
              " <Completion: reversed>,\n",
              " <Completion: round>,\n",
              " <Completion: RuntimeError>,\n",
              " <Completion: RuntimeWarning>,\n",
              " <Completion: set>,\n",
              " <Completion: setattr>,\n",
              " <Completion: slice>,\n",
              " <Completion: sorted>,\n",
              " <Completion: staticmethod>,\n",
              " <Completion: StopAsyncIteration>,\n",
              " <Completion: StopIteration>,\n",
              " <Completion: str>,\n",
              " <Completion: sum>,\n",
              " <Completion: super>,\n",
              " <Completion: SyntaxError>,\n",
              " <Completion: SyntaxWarning>,\n",
              " <Completion: SystemError>,\n",
              " <Completion: SystemExit>,\n",
              " <Completion: TabError>,\n",
              " <Completion: TimeoutError>,\n",
              " <Completion: True>,\n",
              " <Completion: try>,\n",
              " <Completion: tuple>,\n",
              " <Completion: type>,\n",
              " <Completion: TypeError>,\n",
              " <Completion: UnboundLocalError>,\n",
              " <Completion: UnicodeDecodeError>,\n",
              " <Completion: UnicodeEncodeError>,\n",
              " <Completion: UnicodeError>,\n",
              " <Completion: UnicodeTranslateError>,\n",
              " <Completion: UnicodeWarning>,\n",
              " <Completion: UserWarning>,\n",
              " <Completion: ValueError>,\n",
              " <Completion: vars>,\n",
              " <Completion: Warning>,\n",
              " <Completion: while>,\n",
              " <Completion: with>,\n",
              " <Completion: yield>,\n",
              " <Completion: ZeroDivisionError>,\n",
              " <Completion: zip>,\n",
              " <Completion: __build_class__>,\n",
              " <Completion: __debug__>,\n",
              " <Completion: __doc__>,\n",
              " <Completion: __file__>,\n",
              " <Completion: __import__>,\n",
              " <Completion: __loader__>,\n",
              " <Completion: __name__>,\n",
              " <Completion: __package__>,\n",
              " <Completion: __spec__>]"
            ]
          },
          "metadata": {
            "tags": []
          },
          "execution_count": 16
        }
      ]
    },
    {
      "cell_type": "code",
      "metadata": {
        "id": "G-Wna-WHO0LI",
        "colab_type": "code",
        "colab": {},
        "outputId": "a9cf09b0-5610-4f8b-e4f7-aef77cfd8f64"
      },
      "source": [
        "import tokenize\n",
        "from io import BytesIO\n",
        "from keyword import iskeyword\n",
        "\n",
        "def load_code(path):\n",
        "    pass\n",
        "\n",
        "def process_code(code):\n",
        "#     s = code #\n",
        "    s = \"def twoπ(a,b):\"\n",
        "    g = tokenize.tokenize(BytesIO(s.encode(\"utf-8\")).readline)\n",
        "    new_s = ''\n",
        "    for toktype, tokval, st, end, _ in g:\n",
        "        if toktype == tokenize.NAME:\n",
        "            if iskeyword(tokval):\n",
        "                print(\"KEYWORD\", tokval, tokval.isidentifier(), st)\n",
        "            else:\n",
        "                print('NAME', tokval, tokval.isidentifier(), st)\n",
        "        else:\n",
        "            print(toktype, tokval)\n",
        "        new_s += f'{tokval} '\n",
        "    print(new_s)\n",
        "\n",
        "process_code(None)"
      ],
      "execution_count": 0,
      "outputs": [
        {
          "output_type": "stream",
          "text": [
            "57 utf-8\n",
            "KEYWORD def True (1, 0)\n",
            "NAME twoπ True (1, 4)\n",
            "53 (\n",
            "NAME a True (1, 9)\n",
            "53 ,\n",
            "NAME b True (1, 11)\n",
            "53 )\n",
            "53 :\n",
            "4 \n",
            "0 \n",
            "utf-8 def twoπ ( a , b ) :   \n"
          ],
          "name": "stdout"
        }
      ]
    },
    {
      "cell_type": "code",
      "metadata": {
        "id": "7SG79dRtO0LM",
        "colab_type": "code",
        "colab": {},
        "outputId": "46d06361-8868-41d7-f78f-1231825f8521"
      },
      "source": [
        "print(new_s[8:].strip())"
      ],
      "execution_count": 0,
      "outputs": [
        {
          "output_type": "stream",
          "text": [
            "def foo ( i ) : \n",
            "      f\n"
          ],
          "name": "stdout"
        }
      ]
    },
    {
      "cell_type": "code",
      "metadata": {
        "id": "4Yus4ws1O0LQ",
        "colab_type": "code",
        "colab": {},
        "outputId": "6e58fccc-57a6-4b95-a744-9009518f17a6"
      },
      "source": [
        "script = jedi.Script(new_s[8:].strip())\n",
        "script.completions()"
      ],
      "execution_count": 0,
      "outputs": [
        {
          "output_type": "execute_result",
          "data": {
            "text/plain": [
              "[<Completion: filter>,\n",
              " <Completion: float>,\n",
              " <Completion: foo>,\n",
              " <Completion: for>,\n",
              " <Completion: format>,\n",
              " <Completion: from>,\n",
              " <Completion: frozenset>]"
            ]
          },
          "metadata": {
            "tags": []
          },
          "execution_count": 36
        }
      ]
    },
    {
      "cell_type": "markdown",
      "metadata": {
        "id": "_QdgmtxfO0LS",
        "colab_type": "text"
      },
      "source": [
        ""
      ]
    }
  ]
}