{
 "cells": [
  {
   "cell_type": "markdown",
   "metadata": {
    "colab_type": "text",
    "id": "t_bV546-3JVF"
   },
   "source": [
    "## Импорты"
   ]
  },
  {
   "cell_type": "code",
   "execution_count": 4,
   "metadata": {},
   "outputs": [],
   "source": [
    "# !pip3 install matplotlib tqdm numpy torch"
   ]
  },
  {
   "cell_type": "code",
   "execution_count": 5,
   "metadata": {
    "colab": {},
    "colab_type": "code",
    "id": "SGIPKkSG3JVG"
   },
   "outputs": [],
   "source": [
    "# %matplotlib inline\n",
    "# import matplotlib.pyplot as plt\n",
    "\n",
    "# import torch\n",
    "# import torch.nn as nn\n",
    "# import torch.nn.functional as F\n",
    "# import torch.optim as optim\n",
    "# from torch.utils.data import Dataset, DataLoader\n",
    "\n",
    "import os\n",
    "from tqdm import tqdm_notebook, trange, tqdm\n",
    "import pickle\n",
    "import numpy as np\n",
    "from IPython.display import clear_output\n",
    "import jedi\n",
    "import tokenize\n",
    "from io import BytesIO\n",
    "import timeit"
   ]
  },
  {
   "cell_type": "code",
   "execution_count": 2,
   "metadata": {
    "colab": {},
    "colab_type": "code",
    "id": "oa2jzP-N3JVI"
   },
   "outputs": [],
   "source": [
    "# device = torch.device('cuda:0' if torch.cuda.is_available() else 'cpu')\n"
   ]
  },
  {
   "cell_type": "code",
   "execution_count": 3,
   "metadata": {
    "colab": {
     "base_uri": "https://localhost:8080/",
     "height": 34
    },
    "colab_type": "code",
    "id": "1WoL992vCADZ",
    "outputId": "89d26959-535a-4adb-d2f5-bfee1a1c38ea"
   },
   "outputs": [
    {
     "data": {
      "text/plain": [
       "device(type='cpu')"
      ]
     },
     "execution_count": 3,
     "metadata": {},
     "output_type": "execute_result"
    }
   ],
   "source": [
    "# device"
   ]
  },
  {
   "cell_type": "markdown",
   "metadata": {},
   "source": [
    "# Playing with jedi module"
   ]
  },
  {
   "cell_type": "code",
   "execution_count": 3,
   "metadata": {},
   "outputs": [
    {
     "data": {
      "text/plain": [
       "[<Completion: var3998>,\n",
       " <Completion: var4252>,\n",
       " <Completion: var4262>,\n",
       " <Completion: vars>]"
      ]
     },
     "execution_count": 3,
     "metadata": {},
     "output_type": "execute_result"
    }
   ],
   "source": [
    "code = '''from __future__ import print_function\n",
    "from socket import timeout\n",
    "import os\n",
    "import sys\n",
    "import codecs\n",
    "import re\n",
    "import markdown\n",
    "try:\n",
    "    from urllib2 import urlopen\n",
    "    from urllib2 import HTTPError\n",
    "    from urllib2 import URLError\n",
    "except ImportError:\n",
    "    from urllib.request import urlopen\n",
    "    from urllib.error import HTTPError\n",
    "    from urllib.error import URLError\n",
    "\n",
    "\n",
    "def function874(arg89):\n",
    "    var4252 = False\n",
    "    try:\n",
    "        var4262 = urlopen(arg89, timeout=2)\n",
    "        var4252 = var4262.code == 200\n",
    "    except HTTPError as var3998:\n",
    "        print(var3998, file=sys.stderr)\n",
    "    except URLError as var3998:\n",
    "        print(var3998, file=sys.stderr)\n",
    "    except timeout as var3998:\n",
    "        print(var3998, file=sys.stderr)\n",
    "    except Exception as var3998:\n",
    "        print(var3998, file=sys.stderr)\n",
    "    return v'''\n",
    "\n",
    "script = jedi.Script(code)#source, 3, len('datetime.da'), 'example.py')\n",
    "script.completions()\n"
   ]
  },
  {
   "cell_type": "code",
   "execution_count": 3,
   "metadata": {},
   "outputs": [
    {
     "data": {
      "text/plain": [
       "([<Completion: filter>,\n",
       "  <Completion: float>,\n",
       "  <Completion: foo>,\n",
       "  <Completion: for>,\n",
       "  <Completion: format>,\n",
       "  <Completion: from>,\n",
       "  <Completion: frozenset>],\n",
       " ['__class__',\n",
       "  '__delattr__',\n",
       "  '__dict__',\n",
       "  '__dir__',\n",
       "  '__doc__',\n",
       "  '__eq__',\n",
       "  '__format__',\n",
       "  '__ge__',\n",
       "  '__getattribute__',\n",
       "  '__gt__',\n",
       "  '__hash__',\n",
       "  '__init__',\n",
       "  '__init_subclass__',\n",
       "  '__le__',\n",
       "  '__lt__',\n",
       "  '__module__',\n",
       "  '__ne__',\n",
       "  '__new__',\n",
       "  '__reduce__',\n",
       "  '__reduce_ex__',\n",
       "  '__repr__',\n",
       "  '__setattr__',\n",
       "  '__sizeof__',\n",
       "  '__str__',\n",
       "  '__subclasshook__',\n",
       "  '__weakref__',\n",
       "  '_analysis',\n",
       "  '_code',\n",
       "  '_code_lines',\n",
       "  '_evaluator',\n",
       "  '_get_module',\n",
       "  '_grammar',\n",
       "  '_module_node',\n",
       "  '_orig_path',\n",
       "  '_path',\n",
       "  '_pos',\n",
       "  '_project',\n",
       "  'call_signatures',\n",
       "  'completions',\n",
       "  'goto_assignments',\n",
       "  'goto_definitions',\n",
       "  'path',\n",
       "  'usages'])"
      ]
     },
     "execution_count": 3,
     "metadata": {},
     "output_type": "execute_result"
    }
   ],
   "source": [
    "code = '''\n",
    "def foo(i):\n",
    "    f'''\n",
    "\n",
    "script = jedi.Script(code)#source, 3, len('datetime.da'), 'example.py')\n",
    "script.completions(), dir(script)\n"
   ]
  },
  {
   "cell_type": "markdown",
   "metadata": {},
   "source": [
    "\n",
    "* суммирую все эмбеддинги, которые встретил до текущего ключевого слова, конкатенирую к эмбеддингу текущего слова\n",
    "    - итерируюсь по файлам из train_files.txt\n",
    "    - иду с помощью tokenize + isidentifier(), выбираю из кода identifiers, которые есть в mapping.map\n",
    "        - может ли регулярка возвращать индекс начала распознанного слова?\n",
    "        - сохраняю в массив `[[identifier, index], [...], ...]`\n",
    "    - предсохраняю номера токенов, которые войдут в сумму\n",
    "    - подаю в jedi предыдущий код + первую букву identifier'а (индекс от регулярки + 1)\n",
    "    - итерируюсь по предсказаниям и добавляю объекты в train такого вида:\n",
    "    ```\n",
    "    [\n",
    "        arr_of_prev_tokens,\n",
    "        predicted_token (число из mapping.map),\n",
    "        real_token (число из mapping.map)\n",
    "    ]```\n",
    "    - дамплю в пикл `{file_name: train}`\n",
    "* подаю на вход полносвязному слою\n",
    "* беру сигмоиду\n",
    "* подаю в кросс-энтропию"
   ]
  },
  {
   "cell_type": "code",
   "execution_count": 13,
   "metadata": {},
   "outputs": [],
   "source": []
  },
  {
   "cell_type": "code",
   "execution_count": 2,
   "metadata": {
    "scrolled": true
   },
   "outputs": [
    {
     "name": "stdout",
     "output_type": "stream",
     "text": [
      "[0.0021002540000001346, 0.0040657039999985045, 0.004112184999996771, 0.0010922739999728037, 0.001201352999999017, 0.000864787999944383, 0.0006555749999961336, 0.0010110430000054293, 0.0011278509999783637, 0.08087101799992524, 0.0006236240001271653, 0.0018655849999049678, 0.013776576999816825, 0.00041471600002296327, 0.001098770999988119, 0.0014301409999006864, 0.0008996050000860123, 0.0014114690000042174, 0.0009126420000029611, 0.0009328109999842127, 0.0006261469998207758, 0.00133860599999025, 0.0008457900000848895, 0.0009099769999920682, 0.004566714000020511, 0.0012994339999750082, 0.00109186800000316, 0.0011106520000794262, 0.004105575000039607, 0.0004915319998417544, 0.0023259320000761363, 0.0037616270001308294, 0.0027956850001373823, 0.004676811000081216, 0.0008892020000530465]\n",
      "[9.641599999987704e-05, 0.0001996440000198163, 0.00013618899998846246, 0.00018906600001855622, 0.00011942399999043118, 6.030499997677907e-05, 9.052400002929062e-05, 0.00015657400001600763, 0.0007245489999831989, 0.00046540500011360564, 5.783500000688946e-05, 0.00015554099991277326, 9.47650000853173e-05, 5.126700011715002e-05, 6.221700004971353e-05, 0.00013152700012142304, 0.0001043370000388677, 0.00010015400016527565, 0.00010427100005472312, 8.984700002656609e-05, 6.908000000294123e-05, 0.0001474969999435416, 0.0003401339999982156, 8.428399996773805e-05, 0.00020239000014043995, 0.0001545229999919684, 8.677800019540882e-05, 7.902500010459335e-05, 9.976999990612967e-05, 5.7167000022673164e-05, 5.9593000059976475e-05, 6.173299993861292e-05, 8.299099999931059e-05, 9.73660000909149e-05, 0.001001621000114028]\n"
     ]
    },
    {
     "ename": "InvalidPythonEnvironment",
     "evalue": "Could not get version information for '/usr/local/opt/python/bin/python3.7': BlockingIOError(35, 'Resource temporarily unavailable')",
     "output_type": "error",
     "traceback": [
      "\u001b[0;31m---------------------------------------------------------------------------\u001b[0m",
      "\u001b[0;31mKeyError\u001b[0m                                  Traceback (most recent call last)",
      "\u001b[0;32m/usr/local/lib/python3.7/site-packages/jedi/cache.py\u001b[0m in \u001b[0;36mwrapper\u001b[0;34m(self, *args, **kwargs)\u001b[0m\n\u001b[1;32m    140\u001b[0m         \u001b[0;32mtry\u001b[0m\u001b[0;34m:\u001b[0m\u001b[0;34m\u001b[0m\u001b[0;34m\u001b[0m\u001b[0m\n\u001b[0;32m--> 141\u001b[0;31m             \u001b[0;32mreturn\u001b[0m \u001b[0mdct\u001b[0m\u001b[0;34m[\u001b[0m\u001b[0mkey\u001b[0m\u001b[0;34m]\u001b[0m\u001b[0;34m\u001b[0m\u001b[0;34m\u001b[0m\u001b[0m\n\u001b[0m\u001b[1;32m    142\u001b[0m         \u001b[0;32mexcept\u001b[0m \u001b[0mKeyError\u001b[0m\u001b[0;34m:\u001b[0m\u001b[0;34m\u001b[0m\u001b[0;34m\u001b[0m\u001b[0m\n",
      "\u001b[0;31mKeyError\u001b[0m: ((), frozenset())",
      "\nDuring handling of the above exception, another exception occurred:\n",
      "\u001b[0;31mBlockingIOError\u001b[0m                           Traceback (most recent call last)",
      "\u001b[0;32m/usr/local/lib/python3.7/site-packages/jedi/api/environment.py\u001b[0m in \u001b[0;36m_get_subprocess\u001b[0;34m(self)\u001b[0m\n\u001b[1;32m     73\u001b[0m             \u001b[0mself\u001b[0m\u001b[0;34m.\u001b[0m\u001b[0m_subprocess\u001b[0m \u001b[0;34m=\u001b[0m \u001b[0mCompiledSubprocess\u001b[0m\u001b[0;34m(\u001b[0m\u001b[0mself\u001b[0m\u001b[0;34m.\u001b[0m\u001b[0m_start_executable\u001b[0m\u001b[0;34m)\u001b[0m\u001b[0;34m\u001b[0m\u001b[0;34m\u001b[0m\u001b[0m\n\u001b[0;32m---> 74\u001b[0;31m             \u001b[0minfo\u001b[0m \u001b[0;34m=\u001b[0m \u001b[0mself\u001b[0m\u001b[0;34m.\u001b[0m\u001b[0m_subprocess\u001b[0m\u001b[0;34m.\u001b[0m\u001b[0m_send\u001b[0m\u001b[0;34m(\u001b[0m\u001b[0;32mNone\u001b[0m\u001b[0;34m,\u001b[0m \u001b[0m_get_info\u001b[0m\u001b[0;34m)\u001b[0m\u001b[0;34m\u001b[0m\u001b[0;34m\u001b[0m\u001b[0m\n\u001b[0m\u001b[1;32m     75\u001b[0m         \u001b[0;32mexcept\u001b[0m \u001b[0mException\u001b[0m \u001b[0;32mas\u001b[0m \u001b[0mexc\u001b[0m\u001b[0;34m:\u001b[0m\u001b[0;34m\u001b[0m\u001b[0;34m\u001b[0m\u001b[0m\n",
      "\u001b[0;32m/usr/local/lib/python3.7/site-packages/jedi/evaluate/compiled/subprocess/__init__.py\u001b[0m in \u001b[0;36m_send\u001b[0;34m(self, evaluator_id, function, args, kwargs)\u001b[0m\n\u001b[1;32m    228\u001b[0m         \u001b[0;32mtry\u001b[0m\u001b[0;34m:\u001b[0m\u001b[0;34m\u001b[0m\u001b[0;34m\u001b[0m\u001b[0m\n\u001b[0;32m--> 229\u001b[0;31m             \u001b[0mpickle_dump\u001b[0m\u001b[0;34m(\u001b[0m\u001b[0mdata\u001b[0m\u001b[0;34m,\u001b[0m \u001b[0mself\u001b[0m\u001b[0;34m.\u001b[0m\u001b[0m_process\u001b[0m\u001b[0;34m.\u001b[0m\u001b[0mstdin\u001b[0m\u001b[0;34m,\u001b[0m \u001b[0mself\u001b[0m\u001b[0;34m.\u001b[0m\u001b[0m_pickle_protocol\u001b[0m\u001b[0;34m)\u001b[0m\u001b[0;34m\u001b[0m\u001b[0;34m\u001b[0m\u001b[0m\n\u001b[0m\u001b[1;32m    230\u001b[0m         \u001b[0;32mexcept\u001b[0m \u001b[0;34m(\u001b[0m\u001b[0msocket\u001b[0m\u001b[0;34m.\u001b[0m\u001b[0merror\u001b[0m\u001b[0;34m,\u001b[0m \u001b[0mIOError\u001b[0m\u001b[0;34m)\u001b[0m \u001b[0;32mas\u001b[0m \u001b[0me\u001b[0m\u001b[0;34m:\u001b[0m\u001b[0;34m\u001b[0m\u001b[0;34m\u001b[0m\u001b[0m\n",
      "\u001b[0;32m/usr/local/lib/python3.7/site-packages/jedi/cache.py\u001b[0m in \u001b[0;36mwrapper\u001b[0;34m(self, *args, **kwargs)\u001b[0m\n\u001b[1;32m    142\u001b[0m         \u001b[0;32mexcept\u001b[0m \u001b[0mKeyError\u001b[0m\u001b[0;34m:\u001b[0m\u001b[0;34m\u001b[0m\u001b[0;34m\u001b[0m\u001b[0m\n\u001b[0;32m--> 143\u001b[0;31m             \u001b[0mresult\u001b[0m \u001b[0;34m=\u001b[0m \u001b[0mmethod\u001b[0m\u001b[0;34m(\u001b[0m\u001b[0mself\u001b[0m\u001b[0;34m,\u001b[0m \u001b[0;34m*\u001b[0m\u001b[0margs\u001b[0m\u001b[0;34m,\u001b[0m \u001b[0;34m**\u001b[0m\u001b[0mkwargs\u001b[0m\u001b[0;34m)\u001b[0m\u001b[0;34m\u001b[0m\u001b[0;34m\u001b[0m\u001b[0m\n\u001b[0m\u001b[1;32m    144\u001b[0m             \u001b[0mdct\u001b[0m\u001b[0;34m[\u001b[0m\u001b[0mkey\u001b[0m\u001b[0;34m]\u001b[0m \u001b[0;34m=\u001b[0m \u001b[0mresult\u001b[0m\u001b[0;34m\u001b[0m\u001b[0;34m\u001b[0m\u001b[0m\n",
      "\u001b[0;32m/usr/local/lib/python3.7/site-packages/jedi/evaluate/compiled/subprocess/__init__.py\u001b[0m in \u001b[0;36m_process\u001b[0;34m(self)\u001b[0m\n\u001b[1;32m    176\u001b[0m             \u001b[0;31m# (this is already the case on Python 3).\u001b[0m\u001b[0;34m\u001b[0m\u001b[0;34m\u001b[0m\u001b[0;34m\u001b[0m\u001b[0m\n\u001b[0;32m--> 177\u001b[0;31m             \u001b[0mbufsize\u001b[0m\u001b[0;34m=\u001b[0m\u001b[0;34m-\u001b[0m\u001b[0;36m1\u001b[0m\u001b[0;34m\u001b[0m\u001b[0;34m\u001b[0m\u001b[0m\n\u001b[0m\u001b[1;32m    178\u001b[0m         )\n",
      "\u001b[0;32m/usr/local/lib/python3.7/site-packages/jedi/_compatibility.py\u001b[0m in \u001b[0;36m__init__\u001b[0;34m(self, *args, **kwargs)\u001b[0m\n\u001b[1;32m    524\u001b[0m         \u001b[0mkwargs\u001b[0m\u001b[0;34m[\u001b[0m\u001b[0;34m'close_fds'\u001b[0m\u001b[0;34m]\u001b[0m \u001b[0;34m=\u001b[0m \u001b[0;34m'posix'\u001b[0m \u001b[0;32min\u001b[0m \u001b[0msys\u001b[0m\u001b[0;34m.\u001b[0m\u001b[0mbuiltin_module_names\u001b[0m\u001b[0;34m\u001b[0m\u001b[0;34m\u001b[0m\u001b[0m\n\u001b[0;32m--> 525\u001b[0;31m         \u001b[0msuper\u001b[0m\u001b[0;34m(\u001b[0m\u001b[0mGeneralizedPopen\u001b[0m\u001b[0;34m,\u001b[0m \u001b[0mself\u001b[0m\u001b[0;34m)\u001b[0m\u001b[0;34m.\u001b[0m\u001b[0m__init__\u001b[0m\u001b[0;34m(\u001b[0m\u001b[0;34m*\u001b[0m\u001b[0margs\u001b[0m\u001b[0;34m,\u001b[0m \u001b[0;34m**\u001b[0m\u001b[0mkwargs\u001b[0m\u001b[0;34m)\u001b[0m\u001b[0;34m\u001b[0m\u001b[0;34m\u001b[0m\u001b[0m\n\u001b[0m\u001b[1;32m    526\u001b[0m \u001b[0;34m\u001b[0m\u001b[0m\n",
      "\u001b[0;32m/usr/local/Cellar/python/3.7.3/Frameworks/Python.framework/Versions/3.7/lib/python3.7/subprocess.py\u001b[0m in \u001b[0;36m__init__\u001b[0;34m(self, args, bufsize, executable, stdin, stdout, stderr, preexec_fn, close_fds, shell, cwd, env, universal_newlines, startupinfo, creationflags, restore_signals, start_new_session, pass_fds, encoding, errors, text)\u001b[0m\n\u001b[1;32m    774\u001b[0m                                 \u001b[0merrread\u001b[0m\u001b[0;34m,\u001b[0m \u001b[0merrwrite\u001b[0m\u001b[0;34m,\u001b[0m\u001b[0;34m\u001b[0m\u001b[0;34m\u001b[0m\u001b[0m\n\u001b[0;32m--> 775\u001b[0;31m                                 restore_signals, start_new_session)\n\u001b[0m\u001b[1;32m    776\u001b[0m         \u001b[0;32mexcept\u001b[0m\u001b[0;34m:\u001b[0m\u001b[0;34m\u001b[0m\u001b[0;34m\u001b[0m\u001b[0m\n",
      "\u001b[0;32m/usr/local/Cellar/python/3.7.3/Frameworks/Python.framework/Versions/3.7/lib/python3.7/subprocess.py\u001b[0m in \u001b[0;36m_execute_child\u001b[0;34m(self, args, executable, preexec_fn, close_fds, pass_fds, cwd, env, startupinfo, creationflags, shell, p2cread, p2cwrite, c2pread, c2pwrite, errread, errwrite, restore_signals, start_new_session)\u001b[0m\n\u001b[1;32m   1452\u001b[0m                             \u001b[0merrpipe_read\u001b[0m\u001b[0;34m,\u001b[0m \u001b[0merrpipe_write\u001b[0m\u001b[0;34m,\u001b[0m\u001b[0;34m\u001b[0m\u001b[0;34m\u001b[0m\u001b[0m\n\u001b[0;32m-> 1453\u001b[0;31m                             restore_signals, start_new_session, preexec_fn)\n\u001b[0m\u001b[1;32m   1454\u001b[0m                     \u001b[0mself\u001b[0m\u001b[0;34m.\u001b[0m\u001b[0m_child_created\u001b[0m \u001b[0;34m=\u001b[0m \u001b[0;32mTrue\u001b[0m\u001b[0;34m\u001b[0m\u001b[0;34m\u001b[0m\u001b[0m\n",
      "\u001b[0;31mBlockingIOError\u001b[0m: [Errno 35] Resource temporarily unavailable",
      "\nDuring handling of the above exception, another exception occurred:\n",
      "\u001b[0;31mInvalidPythonEnvironment\u001b[0m                  Traceback (most recent call last)",
      "\u001b[0;32m<ipython-input-2-feafca95bc00>\u001b[0m in \u001b[0;36m<module>\u001b[0;34m\u001b[0m\n\u001b[1;32m    119\u001b[0m \u001b[0mpath\u001b[0m \u001b[0;34m=\u001b[0m \u001b[0;34m'./pycodesuggest_py_repos_normalised/'\u001b[0m\u001b[0;34m\u001b[0m\u001b[0;34m\u001b[0m\u001b[0m\n\u001b[1;32m    120\u001b[0m \u001b[0msamples_path\u001b[0m \u001b[0;34m=\u001b[0m \u001b[0;34m'train_files.txt'\u001b[0m\u001b[0;34m\u001b[0m\u001b[0;34m\u001b[0m\u001b[0m\n\u001b[0;32m--> 121\u001b[0;31m \u001b[0msamples\u001b[0m \u001b[0;34m=\u001b[0m \u001b[0mprepare_samples\u001b[0m\u001b[0;34m(\u001b[0m\u001b[0mpath\u001b[0m\u001b[0;34m,\u001b[0m \u001b[0msamples_path\u001b[0m\u001b[0;34m)\u001b[0m\u001b[0;34m\u001b[0m\u001b[0;34m\u001b[0m\u001b[0m\n\u001b[0m\u001b[1;32m    122\u001b[0m \u001b[0;34m\u001b[0m\u001b[0m\n",
      "\u001b[0;32m<ipython-input-2-feafca95bc00>\u001b[0m in \u001b[0;36mprepare_samples\u001b[0;34m(path, samples_path)\u001b[0m\n\u001b[1;32m     90\u001b[0m \u001b[0;34m\u001b[0m\u001b[0m\n\u001b[1;32m     91\u001b[0m                 \u001b[0minner_start_time\u001b[0m \u001b[0;34m=\u001b[0m \u001b[0mtimeit\u001b[0m\u001b[0;34m.\u001b[0m\u001b[0mdefault_timer\u001b[0m\u001b[0;34m(\u001b[0m\u001b[0;34m)\u001b[0m\u001b[0;34m\u001b[0m\u001b[0;34m\u001b[0m\u001b[0m\n\u001b[0;32m---> 92\u001b[0;31m                 \u001b[0mpreds\u001b[0m \u001b[0;34m=\u001b[0m \u001b[0mpredict_tokens\u001b[0m\u001b[0;34m(\u001b[0m\u001b[0mprev_code\u001b[0m\u001b[0;34m)\u001b[0m\u001b[0;34m\u001b[0m\u001b[0;34m\u001b[0m\u001b[0m\n\u001b[0m\u001b[1;32m     93\u001b[0m                 \u001b[0mtimes_dict\u001b[0m\u001b[0;34m[\u001b[0m\u001b[0;34m'jedi'\u001b[0m\u001b[0;34m]\u001b[0m\u001b[0;34m[\u001b[0m\u001b[0;34m-\u001b[0m\u001b[0;36m1\u001b[0m\u001b[0;34m]\u001b[0m \u001b[0;34m+=\u001b[0m \u001b[0mtimeit\u001b[0m\u001b[0;34m.\u001b[0m\u001b[0mdefault_timer\u001b[0m\u001b[0;34m(\u001b[0m\u001b[0;34m)\u001b[0m \u001b[0;34m-\u001b[0m \u001b[0minner_start_time\u001b[0m\u001b[0;34m\u001b[0m\u001b[0;34m\u001b[0m\u001b[0m\n\u001b[1;32m     94\u001b[0m \u001b[0;34m\u001b[0m\u001b[0m\n",
      "\u001b[0;32m<ipython-input-2-feafca95bc00>\u001b[0m in \u001b[0;36mpredict_tokens\u001b[0;34m(code)\u001b[0m\n\u001b[1;32m     24\u001b[0m     \u001b[0;32mdef\u001b[0m \u001b[0mpredict_tokens\u001b[0m\u001b[0;34m(\u001b[0m\u001b[0mcode\u001b[0m\u001b[0;34m)\u001b[0m\u001b[0;34m:\u001b[0m\u001b[0;34m\u001b[0m\u001b[0;34m\u001b[0m\u001b[0m\n\u001b[1;32m     25\u001b[0m         \u001b[0;32mtry\u001b[0m\u001b[0;34m:\u001b[0m\u001b[0;34m\u001b[0m\u001b[0;34m\u001b[0m\u001b[0m\n\u001b[0;32m---> 26\u001b[0;31m             \u001b[0mscript\u001b[0m \u001b[0;34m=\u001b[0m \u001b[0mjedi\u001b[0m\u001b[0;34m.\u001b[0m\u001b[0mScript\u001b[0m\u001b[0;34m(\u001b[0m\u001b[0mcode\u001b[0m\u001b[0;34m)\u001b[0m\u001b[0;34m\u001b[0m\u001b[0;34m\u001b[0m\u001b[0m\n\u001b[0m\u001b[1;32m     27\u001b[0m             \u001b[0;32mreturn\u001b[0m \u001b[0mscript\u001b[0m\u001b[0;34m.\u001b[0m\u001b[0mcompletions\u001b[0m\u001b[0;34m(\u001b[0m\u001b[0;34m)\u001b[0m\u001b[0;34m\u001b[0m\u001b[0;34m\u001b[0m\u001b[0m\n\u001b[1;32m     28\u001b[0m         \u001b[0;32mexcept\u001b[0m \u001b[0mKeyError\u001b[0m\u001b[0;34m:\u001b[0m\u001b[0;34m\u001b[0m\u001b[0;34m\u001b[0m\u001b[0m\n",
      "\u001b[0;32m/usr/local/lib/python3.7/site-packages/jedi/api/__init__.py\u001b[0m in \u001b[0;36m__init__\u001b[0;34m(self, source, line, column, path, encoding, sys_path, environment)\u001b[0m\n\u001b[1;32m    106\u001b[0m             \u001b[0mproject\u001b[0m\u001b[0;34m.\u001b[0m\u001b[0m_sys_path\u001b[0m \u001b[0;34m=\u001b[0m \u001b[0msys_path\u001b[0m\u001b[0;34m\u001b[0m\u001b[0;34m\u001b[0m\u001b[0m\n\u001b[1;32m    107\u001b[0m         self._evaluator = Evaluator(\n\u001b[0;32m--> 108\u001b[0;31m             \u001b[0mproject\u001b[0m\u001b[0;34m,\u001b[0m \u001b[0menvironment\u001b[0m\u001b[0;34m=\u001b[0m\u001b[0menvironment\u001b[0m\u001b[0;34m,\u001b[0m \u001b[0mscript_path\u001b[0m\u001b[0;34m=\u001b[0m\u001b[0mself\u001b[0m\u001b[0;34m.\u001b[0m\u001b[0mpath\u001b[0m\u001b[0;34m\u001b[0m\u001b[0;34m\u001b[0m\u001b[0m\n\u001b[0m\u001b[1;32m    109\u001b[0m         )\n\u001b[1;32m    110\u001b[0m         \u001b[0mself\u001b[0m\u001b[0;34m.\u001b[0m\u001b[0m_project\u001b[0m \u001b[0;34m=\u001b[0m \u001b[0mproject\u001b[0m\u001b[0;34m\u001b[0m\u001b[0;34m\u001b[0m\u001b[0m\n",
      "\u001b[0;32m/usr/local/lib/python3.7/site-packages/jedi/evaluate/__init__.py\u001b[0m in \u001b[0;36m__init__\u001b[0;34m(self, project, environment, script_path)\u001b[0m\n\u001b[1;32m     92\u001b[0m         \u001b[0mself\u001b[0m\u001b[0;34m.\u001b[0m\u001b[0menvironment\u001b[0m \u001b[0;34m=\u001b[0m \u001b[0menvironment\u001b[0m\u001b[0;34m\u001b[0m\u001b[0;34m\u001b[0m\u001b[0m\n\u001b[1;32m     93\u001b[0m         \u001b[0mself\u001b[0m\u001b[0;34m.\u001b[0m\u001b[0mscript_path\u001b[0m \u001b[0;34m=\u001b[0m \u001b[0mscript_path\u001b[0m\u001b[0;34m\u001b[0m\u001b[0;34m\u001b[0m\u001b[0m\n\u001b[0;32m---> 94\u001b[0;31m         \u001b[0mself\u001b[0m\u001b[0;34m.\u001b[0m\u001b[0mcompiled_subprocess\u001b[0m \u001b[0;34m=\u001b[0m \u001b[0menvironment\u001b[0m\u001b[0;34m.\u001b[0m\u001b[0mget_evaluator_subprocess\u001b[0m\u001b[0;34m(\u001b[0m\u001b[0mself\u001b[0m\u001b[0;34m)\u001b[0m\u001b[0;34m\u001b[0m\u001b[0;34m\u001b[0m\u001b[0m\n\u001b[0m\u001b[1;32m     95\u001b[0m         \u001b[0mself\u001b[0m\u001b[0;34m.\u001b[0m\u001b[0mgrammar\u001b[0m \u001b[0;34m=\u001b[0m \u001b[0menvironment\u001b[0m\u001b[0;34m.\u001b[0m\u001b[0mget_grammar\u001b[0m\u001b[0;34m(\u001b[0m\u001b[0;34m)\u001b[0m\u001b[0;34m\u001b[0m\u001b[0;34m\u001b[0m\u001b[0m\n\u001b[1;32m     96\u001b[0m \u001b[0;34m\u001b[0m\u001b[0m\n",
      "\u001b[0;32m/usr/local/lib/python3.7/site-packages/jedi/api/environment.py\u001b[0m in \u001b[0;36mget_evaluator_subprocess\u001b[0;34m(self, evaluator)\u001b[0m\n\u001b[1;32m    111\u001b[0m \u001b[0;34m\u001b[0m\u001b[0m\n\u001b[1;32m    112\u001b[0m     \u001b[0;32mdef\u001b[0m \u001b[0mget_evaluator_subprocess\u001b[0m\u001b[0;34m(\u001b[0m\u001b[0mself\u001b[0m\u001b[0;34m,\u001b[0m \u001b[0mevaluator\u001b[0m\u001b[0;34m)\u001b[0m\u001b[0;34m:\u001b[0m\u001b[0;34m\u001b[0m\u001b[0;34m\u001b[0m\u001b[0m\n\u001b[0;32m--> 113\u001b[0;31m         \u001b[0;32mreturn\u001b[0m \u001b[0mEvaluatorSubprocess\u001b[0m\u001b[0;34m(\u001b[0m\u001b[0mevaluator\u001b[0m\u001b[0;34m,\u001b[0m \u001b[0mself\u001b[0m\u001b[0;34m.\u001b[0m\u001b[0m_get_subprocess\u001b[0m\u001b[0;34m(\u001b[0m\u001b[0;34m)\u001b[0m\u001b[0;34m)\u001b[0m\u001b[0;34m\u001b[0m\u001b[0;34m\u001b[0m\u001b[0m\n\u001b[0m\u001b[1;32m    114\u001b[0m \u001b[0;34m\u001b[0m\u001b[0m\n\u001b[1;32m    115\u001b[0m     \u001b[0;34m@\u001b[0m\u001b[0mmemoize_method\u001b[0m\u001b[0;34m\u001b[0m\u001b[0;34m\u001b[0m\u001b[0m\n",
      "\u001b[0;32m/usr/local/lib/python3.7/site-packages/jedi/api/environment.py\u001b[0m in \u001b[0;36m_get_subprocess\u001b[0;34m(self)\u001b[0m\n\u001b[1;32m     77\u001b[0m                 \"Could not get version information for %r: %r\" % (\n\u001b[1;32m     78\u001b[0m                     \u001b[0mself\u001b[0m\u001b[0;34m.\u001b[0m\u001b[0m_start_executable\u001b[0m\u001b[0;34m,\u001b[0m\u001b[0;34m\u001b[0m\u001b[0;34m\u001b[0m\u001b[0m\n\u001b[0;32m---> 79\u001b[0;31m                     exc))\n\u001b[0m\u001b[1;32m     80\u001b[0m \u001b[0;34m\u001b[0m\u001b[0m\n\u001b[1;32m     81\u001b[0m         \u001b[0;31m# Since it could change and might not be the same(?) as the one given,\u001b[0m\u001b[0;34m\u001b[0m\u001b[0;34m\u001b[0m\u001b[0;34m\u001b[0m\u001b[0m\n",
      "\u001b[0;31mInvalidPythonEnvironment\u001b[0m: Could not get version information for '/usr/local/opt/python/bin/python3.7': BlockingIOError(35, 'Resource temporarily unavailable')"
     ]
    }
   ],
   "source": [
    "times_dict = {\n",
    "    'code_read': [],\n",
    "    'tokenize': [],\n",
    "    'before_jedi': [],\n",
    "    'jedi': [],\n",
    "    'after_jedi': [],\n",
    "    'everything_in_for_in_g_body': [],\n",
    "    'save_preprocessed': [],\n",
    "}\n",
    "\n",
    "\n",
    "def prepare_samples(path, samples_path):\n",
    "    def get_filenames(path):\n",
    "        with open(path) as f:\n",
    "            filenames = f.read().split('\\n')\n",
    "        return filenames\n",
    "    \n",
    "    def load_mapping(path):\n",
    "        with open(path, 'rb') as f:\n",
    "#         print(base_path + '/mapping.map')\n",
    "            word_to_id = pickle.load(f)\n",
    "        return word_to_id\n",
    "\n",
    "    def predict_tokens(code):\n",
    "        try:\n",
    "            script = jedi.Script(code)\n",
    "            return script.completions()\n",
    "        except KeyError:\n",
    "            print(code)\n",
    "            raise\n",
    "    \n",
    "    def load_preprocessed(path):\n",
    "        try:\n",
    "            with open(path, 'rb') as f:\n",
    "                samples = pickle.load(f)\n",
    "        except FileNotFoundError:\n",
    "            samples = {}\n",
    "        return samples\n",
    "    \n",
    "    def save_preprocessed(samples_dict_path, samples_dict):\n",
    "        with open(samples_dict_path, 'wb') as f:\n",
    "            samples = pickle.dump(samples_dict, f)\n",
    "    \n",
    "    filenames = get_filenames(path + samples_path)\n",
    "    word_to_id = load_mapping('./mapping.map')\n",
    "    \n",
    "    samples_dict_path = './ranking_samples_' + samples_path[:3]\n",
    "    samples_dict = load_preprocessed(samples_dict_path)\n",
    "\n",
    "#     start_time = timeit.default_timer()\n",
    "#     # code you want to evaluate\n",
    "#     elapsed = timeit.default_timer() - start_time\n",
    "\n",
    "    for i, filename in enumerate(tqdm(filenames)):\n",
    "        \n",
    "        if filename in samples_dict:\n",
    "            continue\n",
    "\n",
    "        clear_output()\n",
    "        times_dict['code_read'].append(0.)\n",
    "        times_dict['tokenize'].append(0.)\n",
    "        times_dict['before_jedi'].append(0.)\n",
    "        times_dict['jedi'].append(0.)\n",
    "        times_dict['after_jedi'].append(0.)\n",
    "        times_dict['everything_in_for_in_g_body'].append(0.)\n",
    "        times_dict['save_preprocessed'].append(0.)\n",
    "\n",
    "        start_time = timeit.default_timer()\n",
    "        with open(path + filename) as f:\n",
    "            code = f.read()\n",
    "        times_dict['code_read'][-1] += timeit.default_timer() - start_time\n",
    "        print(times_dict['code_read'])\n",
    "        \n",
    "        start_time = timeit.default_timer()\n",
    "        samples = []\n",
    "        prev_tokens = []\n",
    "        g = tokenize.tokenize(BytesIO(code.encode(\"utf-8\")).readline)\n",
    "        code_lines = code.split('\\n')\n",
    "        times_dict['tokenize'][-1] += timeit.default_timer() - start_time\n",
    "        print(times_dict['tokenize'])\n",
    "        \n",
    "        start_time = timeit.default_timer()\n",
    "        for toktype, tokval, start, _, _ in g:\n",
    "            if toktype == tokenize.NAME and tokval in word_to_id:\n",
    "                inner_start_time = timeit.default_timer()\n",
    "                row, col = start\n",
    "                real_token = word_to_id[tokval]\n",
    "                prev_code = '\\n'.join(code_lines[:row-1]) + '\\n' + code_lines[row-1][:col+1]\n",
    "                times_dict['before_jedi'][-1] += timeit.default_timer() - inner_start_time\n",
    "                \n",
    "                inner_start_time = timeit.default_timer()\n",
    "                preds = predict_tokens(prev_code)\n",
    "                times_dict['jedi'][-1] += timeit.default_timer() - inner_start_time\n",
    "\n",
    "                inner_start_time = timeit.default_timer()\n",
    "                for pred in preds:\n",
    "                    completion = pred.full_name\n",
    "                    if completion in word_to_id:\n",
    "                        completion_id = word_to_id[completion]\n",
    "                        samples.append([\n",
    "                            prev_tokens[:],\n",
    "                            completion_id,\n",
    "                            real_token\n",
    "                        ])\n",
    "                prev_tokens.append(real_token)\n",
    "                times_dict['after_jedi'][-1] += timeit.default_timer() - inner_start_time\n",
    "#                     break\n",
    "        times_dict['everything_in_for_in_g_body'][-1] += timeit.default_timer() - start_time\n",
    "        print(times_dict['everything_in_for_in_g_body'])\n",
    "        samples_dict[filename] = samples\n",
    "        \n",
    "        start_time = timeit.default_timer()\n",
    "        save_preprocessed(samples_dict_path, samples_dict)\n",
    "        times_dict['save_preprocessed'][-1] += timeit.default_timer() - start_time\n",
    "#         break\n",
    "    save_preprocessed(samples_dict_path, samples_dict)\n",
    "    return samples_dict\n",
    "\n",
    "path = './pycodesuggest_py_repos_normalised/'\n",
    "samples_path = 'train_files.txt'\n",
    "samples = prepare_samples(path, samples_path)\n",
    "        "
   ]
  },
  {
   "cell_type": "code",
   "execution_count": 3,
   "metadata": {},
   "outputs": [
    {
     "data": {
      "text/plain": [
       "{'code_read': [0.0021002540000001346,\n",
       "  0.0040657039999985045,\n",
       "  0.004112184999996771,\n",
       "  0.0010922739999728037,\n",
       "  0.001201352999999017,\n",
       "  0.000864787999944383,\n",
       "  0.0006555749999961336,\n",
       "  0.0010110430000054293,\n",
       "  0.0011278509999783637,\n",
       "  0.08087101799992524,\n",
       "  0.0006236240001271653,\n",
       "  0.0018655849999049678,\n",
       "  0.013776576999816825,\n",
       "  0.00041471600002296327,\n",
       "  0.001098770999988119,\n",
       "  0.0014301409999006864,\n",
       "  0.0008996050000860123,\n",
       "  0.0014114690000042174,\n",
       "  0.0009126420000029611,\n",
       "  0.0009328109999842127,\n",
       "  0.0006261469998207758,\n",
       "  0.00133860599999025,\n",
       "  0.0008457900000848895,\n",
       "  0.0009099769999920682,\n",
       "  0.004566714000020511,\n",
       "  0.0012994339999750082,\n",
       "  0.00109186800000316,\n",
       "  0.0011106520000794262,\n",
       "  0.004105575000039607,\n",
       "  0.0004915319998417544,\n",
       "  0.0023259320000761363,\n",
       "  0.0037616270001308294,\n",
       "  0.0027956850001373823,\n",
       "  0.004676811000081216,\n",
       "  0.0008892020000530465],\n",
       " 'tokenize': [9.641599999987704e-05,\n",
       "  0.0001996440000198163,\n",
       "  0.00013618899998846246,\n",
       "  0.00018906600001855622,\n",
       "  0.00011942399999043118,\n",
       "  6.030499997677907e-05,\n",
       "  9.052400002929062e-05,\n",
       "  0.00015657400001600763,\n",
       "  0.0007245489999831989,\n",
       "  0.00046540500011360564,\n",
       "  5.783500000688946e-05,\n",
       "  0.00015554099991277326,\n",
       "  9.47650000853173e-05,\n",
       "  5.126700011715002e-05,\n",
       "  6.221700004971353e-05,\n",
       "  0.00013152700012142304,\n",
       "  0.0001043370000388677,\n",
       "  0.00010015400016527565,\n",
       "  0.00010427100005472312,\n",
       "  8.984700002656609e-05,\n",
       "  6.908000000294123e-05,\n",
       "  0.0001474969999435416,\n",
       "  0.0003401339999982156,\n",
       "  8.428399996773805e-05,\n",
       "  0.00020239000014043995,\n",
       "  0.0001545229999919684,\n",
       "  8.677800019540882e-05,\n",
       "  7.902500010459335e-05,\n",
       "  9.976999990612967e-05,\n",
       "  5.7167000022673164e-05,\n",
       "  5.9593000059976475e-05,\n",
       "  6.173299993861292e-05,\n",
       "  8.299099999931059e-05,\n",
       "  9.73660000909149e-05,\n",
       "  0.001001621000114028],\n",
       " 'before_jedi': [0.021653274999826166,\n",
       "  0.03186795299964729,\n",
       "  0.0011954180000088854,\n",
       "  0.0014675789997227184,\n",
       "  0.0,\n",
       "  0.0029484589994694943,\n",
       "  0.0,\n",
       "  0.175196945999744,\n",
       "  0.724037856007385,\n",
       "  0.0,\n",
       "  0.0018215750003491848,\n",
       "  0.02438844099833659,\n",
       "  7.950300005177269e-05,\n",
       "  0.0,\n",
       "  0.00010870800042539486,\n",
       "  0.004750230998297411,\n",
       "  0.00017103500022130902,\n",
       "  0.0025721829997564782,\n",
       "  4.6443999963230453e-05,\n",
       "  0.000962196999353182,\n",
       "  0.0,\n",
       "  0.06024233599964646,\n",
       "  0.0001424309994035866,\n",
       "  0.002853269998468022,\n",
       "  0.01630668099937793,\n",
       "  0.0007225589999961812,\n",
       "  0.00018620200012264831,\n",
       "  0.00029929900051683944,\n",
       "  7.846600033190043e-05,\n",
       "  0.0,\n",
       "  0.00014397400013876904,\n",
       "  2.8900999950565165e-05,\n",
       "  2.6175999892075197e-05,\n",
       "  0.00026018400035354716,\n",
       "  0.04809714500265727],\n",
       " 'jedi': [134.04499346500023,\n",
       "  121.41994354900007,\n",
       "  7.833048864000034,\n",
       "  9.567293183999993,\n",
       "  0.0,\n",
       "  19.61912817900037,\n",
       "  0.0,\n",
       "  243.69603364599982,\n",
       "  929.4105963709966,\n",
       "  0.0,\n",
       "  14.32099219499878,\n",
       "  97.381561999003,\n",
       "  1.8999904520003383,\n",
       "  0.0,\n",
       "  2.7204026639994936,\n",
       "  29.773283602998163,\n",
       "  0.8859992669999883,\n",
       "  19.535580149999532,\n",
       "  0.9134034319999955,\n",
       "  9.45501575600042,\n",
       "  0.0,\n",
       "  137.46023406299855,\n",
       "  2.1513081420000617,\n",
       "  20.879327447000378,\n",
       "  52.93820484200023,\n",
       "  12.497034529000075,\n",
       "  2.7930673809999007,\n",
       "  2.8195056120000572,\n",
       "  2.130003109999734,\n",
       "  0.0,\n",
       "  2.941618275999872,\n",
       "  1.0578861889998734,\n",
       "  1.2143118450001111,\n",
       "  5.034809109999742,\n",
       "  152.6986438759984],\n",
       " 'after_jedi': [0.8571290240001073,\n",
       "  0.40301584199974627,\n",
       "  0.034745819999784544,\n",
       "  0.8097217349999255,\n",
       "  0.0,\n",
       "  1.1525499339998078,\n",
       "  0.0,\n",
       "  3.9721161920016357,\n",
       "  4.403407229002369,\n",
       "  0.0,\n",
       "  0.15203346299927034,\n",
       "  1.1404198019997693,\n",
       "  0.5468452579998484,\n",
       "  0.0,\n",
       "  0.18208514300044953,\n",
       "  2.742943803999651,\n",
       "  0.015797535999809043,\n",
       "  0.15586068399943542,\n",
       "  0.01335276800000429,\n",
       "  0.05971423100049833,\n",
       "  0.0,\n",
       "  1.139015778000612,\n",
       "  0.3162833890000911,\n",
       "  0.330057125999474,\n",
       "  0.2829035569993721,\n",
       "  0.14559187100007875,\n",
       "  0.04489014300020244,\n",
       "  0.03468301799989604,\n",
       "  0.4842318129999512,\n",
       "  0.0,\n",
       "  0.24642419800034077,\n",
       "  0.017569334999734565,\n",
       "  0.014264984000192271,\n",
       "  0.07486372099992877,\n",
       "  0.5674964769948474],\n",
       " 'everything_in_for_in_g_body': [134.99619405500002,\n",
       "  121.92347707600004,\n",
       "  7.873724702000004,\n",
       "  10.38427108999997,\n",
       "  2.041300001565105e-05,\n",
       "  20.785884280999994,\n",
       "  1.706399996237451e-05,\n",
       "  247.98380466900005,\n",
       "  935.059276404,\n",
       "  2.6004999881479307e-05,\n",
       "  14.486477802000081,\n",
       "  98.61647444099981,\n",
       "  2.44799908899995,\n",
       "  1.6018999986044946e-05,\n",
       "  2.9059011389999796,\n",
       "  32.53937199300003,\n",
       "  0.9028069219998542,\n",
       "  19.7062108250002,\n",
       "  0.9276234149999709,\n",
       "  9.521455967999827,\n",
       "  1.9468000118649798e-05,\n",
       "  138.737893923,\n",
       "  2.4697544759999346,\n",
       "  21.223821039000086,\n",
       "  53.265053181999974,\n",
       "  12.65092445900018,\n",
       "  2.8401240040000175,\n",
       "  2.8562218609999945,\n",
       "  2.6154350250001244,\n",
       "  1.9070999996984028e-05,\n",
       "  3.1899536019998322,\n",
       "  1.076192113000161,\n",
       "  1.2293105640001158,\n",
       "  5.113046438999845,\n",
       "  0.0],\n",
       " 'save_preprocessed': [0.504945169999985,\n",
       "  0.5922771420000004,\n",
       "  0.5620814399999858,\n",
       "  0.5185736910000287,\n",
       "  0.5205677569999807,\n",
       "  0.5160402459999887,\n",
       "  0.5265912370000478,\n",
       "  0.6140571290000025,\n",
       "  1.592160978000038,\n",
       "  1.6113981669998338,\n",
       "  1.7512906830002066,\n",
       "  1.9491404670000065,\n",
       "  1.934487076999858,\n",
       "  1.7987916960000803,\n",
       "  2.0705173479998393,\n",
       "  1.5641840430000684,\n",
       "  1.5349311680001847,\n",
       "  1.621999724000034,\n",
       "  1.5711992459998783,\n",
       "  1.6074619870000788,\n",
       "  1.5041633319999619,\n",
       "  1.9600872690000415,\n",
       "  1.6737805689999732,\n",
       "  2.0614172919999874,\n",
       "  2.173312721000002,\n",
       "  1.8953653240000676,\n",
       "  1.69672373100002,\n",
       "  1.6154705960000229,\n",
       "  2.202368864999926,\n",
       "  1.7075826790000974,\n",
       "  1.8382720990000507,\n",
       "  2.2859725429998434,\n",
       "  1.7559875709998778,\n",
       "  1.8377520789999835,\n",
       "  0.0]}"
      ]
     },
     "execution_count": 3,
     "metadata": {},
     "output_type": "execute_result"
    }
   ],
   "source": [
    "times_dict"
   ]
  },
  {
   "cell_type": "code",
   "execution_count": null,
   "metadata": {},
   "outputs": [],
   "source": []
  },
  {
   "cell_type": "code",
   "execution_count": 20,
   "metadata": {},
   "outputs": [
    {
     "name": "stderr",
     "output_type": "stream",
     "text": [
      "\r",
      "100%|██████████| 1000/1000 [00:02<00:00, 407.96it/s]"
     ]
    },
    {
     "name": "stdout",
     "output_type": "stream",
     "text": [
      "999\n"
     ]
    },
    {
     "name": "stderr",
     "output_type": "stream",
     "text": [
      "\n"
     ]
    }
   ],
   "source": [
    "for i in tqdm(range(1000)):\n",
    "#     timeit.sleep(1)\n",
    "    clear_output()\n",
    "    print(i)\n",
    "    "
   ]
  },
  {
   "cell_type": "code",
   "execution_count": 4,
   "metadata": {},
   "outputs": [],
   "source": [
    "with open('./ranking_samples_tra', 'rb') as f:\n",
    "    samples = pickle.load(f)"
   ]
  },
  {
   "cell_type": "code",
   "execution_count": 6,
   "metadata": {},
   "outputs": [
    {
     "name": "stdout",
     "output_type": "stream",
     "text": [
      "76139\n",
      "87\n"
     ]
    }
   ],
   "source": [
    "count = 0\n",
    "\n",
    "for v in samples.values():\n",
    "    count += len(v)\n",
    "print(count)\n",
    "print(len(samples.values()))"
   ]
  },
  {
   "cell_type": "code",
   "execution_count": 4,
   "metadata": {},
   "outputs": [],
   "source": [
    "with open('./ranking_samples_tra', 'rb') as f:\n",
    "    samples = pickle.load(f)"
   ]
  },
  {
   "cell_type": "code",
   "execution_count": 9,
   "metadata": {},
   "outputs": [
    {
     "name": "stdout",
     "output_type": "stream",
     "text": [
      "18534\n",
      "32\n"
     ]
    }
   ],
   "source": [
    "count = 0\n",
    "\n",
    "for v in samples.values():\n",
    "    count += len(v)\n",
    "print(count)\n",
    "print(len(samples.values()))"
   ]
  },
  {
   "cell_type": "code",
   "execution_count": null,
   "metadata": {},
   "outputs": [],
   "source": []
  },
  {
   "cell_type": "code",
   "execution_count": null,
   "metadata": {},
   "outputs": [],
   "source": []
  },
  {
   "cell_type": "code",
   "execution_count": null,
   "metadata": {},
   "outputs": [],
   "source": []
  },
  {
   "cell_type": "code",
   "execution_count": null,
   "metadata": {},
   "outputs": [],
   "source": []
  },
  {
   "cell_type": "code",
   "execution_count": 15,
   "metadata": {},
   "outputs": [
    {
     "name": "stdout",
     "output_type": "stream",
     "text": [
      "57 utf-8\n",
      "KEYWORD def True (1, 0)\n",
      "NAME twoπ True (1, 4)\n",
      "53 (\n",
      "NAME a True (1, 9)\n",
      "53 ,\n",
      "NAME b True (1, 11)\n",
      "53 )\n",
      "53 :\n",
      "4 \n",
      "0 \n",
      "utf-8 def twoπ ( a , b ) :   \n"
     ]
    }
   ],
   "source": [
    "import tokenize\n",
    "from io import BytesIO\n",
    "from keyword import iskeyword\n",
    "\n",
    "def load_code(path):\n",
    "    pass\n",
    "\n",
    "def process_code(code):\n",
    "#     s = code #\n",
    "    s = \"def twoπ(a,b):\"\n",
    "    g = tokenize.tokenize(BytesIO(s.encode(\"utf-8\")).readline)\n",
    "    new_s = ''\n",
    "    for toktype, tokval, st, end, _ in g:\n",
    "        if toktype == tokenize.NAME:\n",
    "            if iskeyword(tokval):\n",
    "                print(\"KEYWORD\", tokval, tokval.isidentifier(), st)\n",
    "            else:\n",
    "                print('NAME', tokval, tokval.isidentifier(), st)\n",
    "        else:\n",
    "            print(toktype, tokval)\n",
    "        new_s += f'{tokval} '\n",
    "    print(new_s)\n",
    "\n",
    "process_code(None)"
   ]
  },
  {
   "cell_type": "code",
   "execution_count": 35,
   "metadata": {},
   "outputs": [
    {
     "name": "stdout",
     "output_type": "stream",
     "text": [
      "def foo ( i ) : \n",
      "      f\n"
     ]
    }
   ],
   "source": [
    "print(new_s[8:].strip())"
   ]
  },
  {
   "cell_type": "code",
   "execution_count": 36,
   "metadata": {},
   "outputs": [
    {
     "data": {
      "text/plain": [
       "[<Completion: filter>,\n",
       " <Completion: float>,\n",
       " <Completion: foo>,\n",
       " <Completion: for>,\n",
       " <Completion: format>,\n",
       " <Completion: from>,\n",
       " <Completion: frozenset>]"
      ]
     },
     "execution_count": 36,
     "metadata": {},
     "output_type": "execute_result"
    }
   ],
   "source": [
    "script = jedi.Script(new_s[8:].strip())\n",
    "script.completions()"
   ]
  },
  {
   "cell_type": "markdown",
   "metadata": {},
   "source": []
  }
 ],
 "metadata": {
  "accelerator": "GPU",
  "colab": {
   "collapsed_sections": [],
   "name": "lstm_baseline_gpu_colab.ipynb",
   "provenance": [],
   "version": "0.3.2"
  },
  "kernelspec": {
   "display_name": "Python 3",
   "language": "python",
   "name": "python3"
  },
  "language_info": {
   "codemirror_mode": {
    "name": "ipython",
    "version": 3
   },
   "file_extension": ".py",
   "mimetype": "text/x-python",
   "name": "python",
   "nbconvert_exporter": "python",
   "pygments_lexer": "ipython3",
   "version": "3.7.3"
  }
 },
 "nbformat": 4,
 "nbformat_minor": 1
}
