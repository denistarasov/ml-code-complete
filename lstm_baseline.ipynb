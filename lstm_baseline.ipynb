{
  "nbformat": 4,
  "nbformat_minor": 0,
  "metadata": {
    "colab": {
      "name": "lstm_baseline_gpu_colab.ipynb",
      "version": "0.3.2",
      "provenance": [],
      "collapsed_sections": []
    },
    "language_info": {
      "codemirror_mode": {
        "name": "ipython",
        "version": 3
      },
      "file_extension": ".py",
      "mimetype": "text/x-python",
      "name": "python",
      "nbconvert_exporter": "python",
      "pygments_lexer": "ipython3",
      "version": "3.7.1"
    },
    "kernelspec": {
      "name": "python3",
      "display_name": "Python 3"
    },
    "accelerator": "GPU"
  },
  "cells": [
    {
      "cell_type": "markdown",
      "metadata": {
        "id": "t_bV546-3JVF",
        "colab_type": "text"
      },
      "source": [
        "## Импорты"
      ]
    },
    {
      "cell_type": "code",
      "metadata": {
        "id": "SGIPKkSG3JVG",
        "colab_type": "code",
        "colab": {}
      },
      "source": [
        "%matplotlib inline\n",
        "import matplotlib.pyplot as plt\n",
        "\n",
        "import torch\n",
        "import torch.nn as nn\n",
        "import torch.nn.functional as F\n",
        "import torch.optim as optim\n",
        "from torch.utils.data import Dataset, DataLoader\n",
        "\n",
        "import os\n",
        "from tqdm import tqdm_notebook, trange\n",
        "import pickle\n",
        "import numpy as np\n",
        "from IPython.display import clear_output"
      ],
      "execution_count": 0,
      "outputs": []
    },
    {
      "cell_type": "code",
      "metadata": {
        "id": "oa2jzP-N3JVI",
        "colab_type": "code",
        "colab": {}
      },
      "source": [
        "device = torch.device('cuda:0' if torch.cuda.is_available() else 'cpu')\n"
      ],
      "execution_count": 0,
      "outputs": []
    },
    {
      "cell_type": "code",
      "metadata": {
        "id": "1WoL992vCADZ",
        "colab_type": "code",
        "outputId": "5d727cad-9ac4-40f8-a287-ca102c30fa4f",
        "colab": {
          "base_uri": "https://localhost:8080/",
          "height": 34
        }
      },
      "source": [
        "device"
      ],
      "execution_count": 3,
      "outputs": [
        {
          "output_type": "execute_result",
          "data": {
            "text/plain": [
              "device(type='cuda', index=0)"
            ]
          },
          "metadata": {
            "tags": []
          },
          "execution_count": 3
        }
      ]
    },
    {
      "cell_type": "code",
      "metadata": {
        "id": "jYSCFL3a7ISw",
        "colab_type": "code",
        "colab": {
          "base_uri": "https://localhost:8080/",
          "height": 34
        },
        "outputId": "c7f0119d-67f8-4637-b23b-e58af6d84700"
      },
      "source": [
        "!pip install telepyth -q\n",
        "\n",
        "from telepyth import TelepythClient\n",
        "\n",
        "tp = TelepythClient(\"14890519403566776828\")"
      ],
      "execution_count": 4,
      "outputs": [
        {
          "output_type": "stream",
          "text": [
            "  Building wheel for telepyth (setup.py) ... \u001b[?25l\u001b[?25hdone\n"
          ],
          "name": "stdout"
        }
      ]
    },
    {
      "cell_type": "markdown",
      "metadata": {
        "id": "5tEoWJ7f3JVJ",
        "colab_type": "text"
      },
      "source": [
        "# Предобработка"
      ]
    },
    {
      "cell_type": "code",
      "metadata": {
        "id": "bnR1yqKZBiqi",
        "colab_type": "code",
        "outputId": "de46a242-9ca7-4015-cdfa-18e1aa0620b7",
        "colab": {
          "base_uri": "https://localhost:8080/",
          "height": 122
        }
      },
      "source": [
        "from google.colab import drive\n",
        "drive.mount('/content/drive')"
      ],
      "execution_count": 5,
      "outputs": [
        {
          "output_type": "stream",
          "text": [
            "Go to this URL in a browser: https://accounts.google.com/o/oauth2/auth?client_id=947318989803-6bn6qk8qdgf4n4g3pfee6491hc0brc4i.apps.googleusercontent.com&redirect_uri=urn%3Aietf%3Awg%3Aoauth%3A2.0%3Aoob&scope=email%20https%3A%2F%2Fwww.googleapis.com%2Fauth%2Fdocs.test%20https%3A%2F%2Fwww.googleapis.com%2Fauth%2Fdrive%20https%3A%2F%2Fwww.googleapis.com%2Fauth%2Fdrive.photos.readonly%20https%3A%2F%2Fwww.googleapis.com%2Fauth%2Fpeopleapi.readonly&response_type=code\n",
            "\n",
            "Enter your authorization code:\n",
            "··········\n",
            "Mounted at /content/drive\n"
          ],
          "name": "stdout"
        }
      ]
    },
    {
      "cell_type": "code",
      "metadata": {
        "id": "9NGHmxL23JVK",
        "colab_type": "code",
        "colab": {}
      },
      "source": [
        "base_path = '/content/drive/My Drive/vkr'\n",
        "# code_batched = base_path + '/after_preprocess/after_preprocess.part0'"
      ],
      "execution_count": 0,
      "outputs": []
    },
    {
      "cell_type": "code",
      "metadata": {
        "id": "xr-HXCea3JVM",
        "colab_type": "code",
        "colab": {}
      },
      "source": [
        "def build_vocab():\n",
        "    # load pre-computed vocab\n",
        "    with open(base_path + '/mapping.map', 'rb') as f:\n",
        "#         print(base_path + '/mapping.map')\n",
        "        word_to_id = pickle.load(f)\n",
        "    id_to_word = dict([(v, k) for (k, v) in word_to_id.items()])\n",
        "    return word_to_id, id_to_word\n",
        "\n",
        "word_to_id, id_to_word = build_vocab()\n"
      ],
      "execution_count": 0,
      "outputs": []
    },
    {
      "cell_type": "code",
      "metadata": {
        "id": "GPEXdVv13JVP",
        "colab_type": "code",
        "colab": {}
      },
      "source": [
        "\n",
        "params = {\n",
        "    'batch_size': 128,\n",
        "    'emb_size': 150,\n",
        "    'vocab_size': len(word_to_id),\n",
        "    # 'seq_len': 100,\n",
        "}\n"
      ],
      "execution_count": 0,
      "outputs": []
    },
    {
      "cell_type": "code",
      "metadata": {
        "id": "PoXTxkbv3JVR",
        "colab_type": "code",
        "colab": {}
      },
      "source": [
        "# def get_code_data(path):\n",
        "#     for _, _, files in os.walk(path):\n",
        "#         data = np.empty((0, 100))\n",
        "#         for file in tqdm_notebook(files):\n",
        "#             with open(path + file, 'rb') as f:\n",
        "#                 array = pickle.load(f)\n",
        "#                 for i in tqdm_notebook(range(len(array)), leave=False):\n",
        "#                     data = np.concatenate((data, array[i].inputs), axis=0)\n",
        "#     return data\n"
      ],
      "execution_count": 0,
      "outputs": []
    },
    {
      "cell_type": "code",
      "metadata": {
        "scrolled": true,
        "colab_type": "code",
        "id": "Gk_DJThyY908",
        "colab": {}
      },
      "source": [
        "# data = get_code_data(base_path + '/after_preprocess/')"
      ],
      "execution_count": 0,
      "outputs": []
    },
    {
      "cell_type": "code",
      "metadata": {
        "colab_type": "code",
        "id": "gPJNvogtY90O",
        "colab": {}
      },
      "source": [
        "# with open('./after_preprocess/all_inputs', 'wb') as f:\n",
        "#     pickle.dump(data.astype('int64'), f)"
      ],
      "execution_count": 0,
      "outputs": []
    },
    {
      "cell_type": "code",
      "metadata": {
        "id": "1s8xwzx5yr2f",
        "colab_type": "code",
        "colab": {}
      },
      "source": [
        "# with open(data_path, 'rb') as f:\n",
        "#     bla = pickle.load(f)\n",
        "# len(bla)"
      ],
      "execution_count": 0,
      "outputs": []
    },
    {
      "cell_type": "code",
      "metadata": {
        "id": "ymRfG6ncyzMD",
        "colab_type": "code",
        "colab": {}
      },
      "source": [
        ""
      ],
      "execution_count": 0,
      "outputs": []
    },
    {
      "cell_type": "code",
      "metadata": {
        "id": "uswwMZXK3JVc",
        "colab_type": "code",
        "colab": {}
      },
      "source": [
        "data_path = base_path + '/after_preprocess/all_inputs'"
      ],
      "execution_count": 0,
      "outputs": []
    },
    {
      "cell_type": "code",
      "metadata": {
        "id": "uNIve_5psBqU",
        "colab_type": "code",
        "colab": {}
      },
      "source": [
        "# split threshold for train/test\n",
        "# approximately data contains 700k object\n",
        "split_num = int(700000 * 0.7)"
      ],
      "execution_count": 0,
      "outputs": []
    },
    {
      "cell_type": "code",
      "metadata": {
        "id": "vm60u_JS3JVd",
        "colab_type": "code",
        "colab": {}
      },
      "source": [
        "class CodeDataset(Dataset):\n",
        "    def __init__(self, path, params, start, end):\n",
        "        with open(path, 'rb') as f:\n",
        "            self.data = pickle.load(f)[start:end]\n",
        "\n",
        "    def __len__(self):\n",
        "#         return 10\n",
        "        return self.data.shape[0]\n",
        "    \n",
        "    def __getitem__(self, index):\n",
        "        return self.data[index]\n"
      ],
      "execution_count": 0,
      "outputs": []
    },
    {
      "cell_type": "code",
      "metadata": {
        "id": "6UpDAPXk3JVg",
        "colab_type": "code",
        "colab": {}
      },
      "source": [
        "train_loader = DataLoader(\n",
        "    CodeDataset(data_path, params, 0, split_num),\n",
        "    batch_size=params['batch_size'],\n",
        "    shuffle=True,\n",
        "    num_workers=10\n",
        ")"
      ],
      "execution_count": 0,
      "outputs": []
    },
    {
      "cell_type": "code",
      "metadata": {
        "id": "ZKEk7sUHuJ0O",
        "colab_type": "code",
        "colab": {}
      },
      "source": [
        "test_loader = DataLoader(\n",
        "    CodeDataset(data_path, params, split_num, None),\n",
        "    batch_size=params['batch_size'],\n",
        "    shuffle=True,\n",
        "    num_workers=10\n",
        ")"
      ],
      "execution_count": 0,
      "outputs": []
    },
    {
      "cell_type": "markdown",
      "metadata": {
        "id": "CDwQGSqL3JVo",
        "colab_type": "text"
      },
      "source": [
        "# Инициализация модели"
      ]
    },
    {
      "cell_type": "code",
      "metadata": {
        "id": "MaZtCHSE3JVr",
        "colab_type": "code",
        "colab": {}
      },
      "source": [
        "class LstmBaseline(nn.Module):\n",
        "    def __init__(self, params):\n",
        "        super().__init__()\n",
        "        self.params = params\n",
        "        self.embedding = nn.Embedding(\n",
        "            self.params['vocab_size'],\n",
        "            self.params['emb_size']\n",
        "        )\n",
        "        self.lstm = nn.LSTM(\n",
        "            self.params['emb_size'],\n",
        "            self.params['emb_size'],\n",
        "#             2\n",
        "            1\n",
        "        )\n",
        "        self.linear = nn.Linear(\n",
        "            self.params['emb_size'],\n",
        "            self.params['vocab_size']\n",
        "        )\n",
        "    \n",
        "    def init_hidden(self, batch_size):\n",
        "        pass\n",
        "\n",
        "    def forward(self, inputs, hidden):\n",
        "        embs = self.embedding(inputs)\n",
        "        # need 100, 64, 150(?)\n",
        "        # real 64, 100, 150\n",
        "        output, hidden = self.lstm.forward(embs, hidden)\n",
        "        output = self.linear(output)\n",
        "        return output, hidden\n"
      ],
      "execution_count": 0,
      "outputs": []
    },
    {
      "cell_type": "markdown",
      "metadata": {
        "id": "Rj-ngST93JVt",
        "colab_type": "text"
      },
      "source": [
        "# Обучение"
      ]
    },
    {
      "cell_type": "code",
      "metadata": {
        "id": "ZZFFiiIr3JV1",
        "colab_type": "code",
        "colab": {}
      },
      "source": [
        "model = LstmBaseline(params).to(device)"
      ],
      "execution_count": 0,
      "outputs": []
    },
    {
      "cell_type": "code",
      "metadata": {
        "id": "jMVQ0GIc3JV2",
        "colab_type": "code",
        "outputId": "ec82fdf7-48e5-476d-8eb4-1acb175fefc5",
        "colab": {
          "base_uri": "https://localhost:8080/",
          "height": 363
        }
      },
      "source": [
        "%%time\n",
        "\n",
        "optimizer = torch.optim.Adam(model.parameters(), lr=0.01)\n",
        "train(model, optimizer, 1)"
      ],
      "execution_count": 20,
      "outputs": [
        {
          "output_type": "stream",
          "text": [
            "Epoch:0\n",
            "Accuracy: 0.352422529165747\n"
          ],
          "name": "stdout"
        },
        {
          "output_type": "display_data",
          "data": {
            "image/png": "[encoded data removed]",
            "text/plain": [
              "<Figure size 432x288 with 1 Axes>"
            ]
          },
          "metadata": {
            "tags": []
          }
        },
        {
          "output_type": "stream",
          "text": [
            "CPU times: user 1h 29s, sys: 26min 38s, total: 1h 27min 8s\n",
            "Wall time: 1h 27min 44s\n"
          ],
          "name": "stdout"
        }
      ]
    },
    {
      "cell_type": "code",
      "metadata": {
        "id": "wOt4O3yx3JVz",
        "colab_type": "code",
        "colab": {}
      },
      "source": [
        "def train_epoch(model, optimizer, lr):\n",
        "    loss_log = []\n",
        "    model.train()\n",
        "    total = 0\n",
        "    correct = 0\n",
        "    \n",
        "    for batch_num, x in zip(trange(len(train_loader)), train_loader):\n",
        "        optimizer.zero_grad()\n",
        "        x = x.to(device)\n",
        "        loss_value = 0.\n",
        "        loss = nn.CrossEntropyLoss()\n",
        "        # todo check\n",
        "        hidden = None\n",
        "        for i in range(x.shape[1] - 1):\n",
        "            output, hidden = model.forward(x[:, i].unsqueeze(1), hidden)\n",
        "            loss_value += loss(output.squeeze(1), x[:, i + 1])\n",
        "            \n",
        "            _, arg_pred = torch.max(output.squeeze(1), 1)\n",
        "            eq_arr = arg_pred == x[:, i + 1]\n",
        "            total += eq_arr.shape[0]\n",
        "            correct += int(eq_arr.sum())\n",
        "        loss_value.backward()\n",
        "\n",
        "#         torch.nn.utils.clip_grad_norm(model.parameters(), 0.5)\n",
        "#         for p in model.parameters():\n",
        "#             p.data.add_(-lr, p.grad.data)\n",
        "        optimizer.step()\n",
        "        loss_value = loss_value.item()\n",
        "        loss_log.append(loss_value)# / x.shape[1])\n",
        "\n",
        "    accuracy = correct / total\n",
        "    return accuracy, loss_log\n",
        "\n",
        "def plot_history(train_history, title='loss'):\n",
        "    plt.figure()\n",
        "    plt.title('{}'.format(title))\n",
        "    plt.plot(train_history, label='train', zorder=1)\n",
        "    plt.xlabel('train steps')\n",
        "    plt.legend(loc='best')\n",
        "    plt.grid()\n",
        "    plt.show()\n",
        "    \n",
        "def train(model, opt, n_epochs):\n",
        "    train_log = []\n",
        "    acc_log = []\n",
        "    lr = 0.05\n",
        "    lr_decay_base = 1 / 1.15\n",
        "    m_flat_lr = 20.0\n",
        "    for epoch in range(n_epochs):\n",
        "        lr_decay = lr_decay_base ** max(epoch - m_flat_lr, 0)\n",
        "        lr = lr * lr_decay\n",
        "        accuracy, train_loss = train_epoch(model, opt, lr)\n",
        "        train_log.extend(train_loss)\n",
        "        acc_log.append(accuracy)\n",
        "        torch.save(\n",
        "            {\n",
        "                'epoch': epoch,\n",
        "                'model_state_dict': model.state_dict(),\n",
        "                'optimizer_state_dict': opt.state_dict(),\n",
        "                'loss': train_log[-1]\n",
        "            },\n",
        "            base_path + '/model_checkpoints2/lstm_baseline_checkpoint_{}.pt'.format(epoch)\n",
        "        )\n",
        "        clear_output()\n",
        "        print(\"Epoch:{}\".format(epoch))\n",
        "        print(\"Accuracy:\", accuracy)\n",
        "        tp.send_text('Epoch {}, LSTM baseline accuracy: {}'.format(epoch, accuracy))\n",
        "        plot_history(train_log)\n",
        "#     np.save(\"/home/.../model_checkpoints..._logs.npy\", np.array(train_log))\n",
        "#     np.save(\"/home/.../model_checkpoints..._logs_perp.npy\", np.array(perp_log))\n",
        "\n",
        "def test(model):\n",
        "    def filter_identifiers():\n",
        "        identifiers_ids = set()\n",
        "        for token_id, word in id_to_word.items():\n",
        "            if word.isidentifier():\n",
        "                identifiers_ids.add(token_id)\n",
        "        return identifiers_ids\n",
        "\n",
        "    identifiers_ids = filter_identifiers()\n",
        "    loss_log = []\n",
        "    model.eval()\n",
        "    total = 0\n",
        "    correct = 0\n",
        "    for batch_num, x in zip(trange(len(test_loader)), test_loader):\n",
        "        x = x.to(device)\n",
        "        loss_value = 0.\n",
        "        hidden = None\n",
        "        for i in range(x.shape[1] - 1):\n",
        "            output, hidden = model.forward(x[:, i].unsqueeze(1), hidden)\n",
        "            _, arg_pred = torch.max(output.squeeze(1), 1)\n",
        "            eq_arr = arg_pred == x[:, i + 1]\n",
        "            for j, elem in enumerate(x[:, i + 1]):\n",
        "                if int(elem) in identifiers_ids:\n",
        "                    total += 1\n",
        "                    correct += int(eq_arr[j])\n",
        "#             print(arg_pred)\n",
        "#             print(total)\n",
        "#             break\n",
        "#         break\n",
        "#             total += eq_arr.shape[0]\n",
        "            \n",
        "    accuracy = correct / total\n",
        "    return accuracy\n"
      ],
      "execution_count": 0,
      "outputs": []
    },
    {
      "cell_type": "code",
      "metadata": {
        "id": "reW1ketXmhlh",
        "colab_type": "code",
        "colab": {
          "base_uri": "https://localhost:8080/",
          "height": 85
        },
        "outputId": "81016347-8a3e-4c06-c222-077c8e0f9108"
      },
      "source": [
        "%%time\n",
        "\n",
        "print('Accuracy:', test(model))"
      ],
      "execution_count": 42,
      "outputs": [
        {
          "output_type": "stream",
          "text": [
            "100%|██████████| 1607/1607 [22:43<00:00,  1.21it/s]\n"
          ],
          "name": "stderr"
        },
        {
          "output_type": "stream",
          "text": [
            "Accuracy: 0.07568027357303116\n",
            "CPU times: user 17min 19s, sys: 5min 23s, total: 22min 43s\n",
            "Wall time: 22min 43s\n"
          ],
          "name": "stdout"
        }
      ]
    }
  ]
}