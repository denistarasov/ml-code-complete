{
 "cells": [
  {
   "cell_type": "markdown",
   "metadata": {},
   "source": [
    "## Импорты"
   ]
  },
  {
   "cell_type": "code",
   "execution_count": 4,
   "metadata": {},
   "outputs": [],
   "source": [
    "%matplotlib inline\n",
    "import matplotlib.pyplot as plt\n",
    "\n",
    "import os\n",
    "from tqdm import tqdm_notebook, trange, tqdm\n",
    "import pickle\n",
    "import numpy as np\n",
    "from IPython.display import clear_output\n",
    "\n",
    "from collections import defaultdict"
   ]
  },
  {
   "cell_type": "code",
   "execution_count": 5,
   "metadata": {},
   "outputs": [],
   "source": [
    "base_path = '/Users/dentarasov/Yandex.Disk.localized/current/vkr'\n",
    "data_path = base_path + '/after_preprocess/all_inputs'\n",
    "\n",
    "with open(data_path, 'rb') as f:\n",
    "    data = pickle.load(f)\n"
   ]
  },
  {
   "cell_type": "code",
   "execution_count": 6,
   "metadata": {},
   "outputs": [
    {
     "data": {
      "text/plain": [
       "(695687, 100)"
      ]
     },
     "execution_count": 6,
     "metadata": {},
     "output_type": "execute_result"
    }
   ],
   "source": [
    "data.shape"
   ]
  },
  {
   "cell_type": "code",
   "execution_count": 7,
   "metadata": {},
   "outputs": [],
   "source": [
    "split_num = 600000\n",
    "train, test = data[:split_num], data[split_num:]"
   ]
  },
  {
   "cell_type": "code",
   "execution_count": 8,
   "metadata": {},
   "outputs": [],
   "source": [
    "N = 3"
   ]
  },
  {
   "cell_type": "code",
   "execution_count": 9,
   "metadata": {},
   "outputs": [],
   "source": [
    "ngrams_dict = defaultdict(int)"
   ]
  },
  {
   "cell_type": "code",
   "execution_count": 31,
   "metadata": {},
   "outputs": [],
   "source": [
    "# for seq in tqdm_notebook(train):\n",
    "#     for i in range(len(seq) - N):\n",
    "#         ngrams_dict[tuple(seq[i:i+N])] += 1"
   ]
  },
  {
   "cell_type": "code",
   "execution_count": null,
   "metadata": {},
   "outputs": [],
   "source": []
  },
  {
   "cell_type": "markdown",
   "metadata": {},
   "source": [
    "## Что стоит сделать\n",
    "* Убрать `<PAD>`"
   ]
  },
  {
   "cell_type": "code",
   "execution_count": null,
   "metadata": {},
   "outputs": [],
   "source": [
    "def filter_most_popular_ngrams(ngrams_dict):\n",
    "    # ngram_list: [[(1, 231, 12), 5], ...]\n",
    "    ngrams_list = list(ngrams_dict.items())\n",
    "    def sort_fun(ngram):\n",
    "        return ngram[0][:2], ngram[1]\n",
    "    ngrams_list = sorted(ngrams_list, key=sort_fun, reverse=True)\n",
    "    prev = None\n",
    "    new_ngrams_dict = {}\n",
    "    for ngram in tqdm(ngrams_list):\n",
    "        cur = ngram[0][:2]\n",
    "        if prev != cur:\n",
    "            new_ngrams_dict[tuple(cur)] = ngram[0][2]\n",
    "        prev = cur\n",
    "    return new_ngrams_dict"
   ]
  },
  {
   "cell_type": "code",
   "execution_count": null,
   "metadata": {},
   "outputs": [],
   "source": [
    "# new_ngrams_dict = filter_most_popular_ngrams(ngrams_dict)"
   ]
  },
  {
   "cell_type": "code",
   "execution_count": 11,
   "metadata": {},
   "outputs": [],
   "source": [
    "# with open('./ngrams_dict.pickle', 'wb') as f:\n",
    "#     pickle.dump(new_ngrams_dict, f)\n",
    "\n",
    "with open('./ngrams_dict.pickle', 'rb') as f:\n",
    "    new_ngrams_dict = pickle.load(f)"
   ]
  },
  {
   "cell_type": "code",
   "execution_count": 12,
   "metadata": {},
   "outputs": [
    {
     "data": {
      "text/plain": [
       "[((79583, 14), 3),\n",
       " ((79583, 9), 2),\n",
       " ((79583, 5), 14),\n",
       " ((79583, 3), 2),\n",
       " ((79583, 2), 2),\n",
       " ((79581, 4), 1),\n",
       " ((79581, 3), 42671),\n",
       " ((79581, 2), 15),\n",
       " ((79580, 14), 7),\n",
       " ((79580, 9), 13)]"
      ]
     },
     "execution_count": 12,
     "metadata": {},
     "output_type": "execute_result"
    }
   ],
   "source": [
    "list(new_ngrams_dict.items())[:10]"
   ]
  },
  {
   "cell_type": "code",
   "execution_count": 13,
   "metadata": {},
   "outputs": [],
   "source": [
    "def build_vocab():\n",
    "    # load pre-computed vocab\n",
    "    with open(base_path + '/mapping.map', 'rb') as f:\n",
    "        word_to_id = pickle.load(f)\n",
    "    id_to_word = dict([(v, k) for (k, v) in word_to_id.items()])\n",
    "    return word_to_id, id_to_word\n",
    "\n",
    "word_to_id, id_to_word = build_vocab()\n"
   ]
  },
  {
   "cell_type": "code",
   "execution_count": 34,
   "metadata": {},
   "outputs": [],
   "source": [
    "def calc_quality(ngrams_dict):\n",
    "    tp = 0\n",
    "    count = 0\n",
    "    for seq in tqdm(test):\n",
    "        for i in range(len(seq)-N):\n",
    "            # to avoid considering empty tokens\n",
    "            # and non-identifiers\n",
    "            if seq[i+1] != 0 and seq[i+2] != 0 and id_to_word[seq[i+2]].isidentifier():\n",
    "                if (seq[i], seq[i+1]) in ngrams_dict \\\n",
    "                        and seq[i+2] == ngrams_dict[(seq[i], seq[i+1])]:\n",
    "                    tp += 1\n",
    "                count += 1\n",
    "    return tp / count\n",
    "        "
   ]
  },
  {
   "cell_type": "code",
   "execution_count": 42,
   "metadata": {},
   "outputs": [
    {
     "name": "stderr",
     "output_type": "stream",
     "text": [
      "100%|██████████| 95687/95687 [00:12<00:00, 7505.28it/s]"
     ]
    },
    {
     "name": "stdout",
     "output_type": "stream",
     "text": [
      "Accuracy: 0.1552\n",
      "Time needed for one prediction is just accessing the dict element, so it's around ~12 sec / ~96000 = 0.0001250 (info from tqdm counter)\n"
     ]
    },
    {
     "name": "stderr",
     "output_type": "stream",
     "text": [
      "\n"
     ]
    }
   ],
   "source": [
    "accuracy = calc_quality(new_ngrams_dict)\n",
    "print('''Accuracy: {:.4f}\n",
    "Time needed for one prediction is just accessing the dict element, so it\\'s around ~12 sec / ~96000 = {:.7f} (info from tqdm counter)'''\\\n",
    ".format(accuracy, 12. / 96000))\n"
   ]
  },
  {
   "cell_type": "code",
   "execution_count": 43,
   "metadata": {
    "scrolled": true
   },
   "outputs": [
    {
     "data": {
      "text/plain": [
       "9281639"
      ]
     },
     "execution_count": 43,
     "metadata": {},
     "output_type": "execute_result"
    }
   ],
   "source": [
    "test.shape[0] * (test.shape[1] - N)"
   ]
  }
 ],
 "metadata": {
  "kernelspec": {
   "display_name": "Python 3",
   "language": "python",
   "name": "python3"
  },
  "language_info": {
   "codemirror_mode": {
    "name": "ipython",
    "version": 3
   },
   "file_extension": ".py",
   "mimetype": "text/x-python",
   "name": "python",
   "nbconvert_exporter": "python",
   "pygments_lexer": "ipython3",
   "version": "3.7.3"
  }
 },
 "nbformat": 4,
 "nbformat_minor": 2
}
